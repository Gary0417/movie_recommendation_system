{
 "cells": [
  {
   "attachments": {},
   "cell_type": "markdown",
   "metadata": {},
   "source": [
    "## Content-Based Filtering"
   ]
  },
  {
   "attachments": {},
   "cell_type": "markdown",
   "metadata": {},
   "source": [
    "### Setup"
   ]
  },
  {
   "attachments": {},
   "cell_type": "markdown",
   "metadata": {},
   "source": [
    "Importing Libraries"
   ]
  },
  {
   "cell_type": "code",
   "execution_count": 1,
   "metadata": {},
   "outputs": [],
   "source": [
    "import ipywidgets as widgets\n",
    "import numpy as np\n",
    "import os\n",
    "import pandas as pd\n",
    "import pickle\n",
    "import torch\n",
    "\n",
    "from IPython.display import display, clear_output\n",
    "from sentence_transformers import SentenceTransformer\n",
    "from sklearn.metrics.pairwise import cosine_similarity"
   ]
  },
  {
   "attachments": {},
   "cell_type": "markdown",
   "metadata": {},
   "source": [
    "Loading Preprocessed Data"
   ]
  },
  {
   "cell_type": "code",
   "execution_count": 2,
   "metadata": {},
   "outputs": [],
   "source": [
    "df = pd.read_csv(\"preprocessed_data/merged_metadata_keywords.csv\")\n",
    "df_qualified = pd.read_csv(\"preprocessed_data/qualified_movies.csv\")"
   ]
  },
  {
   "attachments": {},
   "cell_type": "markdown",
   "metadata": {},
   "source": [
    "### Sentence Embedding Generation and Similarity Calculation"
   ]
  },
  {
   "attachments": {},
   "cell_type": "markdown",
   "metadata": {},
   "source": [
    "Initialize the model with the 'all-MiniLM-L6-v2' pre-trained model"
   ]
  },
  {
   "cell_type": "code",
   "execution_count": 3,
   "metadata": {},
   "outputs": [],
   "source": [
    "if torch.cuda.is_available():\n",
    "    device = \"cuda\"\n",
    "else:\n",
    "    device = \"cpu\"\n",
    "model = SentenceTransformer(\"sentence-transformers/all-MiniLM-L6-v2\").to(device)"
   ]
  },
  {
   "attachments": {},
   "cell_type": "markdown",
   "metadata": {},
   "source": [
    "Encode a list of sentences in the 'soup' column using the pre-trained model"
   ]
  },
  {
   "cell_type": "code",
   "execution_count": null,
   "metadata": {},
   "outputs": [],
   "source": [
    "# Uncomment this cell if you run it for the first time\n",
    "\n",
    "# sentence_embeddings = model.encode(df[\"soup\"].tolist())\n",
    "\n",
    "# folder_name = \"embedding_data_cbf\"\n",
    "\n",
    "# if not os.path.exists(folder_name):\n",
    "#     os.makedirs(folder_name)\n",
    "\n",
    "# with open(f\"{folder_name}\\sentence_embeddings.pkl\", \"wb\") as f:\n",
    "#     pickle.dump(sentence_embeddings, f)"
   ]
  },
  {
   "cell_type": "code",
   "execution_count": 4,
   "metadata": {},
   "outputs": [],
   "source": [
    "folder_name = \"embedding_data_cbf\"\n",
    "\n",
    "# Import sentence_embeddings from the file\n",
    "with open(f\"{folder_name}\\sentence_embeddings.pkl\", \"rb\") as f:\n",
    "    sentence_embeddings = pickle.load(f)"
   ]
  },
  {
   "attachments": {},
   "cell_type": "markdown",
   "metadata": {},
   "source": [
    "Compute cosine similarity"
   ]
  },
  {
   "cell_type": "code",
   "execution_count": null,
   "metadata": {},
   "outputs": [],
   "source": [
    "# Uncomment this cell if you run it for the first time\n",
    "\n",
    "# cos_sim = cosine_similarity(sentence_embeddings)\n",
    "\n",
    "# with open(f\"{folder_name}\\cos_sim.pkl\", \"wb\") as f:\n",
    "#     pickle.dump(cos_sim, f)"
   ]
  },
  {
   "cell_type": "code",
   "execution_count": 5,
   "metadata": {},
   "outputs": [],
   "source": [
    "# Import cos_sim from the file\n",
    "with open(f\"{folder_name}\\cos_sim.pkl\", \"rb\") as f:\n",
    "    cos_sim = pickle.load(f)"
   ]
  },
  {
   "attachments": {},
   "cell_type": "markdown",
   "metadata": {},
   "source": [
    "Construct a reverse map of movie titles to indices"
   ]
  },
  {
   "cell_type": "code",
   "execution_count": 6,
   "metadata": {},
   "outputs": [
    {
     "data": {
      "text/plain": [
       "title\n",
       "toy story                      0\n",
       "jumanji                        1\n",
       "grumpier old men               2\n",
       "waiting to exhale              3\n",
       "father of the bride part ii    4\n",
       "dtype: int64"
      ]
     },
     "execution_count": 6,
     "metadata": {},
     "output_type": "execute_result"
    }
   ],
   "source": [
    "movie_indices = pd.Series(\n",
    "    df.index, index=df[\"title\"].apply(lambda title: title.lower())\n",
    ").drop_duplicates()\n",
    "movie_indices.head()"
   ]
  },
  {
   "attachments": {},
   "cell_type": "markdown",
   "metadata": {},
   "source": [
    "### Pipeline\n",
    "Steps:\n",
    "1. Retrieve the sorted indices of movies based on their similarity scores to a given movie.\n",
    "2. Filter out movies that are not in the qualified movies chart based on IMDB's weighted rating.\n",
    "3. Print out the details of the top 5 most recommended movies."
   ]
  },
  {
   "cell_type": "code",
   "execution_count": 7,
   "metadata": {},
   "outputs": [],
   "source": [
    "def get_sorted_movie_indices(title: str, cos_sim: np.ndarray) -> list[int]:\n",
    "    \"\"\"\n",
    "    Retrieve the sorted indices of movies based on their similarity scores to a given movie.\n",
    "\n",
    "    :param title: The title of the movie to find similar movies for.\n",
    "    :param cos_sim: The cosine similarity matrix of movies.\n",
    "    :return: A list of sorted movie indices.\n",
    "    \"\"\"\n",
    "    try:\n",
    "        # Get the index of the movie that matches the title\n",
    "        movie_index = movie_indices[title.lower()]\n",
    "\n",
    "        # If there are multiple movies with the same title, pick the first one.\n",
    "        if isinstance(movie_index, pd.Series):\n",
    "            movie_index = movie_index[0]\n",
    "\n",
    "    except KeyError:\n",
    "        print(f\"Movie '{title}' not found. Please enter a valid movie title.\")\n",
    "        return None\n",
    "\n",
    "    # Get the pairwise similarity scores of all movies with that movie\n",
    "    sim_scores = list(enumerate(cos_sim[movie_index]))\n",
    "\n",
    "    # Sort the movies based on the similarity scores\n",
    "    sim_scores = sorted(sim_scores, key=lambda x: x[1], reverse=True)[1:]\n",
    "\n",
    "    # Get the movie indices\n",
    "    sorted_movie_indices = [sim_score[0] for sim_score in sim_scores]\n",
    "    \n",
    "    return sorted_movie_indices"
   ]
  },
  {
   "cell_type": "code",
   "execution_count": 8,
   "metadata": {},
   "outputs": [],
   "source": [
    "def get_qualified_movies(df: pd.DataFrame, df_qualified:pd.DataFrame, sorted_movie_indices: list[int]) -> None:\n",
    "    \"\"\"\n",
    "    Filter out movies that are not in the qualified movies chart based on IMDB's weighted rating.\n",
    "\n",
    "    :param df: The DataFrame containing movie details.\n",
    "    :param df_qualified: The DataFrame containing qualified movie details.\n",
    "    :param sorted_movie_indices: A list of movie indices sorted by similarity scores.\n",
    "    \"\"\"\n",
    "    movie_details = [\n",
    "        \"id\",\n",
    "        \"title\",\n",
    "        \"genres\",\n",
    "        \"original_language\",\n",
    "        \"production_countries\",\n",
    "        \"release_date\",\n",
    "        \"overview\",\n",
    "        \"vote_count\",\n",
    "        \"vote_average\",\n",
    "        \"runtime\",\n",
    "    ]\n",
    "\n",
    "    sorted_movies = df.loc[sorted_movie_indices, movie_details]\n",
    "    qualified_movies = sorted_movies[sorted_movies['id'].isin(df_qualified['id'])]\n",
    "    return qualified_movies"
   ]
  },
  {
   "cell_type": "code",
   "execution_count": 9,
   "metadata": {},
   "outputs": [],
   "source": [
    "def get_movie_recommendations_cbf(title: str, num_recommendations: int = 5) -> None:\n",
    "    \"\"\"\n",
    "    Get movie recommendations based on a given title using content-based filtering.\n",
    "\n",
    "    :param title: The title of the movie to find similar movies for.\n",
    "    :param num_recommendations: The number of recommended movies, defaults to 5.\n",
    "    \"\"\"\n",
    "    sorted_movie_indices = get_sorted_movie_indices(title, cos_sim)\n",
    "    qualified_movies = get_qualified_movies(df, df_qualified, sorted_movie_indices)\n",
    "    recommended_movies = qualified_movies.head(num_recommendations)\n",
    "\n",
    "    for _, movie in recommended_movies.iterrows():\n",
    "        # Print the movie details\n",
    "        print(f\"Title: {movie['title']}\")\n",
    "        print(f\"Overview: {movie['overview']}\")\n",
    "        print(f\"Genres: {movie['genres']}\")\n",
    "        print(f\"Original Language: {movie['original_language']}\")\n",
    "        print(f\"Runtime: {int(movie['runtime'])} mins\")\n",
    "        print(f\"Production Countries: {movie['production_countries']}\")\n",
    "        print(f\"Release Date: {movie['release_date']}\")\n",
    "        print(\n",
    "            f\"Rating: {movie['vote_average']} out of 10 ({int(movie['vote_count'])} ratings)\"\n",
    "        )\n",
    "        print(\"\")"
   ]
  },
  {
   "attachments": {},
   "cell_type": "markdown",
   "metadata": {},
   "source": [
    "### Demo"
   ]
  },
  {
   "cell_type": "code",
   "execution_count": null,
   "metadata": {},
   "outputs": [
    {
     "data": {
      "application/vnd.jupyter.widget-view+json": {
       "model_id": "20f94bbe831c48f6a12a2bc7793e401e",
       "version_major": 2,
       "version_minor": 0
      },
      "text/plain": [
       "Text(value='Iron Man', placeholder='Search movie title...')"
      ]
     },
     "metadata": {},
     "output_type": "display_data"
    },
    {
     "data": {
      "application/vnd.jupyter.widget-view+json": {
       "model_id": "a6c45dd66d214f6a9a1f4a80a4370dc0",
       "version_major": 2,
       "version_minor": 0
      },
      "text/plain": [
       "Dropdown(index=1, options=('Tetsuo: The Iron Man', 'Iron Man', 'Iron Man 2', 'The Invincible Iron Man', 'Iron …"
      ]
     },
     "metadata": {},
     "output_type": "display_data"
    },
    {
     "data": {
      "application/vnd.jupyter.widget-view+json": {
       "model_id": "cbf6b3a131cb42e7a1fb7bfe87e7c873",
       "version_major": 2,
       "version_minor": 0
      },
      "text/plain": [
       "Button(description='Get Movie Recommendations', layout=Layout(width='200px'), style=ButtonStyle())"
      ]
     },
     "metadata": {},
     "output_type": "display_data"
    },
    {
     "name": "stdout",
     "output_type": "stream",
     "text": [
      "Title: Iron Man 3\n",
      "Overview: When Tony Stark's world is torn apart by a formidable terrorist called the Mandarin, he starts an odyssey of rebuilding and retribution.\n",
      "Genres: Action, Adventure, Science Fiction\n",
      "Original Language: en\n",
      "Runtime: 130 mins\n",
      "Production Countries: China, United States of America\n",
      "Release Date: 18/4/2013\n",
      "Rating: 6.8 out of 10 (8951 ratings)\n",
      "\n",
      "Title: Iron Man 2\n",
      "Overview: With the world now aware of his dual life as the armored superhero Iron Man, billionaire inventor Tony Stark faces pressure from the government, the press and the public to share his technology with the military. Unwilling to let go of his invention, Stark, with Pepper Potts and James 'Rhodey' Rhodes at his side, must forge new alliances – and confront powerful enemies.\n",
      "Genres: Adventure, Action, Science Fiction\n",
      "Original Language: en\n",
      "Runtime: 124 mins\n",
      "Production Countries: United States of America\n",
      "Release Date: 28/4/2010\n",
      "Rating: 6.6 out of 10 (6969 ratings)\n",
      "\n",
      "Title: Avengers: Age of Ultron\n",
      "Overview: When Tony Stark tries to jumpstart a dormant peacekeeping program, things go awry and Earth’s Mightiest Heroes are put to the ultimate test as the fate of the planet hangs in the balance. As the villainous Ultron emerges, it is up to The Avengers to stop him from enacting his terrible plans, and soon uneasy alliances and unexpected action pave the way for an epic and unique global adventure.\n",
      "Genres: Action, Adventure, Science Fiction\n",
      "Original Language: en\n",
      "Runtime: 141 mins\n",
      "Production Countries: United States of America\n",
      "Release Date: 22/4/2015\n",
      "Rating: 7.3 out of 10 (6908 ratings)\n",
      "\n",
      "Title: Doctor Strange\n",
      "Overview: After his career is destroyed, a brilliant but arrogant surgeon gets a new lease on life when a sorcerer takes him under his wing and trains him to defend the world against evil.\n",
      "Genres: Action, Adventure, Fantasy, Science Fiction\n",
      "Original Language: en\n",
      "Runtime: 115 mins\n",
      "Production Countries: United States of America\n",
      "Release Date: 25/10/2016\n",
      "Rating: 7.1 out of 10 (5880 ratings)\n",
      "\n",
      "Title: Captain America: Civil War\n",
      "Overview: Following the events of Age of Ultron, the collective governments of the world pass an act designed to regulate all superhuman activity. This polarizes opinion amongst the Avengers, causing two factions to side with Iron Man or Captain America, which causes an epic battle between former allies.\n",
      "Genres: Adventure, Action, Science Fiction\n",
      "Original Language: en\n",
      "Runtime: 147 mins\n",
      "Production Countries: United States of America\n",
      "Release Date: 27/4/2016\n",
      "Rating: 7.1 out of 10 (7462 ratings)\n",
      "\n"
     ]
    }
   ],
   "source": [
    "dropdown = widgets.Dropdown(options=df[\"title\"].unique())\n",
    "search_box = widgets.Text(placeholder=\"Search movie title...\")\n",
    "button = widgets.Button(description=\"Get Movie Recommendations\")\n",
    "button.layout.width = \"200px\"\n",
    "\n",
    "\n",
    "def on_search_box_value_change(change):\n",
    "    \"\"\"\n",
    "    Event listener for the search box widget. Updates the dropdown options based on the search query.\n",
    "    \"\"\"\n",
    "\n",
    "    search_value = change.new.lower()\n",
    "    options = df[df[\"title\"].str.lower().str.contains(search_value)][\n",
    "        \"title\"\n",
    "    ].unique()\n",
    "    dropdown.options = options if len(options) > 0 else [\"Movie not found\"]\n",
    "    dropdown.label = options[0] if len(options) > 0 else \"Movie not found\"\n",
    "\n",
    "\n",
    "def on_button_click(button):\n",
    "    \"\"\"\n",
    "    Event listener for the button widget. Displays the recommended movies.\n",
    "    \"\"\"\n",
    "\n",
    "    clear_output()\n",
    "    display(search_box)\n",
    "    display(dropdown)\n",
    "    display(button)\n",
    "    title = dropdown.value\n",
    "\n",
    "    if title != \"Movie not found\":\n",
    "        search_box.value = dropdown.value\n",
    "        get_movie_recommendations_cbf(title)\n",
    "\n",
    "    else:\n",
    "        print(\"Movie Not Found\")\n",
    "\n",
    "\n",
    "# Attach event listeners to the widgets\n",
    "search_box.observe(on_search_box_value_change, names=\"value\")\n",
    "button.on_click(on_button_click)\n",
    "\n",
    "# Display the widgets\n",
    "display(search_box)\n",
    "display(dropdown)\n",
    "display(button)"
   ]
  },
  {
   "cell_type": "code",
   "execution_count": null,
   "metadata": {},
   "outputs": [],
   "source": []
  }
 ],
 "metadata": {
  "kernelspec": {
   "display_name": "rs",
   "language": "python",
   "name": "python3"
  },
  "language_info": {
   "codemirror_mode": {
    "name": "ipython",
    "version": 3
   },
   "file_extension": ".py",
   "mimetype": "text/x-python",
   "name": "python",
   "nbconvert_exporter": "python",
   "pygments_lexer": "ipython3",
   "version": "3.10.0"
  },
  "orig_nbformat": 4
 },
 "nbformat": 4,
 "nbformat_minor": 2
}
