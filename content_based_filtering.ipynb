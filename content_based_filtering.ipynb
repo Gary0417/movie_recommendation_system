{
 "cells": [
  {
   "attachments": {},
   "cell_type": "markdown",
   "metadata": {},
   "source": [
    "## Content-Based Filtering"
   ]
  },
  {
   "attachments": {},
   "cell_type": "markdown",
   "metadata": {},
   "source": [
    "### Setup"
   ]
  },
  {
   "attachments": {},
   "cell_type": "markdown",
   "metadata": {},
   "source": [
    "Importing Libraries"
   ]
  },
  {
   "cell_type": "code",
   "execution_count": 1,
   "metadata": {},
   "outputs": [],
   "source": [
    "import gradio as gr\n",
    "import numpy as np\n",
    "import os\n",
    "import pandas as pd\n",
    "import pickle\n",
    "import torch\n",
    "\n",
    "from sentence_transformers import SentenceTransformer\n",
    "from sklearn.metrics.pairwise import cosine_similarity"
   ]
  },
  {
   "attachments": {},
   "cell_type": "markdown",
   "metadata": {},
   "source": [
    "Loading Preprocessed Data"
   ]
  },
  {
   "cell_type": "code",
   "execution_count": 2,
   "metadata": {},
   "outputs": [],
   "source": [
    "df = pd.read_csv(\"preprocessed_data/merged_metadata_keywords.csv\")\n",
    "df_qualified = pd.read_csv(\"preprocessed_data/qualified_movies.csv\")"
   ]
  },
  {
   "attachments": {},
   "cell_type": "markdown",
   "metadata": {},
   "source": [
    "### Sentence Embedding Generation and Similarity Calculation"
   ]
  },
  {
   "attachments": {},
   "cell_type": "markdown",
   "metadata": {},
   "source": [
    "Initialize the model with the 'all-MiniLM-L6-v2' pre-trained model"
   ]
  },
  {
   "cell_type": "code",
   "execution_count": 3,
   "metadata": {},
   "outputs": [],
   "source": [
    "if torch.cuda.is_available():\n",
    "    device = \"cuda\"\n",
    "else:\n",
    "    device = \"cpu\"\n",
    "model = SentenceTransformer(\"sentence-transformers/all-MiniLM-L6-v2\").to(device)"
   ]
  },
  {
   "attachments": {},
   "cell_type": "markdown",
   "metadata": {},
   "source": [
    "Encode a list of sentences in the 'soup' column using the pre-trained model"
   ]
  },
  {
   "cell_type": "code",
   "execution_count": 4,
   "metadata": {},
   "outputs": [],
   "source": [
    "# Uncomment this cell if you run it for the first time\n",
    "\n",
    "# sentence_embeddings = model.encode(df[\"soup\"].tolist())\n",
    "\n",
    "# folder_name = \"embedding_data_cbf\"\n",
    "\n",
    "# if not os.path.exists(folder_name):\n",
    "#     os.makedirs(folder_name)\n",
    "\n",
    "# with open(f\"{folder_name}\\sentence_embeddings.pkl\", \"wb\") as f:\n",
    "#     pickle.dump(sentence_embeddings, f)"
   ]
  },
  {
   "cell_type": "code",
   "execution_count": 5,
   "metadata": {},
   "outputs": [],
   "source": [
    "folder_name = \"embedding_data_cbf\"\n",
    "\n",
    "# Import sentence_embeddings from the file\n",
    "with open(f\"{folder_name}\\sentence_embeddings.pkl\", \"rb\") as f:\n",
    "    sentence_embeddings = pickle.load(f)"
   ]
  },
  {
   "attachments": {},
   "cell_type": "markdown",
   "metadata": {},
   "source": [
    "Compute cosine similarity"
   ]
  },
  {
   "cell_type": "code",
   "execution_count": 6,
   "metadata": {},
   "outputs": [],
   "source": [
    "# Uncomment this cell if you run it for the first time\n",
    "\n",
    "# cos_sim = cosine_similarity(sentence_embeddings)\n",
    "\n",
    "# with open(f\"{folder_name}\\cos_sim.pkl\", \"wb\") as f:\n",
    "#     pickle.dump(cos_sim, f)"
   ]
  },
  {
   "cell_type": "code",
   "execution_count": 7,
   "metadata": {},
   "outputs": [],
   "source": [
    "# Import cos_sim from the file\n",
    "with open(f\"{folder_name}\\cos_sim.pkl\", \"rb\") as f:\n",
    "    cos_sim = pickle.load(f)"
   ]
  },
  {
   "attachments": {},
   "cell_type": "markdown",
   "metadata": {},
   "source": [
    "Construct a reverse map of movie titles to indices"
   ]
  },
  {
   "cell_type": "code",
   "execution_count": 8,
   "metadata": {},
   "outputs": [
    {
     "data": {
      "text/plain": [
       "title\n",
       "toy story                      0\n",
       "jumanji                        1\n",
       "grumpier old men               2\n",
       "waiting to exhale              3\n",
       "father of the bride part ii    4\n",
       "dtype: int64"
      ]
     },
     "execution_count": 8,
     "metadata": {},
     "output_type": "execute_result"
    }
   ],
   "source": [
    "movie_indices = pd.Series(\n",
    "    df.index, index=df[\"title\"].apply(lambda title: title.lower())\n",
    ").drop_duplicates()\n",
    "movie_indices.head()"
   ]
  },
  {
   "attachments": {},
   "cell_type": "markdown",
   "metadata": {},
   "source": [
    "### Pipeline\n",
    "Steps:\n",
    "1. Retrieve the sorted indices of movies based on their similarity scores to a given movie.\n",
    "2. Filter out movies that are not in the qualified movies chart based on IMDB's weighted rating.\n",
    "3. Print out the details of the top 5 most recommended movies."
   ]
  },
  {
   "cell_type": "code",
   "execution_count": 9,
   "metadata": {},
   "outputs": [],
   "source": [
    "def get_sorted_movie_indices(title: str, cos_sim: np.ndarray) -> list[int]:\n",
    "    \"\"\"\n",
    "    Retrieve the sorted indices of movies based on their similarity scores to a given movie.\n",
    "\n",
    "    :param title: The title of the movie to find similar movies for.\n",
    "    :param cos_sim: The cosine similarity matrix of movies.\n",
    "    :return: A list of sorted movie indices.\n",
    "    \"\"\"\n",
    "    try:\n",
    "        # Get the index of the movie that matches the title\n",
    "        movie_index = movie_indices[title.lower()]\n",
    "\n",
    "        # If there are multiple movies with the same title, pick the first one.\n",
    "        if isinstance(movie_index, pd.Series):\n",
    "            movie_index = movie_index[0]\n",
    "\n",
    "    except KeyError:\n",
    "        print(f\"Movie '{title}' not found. Please enter a valid movie title.\")\n",
    "        return None\n",
    "\n",
    "    # Get the pairwise similarity scores of all movies with that movie\n",
    "    sim_scores = list(enumerate(cos_sim[movie_index]))\n",
    "\n",
    "    # Sort the movies based on the similarity scores\n",
    "    sim_scores = sorted(sim_scores, key=lambda x: x[1], reverse=True)[1:]\n",
    "\n",
    "    # Get the movie indices\n",
    "    sorted_movie_indices = [sim_score[0] for sim_score in sim_scores]\n",
    "\n",
    "    return sorted_movie_indices"
   ]
  },
  {
   "cell_type": "code",
   "execution_count": 10,
   "metadata": {},
   "outputs": [],
   "source": [
    "def get_qualified_movies(\n",
    "    df: pd.DataFrame, df_qualified: pd.DataFrame, sorted_movie_indices: list[int]\n",
    ") -> pd.DataFrame:\n",
    "    \"\"\"\n",
    "    Filter out movies that are not in the qualified movies chart based on IMDB's weighted rating.\n",
    "\n",
    "    :param df: The DataFrame containing movie details.\n",
    "    :param df_qualified: The DataFrame containing qualified movie details.\n",
    "    :param sorted_movie_indices: A list of movie indices sorted by similarity scores.\n",
    "    :return: A Pandas DataFrame containing the qualified movies sorted by similarity scores.\n",
    "    \"\"\"\n",
    "    movie_details = [\n",
    "        \"id\",\n",
    "        \"title\",\n",
    "        \"genres\",\n",
    "        \"original_language\",\n",
    "        \"production_countries\",\n",
    "        \"release_date\",\n",
    "        \"runtime\",\n",
    "    ]\n",
    "\n",
    "    sorted_movies = df.loc[sorted_movie_indices, movie_details]\n",
    "    qualified_movies = sorted_movies[sorted_movies[\"id\"].isin(df_qualified[\"id\"])]\n",
    "    return qualified_movies"
   ]
  },
  {
   "cell_type": "code",
   "execution_count": 11,
   "metadata": {},
   "outputs": [],
   "source": [
    "def get_movie_recommendations_cbf(\n",
    "    title: str, num_recommendations: int = 5\n",
    ") -> pd.DataFrame:\n",
    "    \"\"\"\n",
    "    Get movie recommendations based on a given title using content-based filtering.\n",
    "\n",
    "    :param title: The title of the movie to find similar movies for.\n",
    "    :param num_recommendations: The number of recommended movies, defaults to 5.\n",
    "    :return: A Pandas DataFrame containing the recommended movies\n",
    "    \"\"\"\n",
    "    sorted_movie_indices = get_sorted_movie_indices(title, cos_sim)\n",
    "    qualified_movies = get_qualified_movies(df, df_qualified, sorted_movie_indices)\n",
    "    recommended_movies = qualified_movies.head(num_recommendations)\n",
    "    recommended_movies.columns = [\n",
    "        \"ID\",\n",
    "        \"Title\",\n",
    "        \"Genres\",\n",
    "        \"Language\",\n",
    "        \"Production Countries\",\n",
    "        \"Release Date\",\n",
    "        \"Runtime\",\n",
    "    ]\n",
    "\n",
    "    return recommended_movies"
   ]
  },
  {
   "attachments": {},
   "cell_type": "markdown",
   "metadata": {},
   "source": [
    "### Demo"
   ]
  },
  {
   "cell_type": "code",
   "execution_count": 12,
   "metadata": {},
   "outputs": [
    {
     "name": "stdout",
     "output_type": "stream",
     "text": [
      "Running on local URL:  http://127.0.0.1:7861\n",
      "\n",
      "To create a public link, set `share=True` in `launch()`.\n"
     ]
    },
    {
     "data": {
      "text/html": [
       "<div><iframe src=\"http://127.0.0.1:7861/\" width=\"100%\" height=\"500\" allow=\"autoplay; camera; microphone; clipboard-read; clipboard-write;\" frameborder=\"0\" allowfullscreen></iframe></div>"
      ],
      "text/plain": [
       "<IPython.core.display.HTML object>"
      ]
     },
     "metadata": {},
     "output_type": "display_data"
    },
    {
     "data": {
      "text/plain": []
     },
     "execution_count": 12,
     "metadata": {},
     "output_type": "execute_result"
    }
   ],
   "source": [
    "with gr.Blocks(theme=gr.themes.Soft(text_size=\"lg\")) as demo:\n",
    "    gr.Markdown(\n",
    "        \"\"\"\n",
    "    # Movie Recommendation System\n",
    "    \n",
    "    \"\"\"\n",
    "    )\n",
    "    title = gr.Dropdown(\n",
    "        choices=df[\"title\"].unique().tolist(), label=\"Movie Title\", value=\"Iron Man\"\n",
    "    )\n",
    "    recommend_button = gr.Button(\"Get Movie Recommendations\")\n",
    "    recommended_movies = gr.DataFrame(label=\"Movie Recommendations\")\n",
    "    recommend_button.click(\n",
    "        get_movie_recommendations_cbf, inputs=[title], outputs=recommended_movies\n",
    "    )\n",
    "    examples = gr.Examples(\n",
    "        examples=[\n",
    "            \"Captain America: The First Avenger\",\n",
    "            \"The Conjuring\",\n",
    "            \"Toy Story\",\n",
    "            \"Final Destination 5\",\n",
    "        ],\n",
    "        inputs=[title],\n",
    "    )\n",
    "\n",
    "demo.launch()"
   ]
  },
  {
   "cell_type": "code",
   "execution_count": null,
   "metadata": {},
   "outputs": [],
   "source": []
  }
 ],
 "metadata": {
  "kernelspec": {
   "display_name": "rs",
   "language": "python",
   "name": "python3"
  },
  "language_info": {
   "codemirror_mode": {
    "name": "ipython",
    "version": 3
   },
   "file_extension": ".py",
   "mimetype": "text/x-python",
   "name": "python",
   "nbconvert_exporter": "python",
   "pygments_lexer": "ipython3",
   "version": "3.10.0"
  },
  "orig_nbformat": 4
 },
 "nbformat": 4,
 "nbformat_minor": 2
}
