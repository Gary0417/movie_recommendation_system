{
 "cells": [
  {
   "cell_type": "markdown",
   "id": "10dd744a",
   "metadata": {},
   "source": [
    "## Importing Libraries"
   ]
  },
  {
   "cell_type": "code",
   "execution_count": 1,
   "id": "0ad12315",
   "metadata": {},
   "outputs": [],
   "source": [
    "import ast\n",
    "import ipywidgets as widgets\n",
    "import json\n",
    "import numpy as np\n",
    "import pandas as pd\n",
    "from IPython.display import display, clear_output"
   ]
  },
  {
   "cell_type": "markdown",
   "id": "ce2c9aff",
   "metadata": {},
   "source": [
    "# Metadata"
   ]
  },
  {
   "cell_type": "code",
   "execution_count": 2,
   "id": "9b71a49b",
   "metadata": {
    "scrolled": false
   },
   "outputs": [
    {
     "data": {
      "text/html": [
       "<div>\n",
       "<style scoped>\n",
       "    .dataframe tbody tr th:only-of-type {\n",
       "        vertical-align: middle;\n",
       "    }\n",
       "\n",
       "    .dataframe tbody tr th {\n",
       "        vertical-align: top;\n",
       "    }\n",
       "\n",
       "    .dataframe thead th {\n",
       "        text-align: right;\n",
       "    }\n",
       "</style>\n",
       "<table border=\"1\" class=\"dataframe\">\n",
       "  <thead>\n",
       "    <tr style=\"text-align: right;\">\n",
       "      <th></th>\n",
       "      <th>adult</th>\n",
       "      <th>belongs_to_collection</th>\n",
       "      <th>budget</th>\n",
       "      <th>genres</th>\n",
       "      <th>homepage</th>\n",
       "      <th>id</th>\n",
       "      <th>imdb_id</th>\n",
       "      <th>original_language</th>\n",
       "      <th>original_title</th>\n",
       "      <th>overview</th>\n",
       "      <th>...</th>\n",
       "      <th>release_date</th>\n",
       "      <th>revenue</th>\n",
       "      <th>runtime</th>\n",
       "      <th>spoken_languages</th>\n",
       "      <th>status</th>\n",
       "      <th>tagline</th>\n",
       "      <th>title</th>\n",
       "      <th>video</th>\n",
       "      <th>vote_average</th>\n",
       "      <th>vote_count</th>\n",
       "    </tr>\n",
       "  </thead>\n",
       "  <tbody>\n",
       "    <tr>\n",
       "      <th>0</th>\n",
       "      <td>FALSE</td>\n",
       "      <td>{'id': 10194, 'name': 'Toy Story Collection', ...</td>\n",
       "      <td>30000000</td>\n",
       "      <td>[{'id': 16, 'name': 'Animation'}, {'id': 35, '...</td>\n",
       "      <td>http://toystory.disney.com/toy-story</td>\n",
       "      <td>862</td>\n",
       "      <td>tt0114709</td>\n",
       "      <td>en</td>\n",
       "      <td>Toy Story</td>\n",
       "      <td>Led by Woody, Andy's toys live happily in his ...</td>\n",
       "      <td>...</td>\n",
       "      <td>30/10/1995</td>\n",
       "      <td>373554033.0</td>\n",
       "      <td>81.0</td>\n",
       "      <td>[{'iso_639_1': 'en', 'name': 'English'}]</td>\n",
       "      <td>Released</td>\n",
       "      <td>NaN</td>\n",
       "      <td>Toy Story</td>\n",
       "      <td>False</td>\n",
       "      <td>7.7</td>\n",
       "      <td>5415.0</td>\n",
       "    </tr>\n",
       "    <tr>\n",
       "      <th>1</th>\n",
       "      <td>FALSE</td>\n",
       "      <td>NaN</td>\n",
       "      <td>65000000</td>\n",
       "      <td>[{'id': 12, 'name': 'Adventure'}, {'id': 14, '...</td>\n",
       "      <td>NaN</td>\n",
       "      <td>8844</td>\n",
       "      <td>tt0113497</td>\n",
       "      <td>en</td>\n",
       "      <td>Jumanji</td>\n",
       "      <td>When siblings Judy and Peter discover an encha...</td>\n",
       "      <td>...</td>\n",
       "      <td>15/12/1995</td>\n",
       "      <td>262797249.0</td>\n",
       "      <td>104.0</td>\n",
       "      <td>[{'iso_639_1': 'en', 'name': 'English'}, {'iso...</td>\n",
       "      <td>Released</td>\n",
       "      <td>Roll the dice and unleash the excitement!</td>\n",
       "      <td>Jumanji</td>\n",
       "      <td>False</td>\n",
       "      <td>6.9</td>\n",
       "      <td>2413.0</td>\n",
       "    </tr>\n",
       "    <tr>\n",
       "      <th>2</th>\n",
       "      <td>FALSE</td>\n",
       "      <td>{'id': 119050, 'name': 'Grumpy Old Men Collect...</td>\n",
       "      <td>0</td>\n",
       "      <td>[{'id': 10749, 'name': 'Romance'}, {'id': 35, ...</td>\n",
       "      <td>NaN</td>\n",
       "      <td>15602</td>\n",
       "      <td>tt0113228</td>\n",
       "      <td>en</td>\n",
       "      <td>Grumpier Old Men</td>\n",
       "      <td>A family wedding reignites the ancient feud be...</td>\n",
       "      <td>...</td>\n",
       "      <td>22/12/1995</td>\n",
       "      <td>0.0</td>\n",
       "      <td>101.0</td>\n",
       "      <td>[{'iso_639_1': 'en', 'name': 'English'}]</td>\n",
       "      <td>Released</td>\n",
       "      <td>Still Yelling. Still Fighting. Still Ready for...</td>\n",
       "      <td>Grumpier Old Men</td>\n",
       "      <td>False</td>\n",
       "      <td>6.5</td>\n",
       "      <td>92.0</td>\n",
       "    </tr>\n",
       "    <tr>\n",
       "      <th>3</th>\n",
       "      <td>FALSE</td>\n",
       "      <td>NaN</td>\n",
       "      <td>16000000</td>\n",
       "      <td>[{'id': 35, 'name': 'Comedy'}, {'id': 18, 'nam...</td>\n",
       "      <td>NaN</td>\n",
       "      <td>31357</td>\n",
       "      <td>tt0114885</td>\n",
       "      <td>en</td>\n",
       "      <td>Waiting to Exhale</td>\n",
       "      <td>Cheated on, mistreated and stepped on, the wom...</td>\n",
       "      <td>...</td>\n",
       "      <td>22/12/1995</td>\n",
       "      <td>81452156.0</td>\n",
       "      <td>127.0</td>\n",
       "      <td>[{'iso_639_1': 'en', 'name': 'English'}]</td>\n",
       "      <td>Released</td>\n",
       "      <td>Friends are the people who let you be yourself...</td>\n",
       "      <td>Waiting to Exhale</td>\n",
       "      <td>False</td>\n",
       "      <td>6.1</td>\n",
       "      <td>34.0</td>\n",
       "    </tr>\n",
       "    <tr>\n",
       "      <th>4</th>\n",
       "      <td>FALSE</td>\n",
       "      <td>{'id': 96871, 'name': 'Father of the Bride Col...</td>\n",
       "      <td>0</td>\n",
       "      <td>[{'id': 35, 'name': 'Comedy'}]</td>\n",
       "      <td>NaN</td>\n",
       "      <td>11862</td>\n",
       "      <td>tt0113041</td>\n",
       "      <td>en</td>\n",
       "      <td>Father of the Bride Part II</td>\n",
       "      <td>Just when George Banks has recovered from his ...</td>\n",
       "      <td>...</td>\n",
       "      <td>10/2/1995</td>\n",
       "      <td>76578911.0</td>\n",
       "      <td>106.0</td>\n",
       "      <td>[{'iso_639_1': 'en', 'name': 'English'}]</td>\n",
       "      <td>Released</td>\n",
       "      <td>Just When His World Is Back To Normal... He's ...</td>\n",
       "      <td>Father of the Bride Part II</td>\n",
       "      <td>False</td>\n",
       "      <td>5.7</td>\n",
       "      <td>173.0</td>\n",
       "    </tr>\n",
       "  </tbody>\n",
       "</table>\n",
       "<p>5 rows × 24 columns</p>\n",
       "</div>"
      ],
      "text/plain": [
       "   adult                              belongs_to_collection    budget   \n",
       "0  FALSE  {'id': 10194, 'name': 'Toy Story Collection', ...  30000000  \\\n",
       "1  FALSE                                                NaN  65000000   \n",
       "2  FALSE  {'id': 119050, 'name': 'Grumpy Old Men Collect...         0   \n",
       "3  FALSE                                                NaN  16000000   \n",
       "4  FALSE  {'id': 96871, 'name': 'Father of the Bride Col...         0   \n",
       "\n",
       "                                              genres   \n",
       "0  [{'id': 16, 'name': 'Animation'}, {'id': 35, '...  \\\n",
       "1  [{'id': 12, 'name': 'Adventure'}, {'id': 14, '...   \n",
       "2  [{'id': 10749, 'name': 'Romance'}, {'id': 35, ...   \n",
       "3  [{'id': 35, 'name': 'Comedy'}, {'id': 18, 'nam...   \n",
       "4                     [{'id': 35, 'name': 'Comedy'}]   \n",
       "\n",
       "                               homepage     id    imdb_id original_language   \n",
       "0  http://toystory.disney.com/toy-story    862  tt0114709                en  \\\n",
       "1                                   NaN   8844  tt0113497                en   \n",
       "2                                   NaN  15602  tt0113228                en   \n",
       "3                                   NaN  31357  tt0114885                en   \n",
       "4                                   NaN  11862  tt0113041                en   \n",
       "\n",
       "                original_title   \n",
       "0                    Toy Story  \\\n",
       "1                      Jumanji   \n",
       "2             Grumpier Old Men   \n",
       "3            Waiting to Exhale   \n",
       "4  Father of the Bride Part II   \n",
       "\n",
       "                                            overview  ... release_date   \n",
       "0  Led by Woody, Andy's toys live happily in his ...  ...   30/10/1995  \\\n",
       "1  When siblings Judy and Peter discover an encha...  ...   15/12/1995   \n",
       "2  A family wedding reignites the ancient feud be...  ...   22/12/1995   \n",
       "3  Cheated on, mistreated and stepped on, the wom...  ...   22/12/1995   \n",
       "4  Just when George Banks has recovered from his ...  ...    10/2/1995   \n",
       "\n",
       "       revenue runtime                                   spoken_languages   \n",
       "0  373554033.0    81.0           [{'iso_639_1': 'en', 'name': 'English'}]  \\\n",
       "1  262797249.0   104.0  [{'iso_639_1': 'en', 'name': 'English'}, {'iso...   \n",
       "2          0.0   101.0           [{'iso_639_1': 'en', 'name': 'English'}]   \n",
       "3   81452156.0   127.0           [{'iso_639_1': 'en', 'name': 'English'}]   \n",
       "4   76578911.0   106.0           [{'iso_639_1': 'en', 'name': 'English'}]   \n",
       "\n",
       "     status                                            tagline   \n",
       "0  Released                                                NaN  \\\n",
       "1  Released          Roll the dice and unleash the excitement!   \n",
       "2  Released  Still Yelling. Still Fighting. Still Ready for...   \n",
       "3  Released  Friends are the people who let you be yourself...   \n",
       "4  Released  Just When His World Is Back To Normal... He's ...   \n",
       "\n",
       "                         title  video vote_average vote_count  \n",
       "0                    Toy Story  False          7.7     5415.0  \n",
       "1                      Jumanji  False          6.9     2413.0  \n",
       "2             Grumpier Old Men  False          6.5       92.0  \n",
       "3            Waiting to Exhale  False          6.1       34.0  \n",
       "4  Father of the Bride Part II  False          5.7      173.0  \n",
       "\n",
       "[5 rows x 24 columns]"
      ]
     },
     "execution_count": 2,
     "metadata": {},
     "output_type": "execute_result"
    }
   ],
   "source": [
    "df_metadata_ori = pd.read_csv(\"data/movies_metadata.csv\", low_memory=False)\n",
    "df_metadata_ori.head()"
   ]
  },
  {
   "cell_type": "code",
   "execution_count": 3,
   "id": "ed45b034",
   "metadata": {},
   "outputs": [
    {
     "data": {
      "text/plain": [
       "(45466, 24)"
      ]
     },
     "execution_count": 3,
     "metadata": {},
     "output_type": "execute_result"
    }
   ],
   "source": [
    "df_metadata_ori.shape"
   ]
  },
  {
   "cell_type": "code",
   "execution_count": 4,
   "id": "dc809e10",
   "metadata": {
    "scrolled": false
   },
   "outputs": [
    {
     "name": "stdout",
     "output_type": "stream",
     "text": [
      "<class 'pandas.core.frame.DataFrame'>\n",
      "RangeIndex: 45466 entries, 0 to 45465\n",
      "Data columns (total 24 columns):\n",
      " #   Column                 Non-Null Count  Dtype  \n",
      "---  ------                 --------------  -----  \n",
      " 0   adult                  45466 non-null  object \n",
      " 1   belongs_to_collection  4494 non-null   object \n",
      " 2   budget                 45466 non-null  object \n",
      " 3   genres                 45466 non-null  object \n",
      " 4   homepage               7782 non-null   object \n",
      " 5   id                     45466 non-null  object \n",
      " 6   imdb_id                45449 non-null  object \n",
      " 7   original_language      45455 non-null  object \n",
      " 8   original_title         45466 non-null  object \n",
      " 9   overview               44512 non-null  object \n",
      " 10  popularity             45461 non-null  object \n",
      " 11  poster_path            45080 non-null  object \n",
      " 12  production_companies   45463 non-null  object \n",
      " 13  production_countries   45463 non-null  object \n",
      " 14  release_date           45379 non-null  object \n",
      " 15  revenue                45460 non-null  float64\n",
      " 16  runtime                45203 non-null  float64\n",
      " 17  spoken_languages       45460 non-null  object \n",
      " 18  status                 45379 non-null  object \n",
      " 19  tagline                20412 non-null  object \n",
      " 20  title                  45460 non-null  object \n",
      " 21  video                  45460 non-null  object \n",
      " 22  vote_average           45460 non-null  float64\n",
      " 23  vote_count             45460 non-null  float64\n",
      "dtypes: float64(4), object(20)\n",
      "memory usage: 8.3+ MB\n"
     ]
    }
   ],
   "source": [
    "df_metadata_ori.info()"
   ]
  },
  {
   "cell_type": "markdown",
   "id": "b6066c53",
   "metadata": {},
   "source": [
    "### Checking if there are missing values."
   ]
  },
  {
   "cell_type": "code",
   "execution_count": 5,
   "id": "d5d1945d",
   "metadata": {
    "scrolled": false
   },
   "outputs": [
    {
     "data": {
      "text/plain": [
       "adult                        0\n",
       "belongs_to_collection    40972\n",
       "budget                       0\n",
       "genres                       0\n",
       "homepage                 37684\n",
       "id                           0\n",
       "imdb_id                     17\n",
       "original_language           11\n",
       "original_title               0\n",
       "overview                   954\n",
       "popularity                   5\n",
       "poster_path                386\n",
       "production_companies         3\n",
       "production_countries         3\n",
       "release_date                87\n",
       "revenue                      6\n",
       "runtime                    263\n",
       "spoken_languages             6\n",
       "status                      87\n",
       "tagline                  25054\n",
       "title                        6\n",
       "video                        6\n",
       "vote_average                 6\n",
       "vote_count                   6\n",
       "dtype: int64"
      ]
     },
     "execution_count": 5,
     "metadata": {},
     "output_type": "execute_result"
    }
   ],
   "source": [
    "df_metadata_ori.isnull().sum()"
   ]
  },
  {
   "attachments": {},
   "cell_type": "markdown",
   "id": "9fee1a9a",
   "metadata": {},
   "source": [
    "## Data Preprocessing"
   ]
  },
  {
   "cell_type": "code",
   "execution_count": 6,
   "id": "815f0dbb",
   "metadata": {},
   "outputs": [],
   "source": [
    "df_metadata = df_metadata_ori.copy()"
   ]
  },
  {
   "cell_type": "markdown",
   "id": "264a08eb",
   "metadata": {},
   "source": [
    "### Columns that are needed to build our recommendation system"
   ]
  },
  {
   "cell_type": "code",
   "execution_count": 7,
   "id": "7a92b663",
   "metadata": {},
   "outputs": [],
   "source": [
    "df_metadata = df_metadata[['id', 'title', 'genres', 'original_language', 'overview', 'tagline', 'production_countries', 'release_date', 'status', 'vote_average', 'vote_count', 'runtime']]"
   ]
  },
  {
   "cell_type": "markdown",
   "id": "aca99317",
   "metadata": {},
   "source": [
    "### Check if duplicates titles have same release date "
   ]
  },
  {
   "cell_type": "code",
   "execution_count": 8,
   "id": "3fe07564",
   "metadata": {
    "scrolled": true
   },
   "outputs": [
    {
     "data": {
      "text/plain": [
       "32"
      ]
     },
     "execution_count": 8,
     "metadata": {},
     "output_type": "execute_result"
    }
   ],
   "source": [
    "df_metadata[[\"title\", \"release_date\"]].duplicated().sum()"
   ]
  },
  {
   "cell_type": "markdown",
   "id": "cd395abd",
   "metadata": {},
   "source": [
    "### Number of movies with no overviews"
   ]
  },
  {
   "cell_type": "code",
   "execution_count": 9,
   "id": "b00c4be9",
   "metadata": {
    "scrolled": true
   },
   "outputs": [
    {
     "data": {
      "text/plain": [
       "954"
      ]
     },
     "execution_count": 9,
     "metadata": {},
     "output_type": "execute_result"
    }
   ],
   "source": [
    "df_metadata[df_metadata.overview.isnull()].shape[0]"
   ]
  },
  {
   "attachments": {},
   "cell_type": "markdown",
   "id": "058708d4",
   "metadata": {},
   "source": [
    "### Number of movies that habe not yet been released"
   ]
  },
  {
   "cell_type": "code",
   "execution_count": 10,
   "id": "862c6daa",
   "metadata": {},
   "outputs": [
    {
     "data": {
      "text/plain": [
       "452"
      ]
     },
     "execution_count": 10,
     "metadata": {},
     "output_type": "execute_result"
    }
   ],
   "source": [
    "df_metadata[df_metadata.status != \"Released\"].shape[0]"
   ]
  },
  {
   "cell_type": "markdown",
   "id": "0b539d1e",
   "metadata": {},
   "source": [
    "**TODO:**  \n",
    "\n",
    "We will remove movies which:\n",
    "- have same titles and release date\n",
    "- have no overviews\n",
    "- have not yet been released"
   ]
  },
  {
   "cell_type": "markdown",
   "id": "2ea35358",
   "metadata": {},
   "source": [
    "### Genres and Production Countries"
   ]
  },
  {
   "cell_type": "code",
   "execution_count": 11,
   "id": "b758de57",
   "metadata": {},
   "outputs": [
    {
     "data": {
      "text/plain": [
       "\"[{'id': 16, 'name': 'Animation'}, {'id': 35, 'name': 'Comedy'}, {'id': 10751, 'name': 'Family'}]\""
      ]
     },
     "execution_count": 11,
     "metadata": {},
     "output_type": "execute_result"
    }
   ],
   "source": [
    "df_metadata['genres'][0]"
   ]
  },
  {
   "cell_type": "code",
   "execution_count": 12,
   "id": "41a0db99",
   "metadata": {
    "scrolled": false
   },
   "outputs": [
    {
     "data": {
      "text/plain": [
       "\"[{'iso_3166_1': 'US', 'name': 'United States of America'}]\""
      ]
     },
     "execution_count": 12,
     "metadata": {},
     "output_type": "execute_result"
    }
   ],
   "source": [
    "df_metadata['production_countries'][0]"
   ]
  },
  {
   "attachments": {},
   "cell_type": "markdown",
   "id": "ade9af22",
   "metadata": {},
   "source": [
    "**TODO:**  \n",
    "\n",
    "We need to extract the names from the data."
   ]
  },
  {
   "cell_type": "markdown",
   "id": "7f7642e6",
   "metadata": {},
   "source": [
    "### Extract the movie feature names from the data"
   ]
  },
  {
   "cell_type": "code",
   "execution_count": 13,
   "id": "b987ce42",
   "metadata": {},
   "outputs": [],
   "source": [
    "def extract_names(data: str) -> str:\n",
    "    \"\"\"\n",
    "    Extract the names from the data.\n",
    "\n",
    "    :param data: A string representing a list of objects. Each object should have a \"name\" key.\n",
    "    :return: A string containing the names of the features, separated by commas and spaces.\n",
    "    \n",
    "    **Example:**\n",
    "    >>> extract_names(\"[{'id': 16, 'name': 'Animation'}, {'id': 35, 'name': 'Comedy'}, {'id': 10751, 'name': 'Family'}]\")\n",
    "    'Animation, Comedy, Family'\n",
    "    \"\"\"\n",
    "    if data:\n",
    "        try:\n",
    "            # Convert the input string to a JSON-formatted string\n",
    "            json_str = json.dumps(ast.literal_eval(data))\n",
    "            # Load the JSON-formatted string into a Python object\n",
    "            python_obj = json.loads(json_str)\n",
    "            # Extract the names from the Python object\n",
    "            data_names = [data['name'] for data in python_obj]\n",
    "             # Join the names into a single string separated by spaces\n",
    "            data_names_str = ', '.join(data_names)\n",
    "\n",
    "            return data_names_str\n",
    "        \n",
    "        except TypeError:\n",
    "            return \"\"\n",
    "    else:\n",
    "        # If the input is empty, return an empty string\n",
    "        return \"\""
   ]
  },
  {
   "cell_type": "code",
   "execution_count": 14,
   "id": "2a5bffd2",
   "metadata": {},
   "outputs": [],
   "source": [
    "def clean_movies_data_set(df: pd.DataFrame) -> pd.DataFrame:\n",
    "    \"\"\"\n",
    "    Clean the movies dataset by removing duplicates, null values and non-released movies, and extracting the genre names and production countries from the data.\n",
    "\n",
    "    :param df: The movie dataset to be cleaned\n",
    "    :return: A cleaned pandas DataFrame\n",
    "    \"\"\"\n",
    "    print(f\"The number of movies in the original data set is: {df.shape[0]}\")\n",
    "    \n",
    "    # Removes duplicates titles that have same release date\n",
    "    df.drop_duplicates(subset = ['title', 'release_date'], inplace = True)\n",
    "    \n",
    "    # Removes movies that have no overview or have not yet been released\n",
    "    index_drop = df[(df.overview.isnull()) | (df.status != 'Released')].index\n",
    "    df.drop(index_drop, inplace=True)\n",
    "\n",
    "    # Fills the rows with empty production_countries to NaN\n",
    "    df.loc[df.production_countries == \"[]\", 'production_countries'] = pd.NA\n",
    "    \n",
    "    # Replaces all the null values with empty string\n",
    "    df.fillna(\"\", inplace = True)\n",
    "    \n",
    "    # Extracts the genre names and production countries from the data\n",
    "    df['genres'] = df['genres'].apply(extract_names)\n",
    "    df['production_countries'] = df['production_countries'].apply(extract_names)\n",
    "\n",
    "    print(f\"The number of movies in the cleaned data set is: {df.shape[0]}\")\n",
    "    \n",
    "    return df"
   ]
  },
  {
   "cell_type": "code",
   "execution_count": 15,
   "id": "7a88b83c",
   "metadata": {
    "scrolled": true
   },
   "outputs": [
    {
     "name": "stdout",
     "output_type": "stream",
     "text": [
      "The number of movies in the original data set is: 45466\n",
      "The number of movies in the cleaned data set is: 44065\n"
     ]
    }
   ],
   "source": [
    "df_metadata = clean_movies_data_set(df_metadata)"
   ]
  },
  {
   "cell_type": "code",
   "execution_count": 16,
   "id": "42a5c734",
   "metadata": {
    "scrolled": false
   },
   "outputs": [
    {
     "data": {
      "text/html": [
       "<div>\n",
       "<style scoped>\n",
       "    .dataframe tbody tr th:only-of-type {\n",
       "        vertical-align: middle;\n",
       "    }\n",
       "\n",
       "    .dataframe tbody tr th {\n",
       "        vertical-align: top;\n",
       "    }\n",
       "\n",
       "    .dataframe thead th {\n",
       "        text-align: right;\n",
       "    }\n",
       "</style>\n",
       "<table border=\"1\" class=\"dataframe\">\n",
       "  <thead>\n",
       "    <tr style=\"text-align: right;\">\n",
       "      <th></th>\n",
       "      <th>id</th>\n",
       "      <th>title</th>\n",
       "      <th>genres</th>\n",
       "      <th>original_language</th>\n",
       "      <th>overview</th>\n",
       "      <th>tagline</th>\n",
       "      <th>production_countries</th>\n",
       "      <th>release_date</th>\n",
       "      <th>status</th>\n",
       "      <th>vote_average</th>\n",
       "      <th>vote_count</th>\n",
       "      <th>runtime</th>\n",
       "    </tr>\n",
       "  </thead>\n",
       "  <tbody>\n",
       "    <tr>\n",
       "      <th>0</th>\n",
       "      <td>862</td>\n",
       "      <td>Toy Story</td>\n",
       "      <td>Animation, Comedy, Family</td>\n",
       "      <td>en</td>\n",
       "      <td>Led by Woody, Andy's toys live happily in his ...</td>\n",
       "      <td></td>\n",
       "      <td>United States of America</td>\n",
       "      <td>30/10/1995</td>\n",
       "      <td>Released</td>\n",
       "      <td>7.7</td>\n",
       "      <td>5415.0</td>\n",
       "      <td>81.0</td>\n",
       "    </tr>\n",
       "    <tr>\n",
       "      <th>1</th>\n",
       "      <td>8844</td>\n",
       "      <td>Jumanji</td>\n",
       "      <td>Adventure, Fantasy, Family</td>\n",
       "      <td>en</td>\n",
       "      <td>When siblings Judy and Peter discover an encha...</td>\n",
       "      <td>Roll the dice and unleash the excitement!</td>\n",
       "      <td>United States of America</td>\n",
       "      <td>15/12/1995</td>\n",
       "      <td>Released</td>\n",
       "      <td>6.9</td>\n",
       "      <td>2413.0</td>\n",
       "      <td>104.0</td>\n",
       "    </tr>\n",
       "    <tr>\n",
       "      <th>2</th>\n",
       "      <td>15602</td>\n",
       "      <td>Grumpier Old Men</td>\n",
       "      <td>Romance, Comedy</td>\n",
       "      <td>en</td>\n",
       "      <td>A family wedding reignites the ancient feud be...</td>\n",
       "      <td>Still Yelling. Still Fighting. Still Ready for...</td>\n",
       "      <td>United States of America</td>\n",
       "      <td>22/12/1995</td>\n",
       "      <td>Released</td>\n",
       "      <td>6.5</td>\n",
       "      <td>92.0</td>\n",
       "      <td>101.0</td>\n",
       "    </tr>\n",
       "    <tr>\n",
       "      <th>3</th>\n",
       "      <td>31357</td>\n",
       "      <td>Waiting to Exhale</td>\n",
       "      <td>Comedy, Drama, Romance</td>\n",
       "      <td>en</td>\n",
       "      <td>Cheated on, mistreated and stepped on, the wom...</td>\n",
       "      <td>Friends are the people who let you be yourself...</td>\n",
       "      <td>United States of America</td>\n",
       "      <td>22/12/1995</td>\n",
       "      <td>Released</td>\n",
       "      <td>6.1</td>\n",
       "      <td>34.0</td>\n",
       "      <td>127.0</td>\n",
       "    </tr>\n",
       "    <tr>\n",
       "      <th>4</th>\n",
       "      <td>11862</td>\n",
       "      <td>Father of the Bride Part II</td>\n",
       "      <td>Comedy</td>\n",
       "      <td>en</td>\n",
       "      <td>Just when George Banks has recovered from his ...</td>\n",
       "      <td>Just When His World Is Back To Normal... He's ...</td>\n",
       "      <td>United States of America</td>\n",
       "      <td>10/2/1995</td>\n",
       "      <td>Released</td>\n",
       "      <td>5.7</td>\n",
       "      <td>173.0</td>\n",
       "      <td>106.0</td>\n",
       "    </tr>\n",
       "  </tbody>\n",
       "</table>\n",
       "</div>"
      ],
      "text/plain": [
       "      id                        title                      genres   \n",
       "0    862                    Toy Story   Animation, Comedy, Family  \\\n",
       "1   8844                      Jumanji  Adventure, Fantasy, Family   \n",
       "2  15602             Grumpier Old Men             Romance, Comedy   \n",
       "3  31357            Waiting to Exhale      Comedy, Drama, Romance   \n",
       "4  11862  Father of the Bride Part II                      Comedy   \n",
       "\n",
       "  original_language                                           overview   \n",
       "0                en  Led by Woody, Andy's toys live happily in his ...  \\\n",
       "1                en  When siblings Judy and Peter discover an encha...   \n",
       "2                en  A family wedding reignites the ancient feud be...   \n",
       "3                en  Cheated on, mistreated and stepped on, the wom...   \n",
       "4                en  Just when George Banks has recovered from his ...   \n",
       "\n",
       "                                             tagline   \n",
       "0                                                     \\\n",
       "1          Roll the dice and unleash the excitement!   \n",
       "2  Still Yelling. Still Fighting. Still Ready for...   \n",
       "3  Friends are the people who let you be yourself...   \n",
       "4  Just When His World Is Back To Normal... He's ...   \n",
       "\n",
       "       production_countries release_date    status  vote_average  vote_count   \n",
       "0  United States of America   30/10/1995  Released           7.7      5415.0  \\\n",
       "1  United States of America   15/12/1995  Released           6.9      2413.0   \n",
       "2  United States of America   22/12/1995  Released           6.5        92.0   \n",
       "3  United States of America   22/12/1995  Released           6.1        34.0   \n",
       "4  United States of America    10/2/1995  Released           5.7       173.0   \n",
       "\n",
       "   runtime  \n",
       "0     81.0  \n",
       "1    104.0  \n",
       "2    101.0  \n",
       "3    127.0  \n",
       "4    106.0  "
      ]
     },
     "execution_count": 16,
     "metadata": {},
     "output_type": "execute_result"
    }
   ],
   "source": [
    "df_metadata.head()"
   ]
  },
  {
   "cell_type": "markdown",
   "id": "a201baab",
   "metadata": {},
   "source": [
    "# Keywords"
   ]
  },
  {
   "cell_type": "code",
   "execution_count": 17,
   "id": "9e41bd92",
   "metadata": {},
   "outputs": [],
   "source": [
    "df_keywords = pd.read_csv('data/keywords.csv')"
   ]
  },
  {
   "cell_type": "code",
   "execution_count": 18,
   "id": "cb78d0b1",
   "metadata": {},
   "outputs": [],
   "source": [
    "df_keywords = df_keywords.drop_duplicates()"
   ]
  },
  {
   "cell_type": "code",
   "execution_count": 19,
   "id": "6313c12c",
   "metadata": {
    "scrolled": true
   },
   "outputs": [
    {
     "data": {
      "text/plain": [
       "(45432, 2)"
      ]
     },
     "execution_count": 19,
     "metadata": {},
     "output_type": "execute_result"
    }
   ],
   "source": [
    "df_keywords.shape"
   ]
  },
  {
   "cell_type": "code",
   "execution_count": 20,
   "id": "69aabf7f",
   "metadata": {},
   "outputs": [
    {
     "data": {
      "text/html": [
       "<div>\n",
       "<style scoped>\n",
       "    .dataframe tbody tr th:only-of-type {\n",
       "        vertical-align: middle;\n",
       "    }\n",
       "\n",
       "    .dataframe tbody tr th {\n",
       "        vertical-align: top;\n",
       "    }\n",
       "\n",
       "    .dataframe thead th {\n",
       "        text-align: right;\n",
       "    }\n",
       "</style>\n",
       "<table border=\"1\" class=\"dataframe\">\n",
       "  <thead>\n",
       "    <tr style=\"text-align: right;\">\n",
       "      <th></th>\n",
       "      <th>id</th>\n",
       "      <th>keywords</th>\n",
       "    </tr>\n",
       "  </thead>\n",
       "  <tbody>\n",
       "    <tr>\n",
       "      <th>0</th>\n",
       "      <td>862</td>\n",
       "      <td>[{'id': 931, 'name': 'jealousy'}, {'id': 4290,...</td>\n",
       "    </tr>\n",
       "    <tr>\n",
       "      <th>1</th>\n",
       "      <td>8844</td>\n",
       "      <td>[{'id': 10090, 'name': 'board game'}, {'id': 1...</td>\n",
       "    </tr>\n",
       "    <tr>\n",
       "      <th>2</th>\n",
       "      <td>15602</td>\n",
       "      <td>[{'id': 1495, 'name': 'fishing'}, {'id': 12392...</td>\n",
       "    </tr>\n",
       "    <tr>\n",
       "      <th>3</th>\n",
       "      <td>31357</td>\n",
       "      <td>[{'id': 818, 'name': 'based on novel'}, {'id':...</td>\n",
       "    </tr>\n",
       "    <tr>\n",
       "      <th>4</th>\n",
       "      <td>11862</td>\n",
       "      <td>[{'id': 1009, 'name': 'baby'}, {'id': 1599, 'n...</td>\n",
       "    </tr>\n",
       "  </tbody>\n",
       "</table>\n",
       "</div>"
      ],
      "text/plain": [
       "      id                                           keywords\n",
       "0    862  [{'id': 931, 'name': 'jealousy'}, {'id': 4290,...\n",
       "1   8844  [{'id': 10090, 'name': 'board game'}, {'id': 1...\n",
       "2  15602  [{'id': 1495, 'name': 'fishing'}, {'id': 12392...\n",
       "3  31357  [{'id': 818, 'name': 'based on novel'}, {'id':...\n",
       "4  11862  [{'id': 1009, 'name': 'baby'}, {'id': 1599, 'n..."
      ]
     },
     "execution_count": 20,
     "metadata": {},
     "output_type": "execute_result"
    }
   ],
   "source": [
    "df_keywords.head()"
   ]
  },
  {
   "cell_type": "code",
   "execution_count": 21,
   "id": "fbc8cf4c",
   "metadata": {},
   "outputs": [
    {
     "data": {
      "text/plain": [
       "\"[{'id': 931, 'name': 'jealousy'}, {'id': 4290, 'name': 'toy'}, {'id': 5202, 'name': 'boy'}, {'id': 6054, 'name': 'friendship'}, {'id': 9713, 'name': 'friends'}, {'id': 9823, 'name': 'rivalry'}, {'id': 165503, 'name': 'boy next door'}, {'id': 170722, 'name': 'new toy'}, {'id': 187065, 'name': 'toy comes to life'}]\""
      ]
     },
     "execution_count": 21,
     "metadata": {},
     "output_type": "execute_result"
    }
   ],
   "source": [
    "df_keywords.keywords[0]"
   ]
  },
  {
   "cell_type": "markdown",
   "id": "d83f75d0",
   "metadata": {},
   "source": [
    "### Extract keywords"
   ]
  },
  {
   "cell_type": "code",
   "execution_count": 22,
   "id": "4c5ab9e9",
   "metadata": {},
   "outputs": [],
   "source": [
    "df_keywords['keywords'] = df_keywords['keywords'].apply(extract_names)"
   ]
  },
  {
   "cell_type": "code",
   "execution_count": 23,
   "id": "b66a5369",
   "metadata": {},
   "outputs": [
    {
     "data": {
      "text/plain": [
       "'jealousy, toy, boy, friendship, friends, rivalry, boy next door, new toy, toy comes to life'"
      ]
     },
     "execution_count": 23,
     "metadata": {},
     "output_type": "execute_result"
    }
   ],
   "source": [
    "df_keywords.keywords[0]"
   ]
  },
  {
   "cell_type": "code",
   "execution_count": 24,
   "id": "bb7f7692",
   "metadata": {
    "scrolled": false
   },
   "outputs": [
    {
     "data": {
      "text/html": [
       "<div>\n",
       "<style scoped>\n",
       "    .dataframe tbody tr th:only-of-type {\n",
       "        vertical-align: middle;\n",
       "    }\n",
       "\n",
       "    .dataframe tbody tr th {\n",
       "        vertical-align: top;\n",
       "    }\n",
       "\n",
       "    .dataframe thead th {\n",
       "        text-align: right;\n",
       "    }\n",
       "</style>\n",
       "<table border=\"1\" class=\"dataframe\">\n",
       "  <thead>\n",
       "    <tr style=\"text-align: right;\">\n",
       "      <th></th>\n",
       "      <th>id</th>\n",
       "      <th>keywords</th>\n",
       "    </tr>\n",
       "  </thead>\n",
       "  <tbody>\n",
       "    <tr>\n",
       "      <th>0</th>\n",
       "      <td>862</td>\n",
       "      <td>jealousy, toy, boy, friendship, friends, rival...</td>\n",
       "    </tr>\n",
       "    <tr>\n",
       "      <th>1</th>\n",
       "      <td>8844</td>\n",
       "      <td>board game, disappearance, based on children's...</td>\n",
       "    </tr>\n",
       "    <tr>\n",
       "      <th>2</th>\n",
       "      <td>15602</td>\n",
       "      <td>fishing, best friend, duringcreditsstinger, ol...</td>\n",
       "    </tr>\n",
       "    <tr>\n",
       "      <th>3</th>\n",
       "      <td>31357</td>\n",
       "      <td>based on novel, interracial relationship, sing...</td>\n",
       "    </tr>\n",
       "    <tr>\n",
       "      <th>4</th>\n",
       "      <td>11862</td>\n",
       "      <td>baby, midlife crisis, confidence, aging, daugh...</td>\n",
       "    </tr>\n",
       "  </tbody>\n",
       "</table>\n",
       "</div>"
      ],
      "text/plain": [
       "      id                                           keywords\n",
       "0    862  jealousy, toy, boy, friendship, friends, rival...\n",
       "1   8844  board game, disappearance, based on children's...\n",
       "2  15602  fishing, best friend, duringcreditsstinger, ol...\n",
       "3  31357  based on novel, interracial relationship, sing...\n",
       "4  11862  baby, midlife crisis, confidence, aging, daugh..."
      ]
     },
     "execution_count": 24,
     "metadata": {},
     "output_type": "execute_result"
    }
   ],
   "source": [
    "df_keywords.head()"
   ]
  },
  {
   "cell_type": "markdown",
   "id": "3984a2b0",
   "metadata": {},
   "source": [
    "## Merge two data frames"
   ]
  },
  {
   "cell_type": "code",
   "execution_count": 25,
   "id": "50bc1fd3",
   "metadata": {},
   "outputs": [],
   "source": [
    "df_metadata['id'] = df_metadata['id'].astype(str)\n",
    "df_keywords['id'] = df_keywords['id'].astype(str)\n",
    "df_merge = pd.merge(df_keywords, df_metadata, on='id', how='inner')"
   ]
  },
  {
   "cell_type": "code",
   "execution_count": 26,
   "id": "f0b4fcaa",
   "metadata": {},
   "outputs": [
    {
     "data": {
      "text/html": [
       "<div>\n",
       "<style scoped>\n",
       "    .dataframe tbody tr th:only-of-type {\n",
       "        vertical-align: middle;\n",
       "    }\n",
       "\n",
       "    .dataframe tbody tr th {\n",
       "        vertical-align: top;\n",
       "    }\n",
       "\n",
       "    .dataframe thead th {\n",
       "        text-align: right;\n",
       "    }\n",
       "</style>\n",
       "<table border=\"1\" class=\"dataframe\">\n",
       "  <thead>\n",
       "    <tr style=\"text-align: right;\">\n",
       "      <th></th>\n",
       "      <th>id</th>\n",
       "      <th>keywords</th>\n",
       "      <th>title</th>\n",
       "      <th>genres</th>\n",
       "      <th>original_language</th>\n",
       "      <th>overview</th>\n",
       "      <th>tagline</th>\n",
       "      <th>production_countries</th>\n",
       "      <th>release_date</th>\n",
       "      <th>status</th>\n",
       "      <th>vote_average</th>\n",
       "      <th>vote_count</th>\n",
       "      <th>runtime</th>\n",
       "    </tr>\n",
       "  </thead>\n",
       "  <tbody>\n",
       "    <tr>\n",
       "      <th>0</th>\n",
       "      <td>862</td>\n",
       "      <td>jealousy, toy, boy, friendship, friends, rival...</td>\n",
       "      <td>Toy Story</td>\n",
       "      <td>Animation, Comedy, Family</td>\n",
       "      <td>en</td>\n",
       "      <td>Led by Woody, Andy's toys live happily in his ...</td>\n",
       "      <td></td>\n",
       "      <td>United States of America</td>\n",
       "      <td>30/10/1995</td>\n",
       "      <td>Released</td>\n",
       "      <td>7.7</td>\n",
       "      <td>5415.0</td>\n",
       "      <td>81.0</td>\n",
       "    </tr>\n",
       "    <tr>\n",
       "      <th>1</th>\n",
       "      <td>8844</td>\n",
       "      <td>board game, disappearance, based on children's...</td>\n",
       "      <td>Jumanji</td>\n",
       "      <td>Adventure, Fantasy, Family</td>\n",
       "      <td>en</td>\n",
       "      <td>When siblings Judy and Peter discover an encha...</td>\n",
       "      <td>Roll the dice and unleash the excitement!</td>\n",
       "      <td>United States of America</td>\n",
       "      <td>15/12/1995</td>\n",
       "      <td>Released</td>\n",
       "      <td>6.9</td>\n",
       "      <td>2413.0</td>\n",
       "      <td>104.0</td>\n",
       "    </tr>\n",
       "    <tr>\n",
       "      <th>2</th>\n",
       "      <td>15602</td>\n",
       "      <td>fishing, best friend, duringcreditsstinger, ol...</td>\n",
       "      <td>Grumpier Old Men</td>\n",
       "      <td>Romance, Comedy</td>\n",
       "      <td>en</td>\n",
       "      <td>A family wedding reignites the ancient feud be...</td>\n",
       "      <td>Still Yelling. Still Fighting. Still Ready for...</td>\n",
       "      <td>United States of America</td>\n",
       "      <td>22/12/1995</td>\n",
       "      <td>Released</td>\n",
       "      <td>6.5</td>\n",
       "      <td>92.0</td>\n",
       "      <td>101.0</td>\n",
       "    </tr>\n",
       "    <tr>\n",
       "      <th>3</th>\n",
       "      <td>31357</td>\n",
       "      <td>based on novel, interracial relationship, sing...</td>\n",
       "      <td>Waiting to Exhale</td>\n",
       "      <td>Comedy, Drama, Romance</td>\n",
       "      <td>en</td>\n",
       "      <td>Cheated on, mistreated and stepped on, the wom...</td>\n",
       "      <td>Friends are the people who let you be yourself...</td>\n",
       "      <td>United States of America</td>\n",
       "      <td>22/12/1995</td>\n",
       "      <td>Released</td>\n",
       "      <td>6.1</td>\n",
       "      <td>34.0</td>\n",
       "      <td>127.0</td>\n",
       "    </tr>\n",
       "    <tr>\n",
       "      <th>4</th>\n",
       "      <td>11862</td>\n",
       "      <td>baby, midlife crisis, confidence, aging, daugh...</td>\n",
       "      <td>Father of the Bride Part II</td>\n",
       "      <td>Comedy</td>\n",
       "      <td>en</td>\n",
       "      <td>Just when George Banks has recovered from his ...</td>\n",
       "      <td>Just When His World Is Back To Normal... He's ...</td>\n",
       "      <td>United States of America</td>\n",
       "      <td>10/2/1995</td>\n",
       "      <td>Released</td>\n",
       "      <td>5.7</td>\n",
       "      <td>173.0</td>\n",
       "      <td>106.0</td>\n",
       "    </tr>\n",
       "  </tbody>\n",
       "</table>\n",
       "</div>"
      ],
      "text/plain": [
       "      id                                           keywords   \n",
       "0    862  jealousy, toy, boy, friendship, friends, rival...  \\\n",
       "1   8844  board game, disappearance, based on children's...   \n",
       "2  15602  fishing, best friend, duringcreditsstinger, ol...   \n",
       "3  31357  based on novel, interracial relationship, sing...   \n",
       "4  11862  baby, midlife crisis, confidence, aging, daugh...   \n",
       "\n",
       "                         title                      genres original_language   \n",
       "0                    Toy Story   Animation, Comedy, Family                en  \\\n",
       "1                      Jumanji  Adventure, Fantasy, Family                en   \n",
       "2             Grumpier Old Men             Romance, Comedy                en   \n",
       "3            Waiting to Exhale      Comedy, Drama, Romance                en   \n",
       "4  Father of the Bride Part II                      Comedy                en   \n",
       "\n",
       "                                            overview   \n",
       "0  Led by Woody, Andy's toys live happily in his ...  \\\n",
       "1  When siblings Judy and Peter discover an encha...   \n",
       "2  A family wedding reignites the ancient feud be...   \n",
       "3  Cheated on, mistreated and stepped on, the wom...   \n",
       "4  Just when George Banks has recovered from his ...   \n",
       "\n",
       "                                             tagline   \n",
       "0                                                     \\\n",
       "1          Roll the dice and unleash the excitement!   \n",
       "2  Still Yelling. Still Fighting. Still Ready for...   \n",
       "3  Friends are the people who let you be yourself...   \n",
       "4  Just When His World Is Back To Normal... He's ...   \n",
       "\n",
       "       production_countries release_date    status  vote_average  vote_count   \n",
       "0  United States of America   30/10/1995  Released           7.7      5415.0  \\\n",
       "1  United States of America   15/12/1995  Released           6.9      2413.0   \n",
       "2  United States of America   22/12/1995  Released           6.5        92.0   \n",
       "3  United States of America   22/12/1995  Released           6.1        34.0   \n",
       "4  United States of America    10/2/1995  Released           5.7       173.0   \n",
       "\n",
       "   runtime  \n",
       "0     81.0  \n",
       "1    104.0  \n",
       "2    101.0  \n",
       "3    127.0  \n",
       "4    106.0  "
      ]
     },
     "execution_count": 26,
     "metadata": {},
     "output_type": "execute_result"
    }
   ],
   "source": [
    "df_merge.head()"
   ]
  },
  {
   "cell_type": "code",
   "execution_count": 27,
   "id": "70507838",
   "metadata": {},
   "outputs": [
    {
     "data": {
      "text/plain": [
       "(44064, 13)"
      ]
     },
     "execution_count": 27,
     "metadata": {},
     "output_type": "execute_result"
    }
   ],
   "source": [
    "df_merge.shape"
   ]
  },
  {
   "cell_type": "code",
   "execution_count": 28,
   "id": "5ec842dd",
   "metadata": {},
   "outputs": [
    {
     "name": "stdout",
     "output_type": "stream",
     "text": [
      "<class 'pandas.core.frame.DataFrame'>\n",
      "RangeIndex: 44064 entries, 0 to 44063\n",
      "Data columns (total 13 columns):\n",
      " #   Column                Non-Null Count  Dtype  \n",
      "---  ------                --------------  -----  \n",
      " 0   id                    44064 non-null  object \n",
      " 1   keywords              44064 non-null  object \n",
      " 2   title                 44064 non-null  object \n",
      " 3   genres                44064 non-null  object \n",
      " 4   original_language     44064 non-null  object \n",
      " 5   overview              44064 non-null  object \n",
      " 6   tagline               44064 non-null  object \n",
      " 7   production_countries  44064 non-null  object \n",
      " 8   release_date          44064 non-null  object \n",
      " 9   status                44064 non-null  object \n",
      " 10  vote_average          44064 non-null  float64\n",
      " 11  vote_count            44064 non-null  float64\n",
      " 12  runtime               44064 non-null  float64\n",
      "dtypes: float64(3), object(10)\n",
      "memory usage: 4.4+ MB\n"
     ]
    }
   ],
   "source": [
    "df_merge.info()"
   ]
  },
  {
   "attachments": {},
   "cell_type": "markdown",
   "id": "364ba10d",
   "metadata": {},
   "source": [
    "# Content-Based Filtering"
   ]
  },
  {
   "attachments": {},
   "cell_type": "markdown",
   "id": "d033eb67",
   "metadata": {},
   "source": [
    "### Create a new column named 'soup', which is a string contains all the data that we want to feed to the model.  \n",
    "- Soup: genres, original language, overview, tagline, keywords,  production countries"
   ]
  },
  {
   "cell_type": "code",
   "execution_count": 29,
   "id": "fde8b913",
   "metadata": {},
   "outputs": [],
   "source": [
    "def create_soup(movie: pd.Series) -> str:\n",
    "    \"\"\"\n",
    "    Concatenates several movies features into a single string to create a soup of text.\n",
    "\n",
    "    :param movie: movie containing features to concatenate\n",
    "    :return: A string containing the concatenated movie features.\n",
    "    \"\"\"\n",
    "    return (movie.genres + \" \"+ movie.original_language + \" \"  \\\n",
    "            + movie.overview + \" \" + movie.tagline + \" \" + movie.keywords + \" \" \\\n",
    "            + movie.production_countries).lower()"
   ]
  },
  {
   "cell_type": "code",
   "execution_count": 30,
   "id": "1cd8993e",
   "metadata": {},
   "outputs": [],
   "source": [
    "df_merge[\"soup\"] = df_merge.apply(create_soup, axis = 1)"
   ]
  },
  {
   "cell_type": "code",
   "execution_count": 31,
   "id": "9e511479",
   "metadata": {},
   "outputs": [
    {
     "data": {
      "text/plain": [
       "\"animation, comedy, family en led by woody, andy's toys live happily in his room until andy's birthday brings buzz lightyear onto the scene. afraid of losing his place in andy's heart, woody plots against buzz. but when circumstances separate buzz and woody from their owner, the duo eventually learns to put aside their differences.  jealousy, toy, boy, friendship, friends, rivalry, boy next door, new toy, toy comes to life united states of america\""
      ]
     },
     "execution_count": 31,
     "metadata": {},
     "output_type": "execute_result"
    }
   ],
   "source": [
    "df_merge.soup[0]"
   ]
  },
  {
   "cell_type": "code",
   "execution_count": 32,
   "id": "da5b2b13",
   "metadata": {},
   "outputs": [
    {
     "data": {
      "text/html": [
       "<div>\n",
       "<style scoped>\n",
       "    .dataframe tbody tr th:only-of-type {\n",
       "        vertical-align: middle;\n",
       "    }\n",
       "\n",
       "    .dataframe tbody tr th {\n",
       "        vertical-align: top;\n",
       "    }\n",
       "\n",
       "    .dataframe thead th {\n",
       "        text-align: right;\n",
       "    }\n",
       "</style>\n",
       "<table border=\"1\" class=\"dataframe\">\n",
       "  <thead>\n",
       "    <tr style=\"text-align: right;\">\n",
       "      <th></th>\n",
       "      <th>id</th>\n",
       "      <th>keywords</th>\n",
       "      <th>title</th>\n",
       "      <th>genres</th>\n",
       "      <th>original_language</th>\n",
       "      <th>overview</th>\n",
       "      <th>tagline</th>\n",
       "      <th>production_countries</th>\n",
       "      <th>release_date</th>\n",
       "      <th>status</th>\n",
       "      <th>vote_average</th>\n",
       "      <th>vote_count</th>\n",
       "      <th>runtime</th>\n",
       "      <th>soup</th>\n",
       "    </tr>\n",
       "  </thead>\n",
       "  <tbody>\n",
       "    <tr>\n",
       "      <th>0</th>\n",
       "      <td>862</td>\n",
       "      <td>jealousy, toy, boy, friendship, friends, rival...</td>\n",
       "      <td>Toy Story</td>\n",
       "      <td>Animation, Comedy, Family</td>\n",
       "      <td>en</td>\n",
       "      <td>Led by Woody, Andy's toys live happily in his ...</td>\n",
       "      <td></td>\n",
       "      <td>United States of America</td>\n",
       "      <td>30/10/1995</td>\n",
       "      <td>Released</td>\n",
       "      <td>7.7</td>\n",
       "      <td>5415.0</td>\n",
       "      <td>81.0</td>\n",
       "      <td>animation, comedy, family en led by woody, and...</td>\n",
       "    </tr>\n",
       "    <tr>\n",
       "      <th>1</th>\n",
       "      <td>8844</td>\n",
       "      <td>board game, disappearance, based on children's...</td>\n",
       "      <td>Jumanji</td>\n",
       "      <td>Adventure, Fantasy, Family</td>\n",
       "      <td>en</td>\n",
       "      <td>When siblings Judy and Peter discover an encha...</td>\n",
       "      <td>Roll the dice and unleash the excitement!</td>\n",
       "      <td>United States of America</td>\n",
       "      <td>15/12/1995</td>\n",
       "      <td>Released</td>\n",
       "      <td>6.9</td>\n",
       "      <td>2413.0</td>\n",
       "      <td>104.0</td>\n",
       "      <td>adventure, fantasy, family en when siblings ju...</td>\n",
       "    </tr>\n",
       "    <tr>\n",
       "      <th>2</th>\n",
       "      <td>15602</td>\n",
       "      <td>fishing, best friend, duringcreditsstinger, ol...</td>\n",
       "      <td>Grumpier Old Men</td>\n",
       "      <td>Romance, Comedy</td>\n",
       "      <td>en</td>\n",
       "      <td>A family wedding reignites the ancient feud be...</td>\n",
       "      <td>Still Yelling. Still Fighting. Still Ready for...</td>\n",
       "      <td>United States of America</td>\n",
       "      <td>22/12/1995</td>\n",
       "      <td>Released</td>\n",
       "      <td>6.5</td>\n",
       "      <td>92.0</td>\n",
       "      <td>101.0</td>\n",
       "      <td>romance, comedy en a family wedding reignites ...</td>\n",
       "    </tr>\n",
       "    <tr>\n",
       "      <th>3</th>\n",
       "      <td>31357</td>\n",
       "      <td>based on novel, interracial relationship, sing...</td>\n",
       "      <td>Waiting to Exhale</td>\n",
       "      <td>Comedy, Drama, Romance</td>\n",
       "      <td>en</td>\n",
       "      <td>Cheated on, mistreated and stepped on, the wom...</td>\n",
       "      <td>Friends are the people who let you be yourself...</td>\n",
       "      <td>United States of America</td>\n",
       "      <td>22/12/1995</td>\n",
       "      <td>Released</td>\n",
       "      <td>6.1</td>\n",
       "      <td>34.0</td>\n",
       "      <td>127.0</td>\n",
       "      <td>comedy, drama, romance en cheated on, mistreat...</td>\n",
       "    </tr>\n",
       "    <tr>\n",
       "      <th>4</th>\n",
       "      <td>11862</td>\n",
       "      <td>baby, midlife crisis, confidence, aging, daugh...</td>\n",
       "      <td>Father of the Bride Part II</td>\n",
       "      <td>Comedy</td>\n",
       "      <td>en</td>\n",
       "      <td>Just when George Banks has recovered from his ...</td>\n",
       "      <td>Just When His World Is Back To Normal... He's ...</td>\n",
       "      <td>United States of America</td>\n",
       "      <td>10/2/1995</td>\n",
       "      <td>Released</td>\n",
       "      <td>5.7</td>\n",
       "      <td>173.0</td>\n",
       "      <td>106.0</td>\n",
       "      <td>comedy en just when george banks has recovered...</td>\n",
       "    </tr>\n",
       "  </tbody>\n",
       "</table>\n",
       "</div>"
      ],
      "text/plain": [
       "      id                                           keywords   \n",
       "0    862  jealousy, toy, boy, friendship, friends, rival...  \\\n",
       "1   8844  board game, disappearance, based on children's...   \n",
       "2  15602  fishing, best friend, duringcreditsstinger, ol...   \n",
       "3  31357  based on novel, interracial relationship, sing...   \n",
       "4  11862  baby, midlife crisis, confidence, aging, daugh...   \n",
       "\n",
       "                         title                      genres original_language   \n",
       "0                    Toy Story   Animation, Comedy, Family                en  \\\n",
       "1                      Jumanji  Adventure, Fantasy, Family                en   \n",
       "2             Grumpier Old Men             Romance, Comedy                en   \n",
       "3            Waiting to Exhale      Comedy, Drama, Romance                en   \n",
       "4  Father of the Bride Part II                      Comedy                en   \n",
       "\n",
       "                                            overview   \n",
       "0  Led by Woody, Andy's toys live happily in his ...  \\\n",
       "1  When siblings Judy and Peter discover an encha...   \n",
       "2  A family wedding reignites the ancient feud be...   \n",
       "3  Cheated on, mistreated and stepped on, the wom...   \n",
       "4  Just when George Banks has recovered from his ...   \n",
       "\n",
       "                                             tagline   \n",
       "0                                                     \\\n",
       "1          Roll the dice and unleash the excitement!   \n",
       "2  Still Yelling. Still Fighting. Still Ready for...   \n",
       "3  Friends are the people who let you be yourself...   \n",
       "4  Just When His World Is Back To Normal... He's ...   \n",
       "\n",
       "       production_countries release_date    status  vote_average  vote_count   \n",
       "0  United States of America   30/10/1995  Released           7.7      5415.0  \\\n",
       "1  United States of America   15/12/1995  Released           6.9      2413.0   \n",
       "2  United States of America   22/12/1995  Released           6.5        92.0   \n",
       "3  United States of America   22/12/1995  Released           6.1        34.0   \n",
       "4  United States of America    10/2/1995  Released           5.7       173.0   \n",
       "\n",
       "   runtime                                               soup  \n",
       "0     81.0  animation, comedy, family en led by woody, and...  \n",
       "1    104.0  adventure, fantasy, family en when siblings ju...  \n",
       "2    101.0  romance, comedy en a family wedding reignites ...  \n",
       "3    127.0  comedy, drama, romance en cheated on, mistreat...  \n",
       "4    106.0  comedy en just when george banks has recovered...  "
      ]
     },
     "execution_count": 32,
     "metadata": {},
     "output_type": "execute_result"
    }
   ],
   "source": [
    "df_merge.head()"
   ]
  },
  {
   "cell_type": "code",
   "execution_count": 33,
   "id": "19eafab4",
   "metadata": {},
   "outputs": [],
   "source": [
    "from sentence_transformers import SentenceTransformer\n",
    "\n",
    "# Initialize the model with the 'all-MiniLM-L6-v2' pre-trained model and load it to GPU if available\n",
    "model = SentenceTransformer('sentence-transformers/all-MiniLM-L6-v2').to('cuda')"
   ]
  },
  {
   "cell_type": "code",
   "execution_count": 34,
   "id": "15a7aa4f",
   "metadata": {},
   "outputs": [],
   "source": [
    "# Encode a list of sentences in the 'soup' column using the pre-trained model\n",
    "sentence_embeddings = model.encode(df_merge['soup'].tolist())"
   ]
  },
  {
   "cell_type": "code",
   "execution_count": 35,
   "id": "02216a66",
   "metadata": {},
   "outputs": [],
   "source": [
    "# Compute similarity\n",
    "from sklearn.metrics.pairwise import cosine_similarity\n",
    "cos_sim = cosine_similarity(sentence_embeddings)"
   ]
  },
  {
   "cell_type": "code",
   "execution_count": 36,
   "id": "0c31e200",
   "metadata": {},
   "outputs": [],
   "source": [
    "def lowercase_title(title: str) -> str:\n",
    "    \"\"\"\n",
    "    Creates a lowercase version of movie title\n",
    "    \n",
    "    :param title: The movie title\n",
    "    :return: A lowercase version of the movie title\n",
    "    \"\"\"\n",
    "    return title.lower()\n",
    "\n",
    "# Construct a reverse map of movie titles to indices\n",
    "movie_indices = pd.Series(df_merge.index, index=df_merge['title'].apply(lowercase_title)).drop_duplicates()\n"
   ]
  },
  {
   "cell_type": "code",
   "execution_count": 37,
   "id": "f0106ef3",
   "metadata": {},
   "outputs": [
    {
     "data": {
      "text/plain": [
       "title\n",
       "toy story                      0\n",
       "jumanji                        1\n",
       "grumpier old men               2\n",
       "waiting to exhale              3\n",
       "father of the bride part ii    4\n",
       "dtype: int64"
      ]
     },
     "execution_count": 37,
     "metadata": {},
     "output_type": "execute_result"
    }
   ],
   "source": [
    "movie_indices.head()"
   ]
  },
  {
   "cell_type": "code",
   "execution_count": 38,
   "id": "5307119f",
   "metadata": {},
   "outputs": [],
   "source": [
    "def get_movie_recommendations(title: str,\n",
    "                        cosine_sim: np.ndarray = cos_sim,\n",
    "                        num_recommendations: int = 5) -> None:\n",
    "    \"\"\"\n",
    "    Given a movie title, print the top most similar movies based on the cosine similarity of their metadata and keywords.\n",
    "\n",
    "    :param title: The title of the movie to find similar movies for\n",
    "    :param cosine_sim: A matrix of pairwise cosine similarity scores between all movies, defaults to `cos_sim`\n",
    "    :param num_recommendations: The number of recommended movies, defaults to 5\n",
    "    \"\"\"\n",
    "\n",
    "    try:\n",
    "        # Get the index of the movie that matches the title\n",
    "        movie_index = movie_indices[title.lower()]\n",
    "        \n",
    "        # If there are multiple movies with the same title, pick the first one.\n",
    "        if isinstance(movie_index, pd.Series):\n",
    "            movie_index = movie_index[0]\n",
    "        \n",
    "    except KeyError:\n",
    "        return(f\"Movie '{title}' not found. Please enter a valid movie title.\")\n",
    "\n",
    "    # Get the pairwise similarity scores of all movies with that movie\n",
    "    sim_scores = list(enumerate(cosine_sim[movie_index]))\n",
    "\n",
    "    # Sort the movies based on the similarity scores and get the first `num_recommendations` movie recommendations\n",
    "    sim_scores = sorted(sim_scores, key=lambda x: x[1], reverse=True)[1:num_recommendations + 1]\n",
    "\n",
    "    # Get the movie indices\n",
    "    recommended_movie_indices = [sim_score[0] for sim_score in sim_scores]\n",
    "\n",
    "    for index in recommended_movie_indices:\n",
    "        # Get the movie details\n",
    "        details = df_merge[['title', 'genres','original_language', 'production_countries', 'release_date', 'overview', 'vote_count', 'vote_average', 'runtime']].iloc[index]\n",
    "\n",
    "        # Print the movie details\n",
    "        print(f\"Title: {details['title']}\")\n",
    "        print(f\"Overview: {details['overview']}\")\n",
    "        print(f\"Genres: {details['genres']}\")\n",
    "        print(f\"Original Language: {details['original_language']}\")\n",
    "        print(f\"Runtime: {int(details['runtime'])} mins\")\n",
    "        print(f\"Production Countries: {details['production_countries']}\")\n",
    "        print(f\"Release Date: {details['release_date']}\")\n",
    "        print(f\"Rating: {details['vote_average']} out of 10 ({int(details['vote_count'])} ratings)\")\n",
    "        print(\"\")\n"
   ]
  },
  {
   "cell_type": "code",
   "execution_count": 40,
   "id": "8c208650",
   "metadata": {},
   "outputs": [
    {
     "data": {
      "application/vnd.jupyter.widget-view+json": {
       "model_id": "270b8d1ba02145f6a1ea3cda1bdeaff8",
       "version_major": 2,
       "version_minor": 0
      },
      "text/plain": [
       "Text(value='', placeholder='Search movie title...')"
      ]
     },
     "metadata": {},
     "output_type": "display_data"
    },
    {
     "data": {
      "application/vnd.jupyter.widget-view+json": {
       "model_id": "946cd9527a0d429f92a77e1cd78e220d",
       "version_major": 2,
       "version_minor": 0
      },
      "text/plain": [
       "Dropdown(options=('Toy Story', 'Jumanji', 'Grumpier Old Men', 'Waiting to Exhale', 'Father of the Bride Part I…"
      ]
     },
     "metadata": {},
     "output_type": "display_data"
    },
    {
     "data": {
      "application/vnd.jupyter.widget-view+json": {
       "model_id": "ce064f17e7554602a31b544e5336f97a",
       "version_major": 2,
       "version_minor": 0
      },
      "text/plain": [
       "Button(description='Get Movie Recommendations', style=ButtonStyle())"
      ]
     },
     "metadata": {},
     "output_type": "display_data"
    }
   ],
   "source": [
    "dropdown = widgets.Dropdown(options=df_merge['title'].unique())\n",
    "search_box = widgets.Text(placeholder='Search movie title...')\n",
    "button = widgets.Button(description='Get Movie Recommendations')\n",
    "\n",
    "def on_search_box_value_change(change):\n",
    "    \"\"\"\n",
    "    Event listener for the search box widget. Updates the dropdown options based on the search query.\n",
    "    \"\"\"\n",
    "    search_value = change.new.lower()\n",
    "    options = df_merge[df_merge['title'].str.lower().str.contains(search_value)]['title'].unique()\n",
    "    dropdown.options = options\n",
    "\n",
    "def on_button_click(button):\n",
    "    \"\"\"\n",
    "    Event listener for the button widget. Displays the recommended movies.\n",
    "    \"\"\"\n",
    "    clear_output()\n",
    "    search_box.value = dropdown.value\n",
    "    title = dropdown.value\n",
    "    display(search_box)\n",
    "    display(dropdown)\n",
    "    display(button)\n",
    "    get_movie_recommendations(title)\n",
    "    \n",
    "# Attach event listeners to the widgets\n",
    "search_box.observe(on_search_box_value_change, names='value')\n",
    "button.on_click(on_button_click)\n",
    "\n",
    "# Display the widgets\n",
    "display(search_box)\n",
    "display(dropdown)\n",
    "display(button)\n"
   ]
  }
 ],
 "metadata": {
  "kernelspec": {
   "display_name": "rs",
   "language": "python",
   "name": "python3"
  },
  "language_info": {
   "codemirror_mode": {
    "name": "ipython",
    "version": 3
   },
   "file_extension": ".py",
   "mimetype": "text/x-python",
   "name": "python",
   "nbconvert_exporter": "python",
   "pygments_lexer": "ipython3",
   "version": "3.10.0"
  }
 },
 "nbformat": 4,
 "nbformat_minor": 5
}
