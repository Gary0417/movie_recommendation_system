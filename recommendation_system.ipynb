{
 "cells": [
  {
   "attachments": {},
   "cell_type": "markdown",
   "id": "10dd744a",
   "metadata": {},
   "source": [
    "## Importing Libraries"
   ]
  },
  {
   "cell_type": "code",
   "execution_count": 1,
   "id": "0ad12315",
   "metadata": {},
   "outputs": [],
   "source": [
    "import ast\n",
    "import ipywidgets as widgets\n",
    "import json\n",
    "import pandas as pd\n",
    "import torch\n",
    "\n",
    "from IPython.display import display, clear_output\n",
    "from sentence_transformers import SentenceTransformer\n",
    "from sklearn.metrics.pairwise import cosine_similarity\n",
    "from surprise import Reader, Dataset, SVD\n",
    "from surprise.model_selection import cross_validate"
   ]
  },
  {
   "cell_type": "code",
   "execution_count": 2,
   "id": "2e146393",
   "metadata": {},
   "outputs": [],
   "source": [
    "import warnings\n",
    "\n",
    "warnings.filterwarnings(\"ignore\")"
   ]
  },
  {
   "attachments": {},
   "cell_type": "markdown",
   "id": "ce2c9aff",
   "metadata": {},
   "source": [
    "# Metadata"
   ]
  },
  {
   "cell_type": "code",
   "execution_count": 3,
   "id": "9b71a49b",
   "metadata": {
    "scrolled": false
   },
   "outputs": [
    {
     "data": {
      "text/html": [
       "<div>\n",
       "<style scoped>\n",
       "    .dataframe tbody tr th:only-of-type {\n",
       "        vertical-align: middle;\n",
       "    }\n",
       "\n",
       "    .dataframe tbody tr th {\n",
       "        vertical-align: top;\n",
       "    }\n",
       "\n",
       "    .dataframe thead th {\n",
       "        text-align: right;\n",
       "    }\n",
       "</style>\n",
       "<table border=\"1\" class=\"dataframe\">\n",
       "  <thead>\n",
       "    <tr style=\"text-align: right;\">\n",
       "      <th></th>\n",
       "      <th>adult</th>\n",
       "      <th>belongs_to_collection</th>\n",
       "      <th>budget</th>\n",
       "      <th>genres</th>\n",
       "      <th>homepage</th>\n",
       "      <th>id</th>\n",
       "      <th>imdb_id</th>\n",
       "      <th>original_language</th>\n",
       "      <th>original_title</th>\n",
       "      <th>overview</th>\n",
       "      <th>...</th>\n",
       "      <th>release_date</th>\n",
       "      <th>revenue</th>\n",
       "      <th>runtime</th>\n",
       "      <th>spoken_languages</th>\n",
       "      <th>status</th>\n",
       "      <th>tagline</th>\n",
       "      <th>title</th>\n",
       "      <th>video</th>\n",
       "      <th>vote_average</th>\n",
       "      <th>vote_count</th>\n",
       "    </tr>\n",
       "  </thead>\n",
       "  <tbody>\n",
       "    <tr>\n",
       "      <th>0</th>\n",
       "      <td>FALSE</td>\n",
       "      <td>{'id': 10194, 'name': 'Toy Story Collection', ...</td>\n",
       "      <td>30000000</td>\n",
       "      <td>[{'id': 16, 'name': 'Animation'}, {'id': 35, '...</td>\n",
       "      <td>http://toystory.disney.com/toy-story</td>\n",
       "      <td>862</td>\n",
       "      <td>tt0114709</td>\n",
       "      <td>en</td>\n",
       "      <td>Toy Story</td>\n",
       "      <td>Led by Woody, Andy's toys live happily in his ...</td>\n",
       "      <td>...</td>\n",
       "      <td>30/10/1995</td>\n",
       "      <td>373554033.0</td>\n",
       "      <td>81.0</td>\n",
       "      <td>[{'iso_639_1': 'en', 'name': 'English'}]</td>\n",
       "      <td>Released</td>\n",
       "      <td>NaN</td>\n",
       "      <td>Toy Story</td>\n",
       "      <td>False</td>\n",
       "      <td>7.7</td>\n",
       "      <td>5415.0</td>\n",
       "    </tr>\n",
       "    <tr>\n",
       "      <th>1</th>\n",
       "      <td>FALSE</td>\n",
       "      <td>NaN</td>\n",
       "      <td>65000000</td>\n",
       "      <td>[{'id': 12, 'name': 'Adventure'}, {'id': 14, '...</td>\n",
       "      <td>NaN</td>\n",
       "      <td>8844</td>\n",
       "      <td>tt0113497</td>\n",
       "      <td>en</td>\n",
       "      <td>Jumanji</td>\n",
       "      <td>When siblings Judy and Peter discover an encha...</td>\n",
       "      <td>...</td>\n",
       "      <td>15/12/1995</td>\n",
       "      <td>262797249.0</td>\n",
       "      <td>104.0</td>\n",
       "      <td>[{'iso_639_1': 'en', 'name': 'English'}, {'iso...</td>\n",
       "      <td>Released</td>\n",
       "      <td>Roll the dice and unleash the excitement!</td>\n",
       "      <td>Jumanji</td>\n",
       "      <td>False</td>\n",
       "      <td>6.9</td>\n",
       "      <td>2413.0</td>\n",
       "    </tr>\n",
       "    <tr>\n",
       "      <th>2</th>\n",
       "      <td>FALSE</td>\n",
       "      <td>{'id': 119050, 'name': 'Grumpy Old Men Collect...</td>\n",
       "      <td>0</td>\n",
       "      <td>[{'id': 10749, 'name': 'Romance'}, {'id': 35, ...</td>\n",
       "      <td>NaN</td>\n",
       "      <td>15602</td>\n",
       "      <td>tt0113228</td>\n",
       "      <td>en</td>\n",
       "      <td>Grumpier Old Men</td>\n",
       "      <td>A family wedding reignites the ancient feud be...</td>\n",
       "      <td>...</td>\n",
       "      <td>22/12/1995</td>\n",
       "      <td>0.0</td>\n",
       "      <td>101.0</td>\n",
       "      <td>[{'iso_639_1': 'en', 'name': 'English'}]</td>\n",
       "      <td>Released</td>\n",
       "      <td>Still Yelling. Still Fighting. Still Ready for...</td>\n",
       "      <td>Grumpier Old Men</td>\n",
       "      <td>False</td>\n",
       "      <td>6.5</td>\n",
       "      <td>92.0</td>\n",
       "    </tr>\n",
       "    <tr>\n",
       "      <th>3</th>\n",
       "      <td>FALSE</td>\n",
       "      <td>NaN</td>\n",
       "      <td>16000000</td>\n",
       "      <td>[{'id': 35, 'name': 'Comedy'}, {'id': 18, 'nam...</td>\n",
       "      <td>NaN</td>\n",
       "      <td>31357</td>\n",
       "      <td>tt0114885</td>\n",
       "      <td>en</td>\n",
       "      <td>Waiting to Exhale</td>\n",
       "      <td>Cheated on, mistreated and stepped on, the wom...</td>\n",
       "      <td>...</td>\n",
       "      <td>22/12/1995</td>\n",
       "      <td>81452156.0</td>\n",
       "      <td>127.0</td>\n",
       "      <td>[{'iso_639_1': 'en', 'name': 'English'}]</td>\n",
       "      <td>Released</td>\n",
       "      <td>Friends are the people who let you be yourself...</td>\n",
       "      <td>Waiting to Exhale</td>\n",
       "      <td>False</td>\n",
       "      <td>6.1</td>\n",
       "      <td>34.0</td>\n",
       "    </tr>\n",
       "    <tr>\n",
       "      <th>4</th>\n",
       "      <td>FALSE</td>\n",
       "      <td>{'id': 96871, 'name': 'Father of the Bride Col...</td>\n",
       "      <td>0</td>\n",
       "      <td>[{'id': 35, 'name': 'Comedy'}]</td>\n",
       "      <td>NaN</td>\n",
       "      <td>11862</td>\n",
       "      <td>tt0113041</td>\n",
       "      <td>en</td>\n",
       "      <td>Father of the Bride Part II</td>\n",
       "      <td>Just when George Banks has recovered from his ...</td>\n",
       "      <td>...</td>\n",
       "      <td>10/2/1995</td>\n",
       "      <td>76578911.0</td>\n",
       "      <td>106.0</td>\n",
       "      <td>[{'iso_639_1': 'en', 'name': 'English'}]</td>\n",
       "      <td>Released</td>\n",
       "      <td>Just When His World Is Back To Normal... He's ...</td>\n",
       "      <td>Father of the Bride Part II</td>\n",
       "      <td>False</td>\n",
       "      <td>5.7</td>\n",
       "      <td>173.0</td>\n",
       "    </tr>\n",
       "  </tbody>\n",
       "</table>\n",
       "<p>5 rows × 24 columns</p>\n",
       "</div>"
      ],
      "text/plain": [
       "   adult                              belongs_to_collection    budget   \n",
       "0  FALSE  {'id': 10194, 'name': 'Toy Story Collection', ...  30000000  \\\n",
       "1  FALSE                                                NaN  65000000   \n",
       "2  FALSE  {'id': 119050, 'name': 'Grumpy Old Men Collect...         0   \n",
       "3  FALSE                                                NaN  16000000   \n",
       "4  FALSE  {'id': 96871, 'name': 'Father of the Bride Col...         0   \n",
       "\n",
       "                                              genres   \n",
       "0  [{'id': 16, 'name': 'Animation'}, {'id': 35, '...  \\\n",
       "1  [{'id': 12, 'name': 'Adventure'}, {'id': 14, '...   \n",
       "2  [{'id': 10749, 'name': 'Romance'}, {'id': 35, ...   \n",
       "3  [{'id': 35, 'name': 'Comedy'}, {'id': 18, 'nam...   \n",
       "4                     [{'id': 35, 'name': 'Comedy'}]   \n",
       "\n",
       "                               homepage     id    imdb_id original_language   \n",
       "0  http://toystory.disney.com/toy-story    862  tt0114709                en  \\\n",
       "1                                   NaN   8844  tt0113497                en   \n",
       "2                                   NaN  15602  tt0113228                en   \n",
       "3                                   NaN  31357  tt0114885                en   \n",
       "4                                   NaN  11862  tt0113041                en   \n",
       "\n",
       "                original_title   \n",
       "0                    Toy Story  \\\n",
       "1                      Jumanji   \n",
       "2             Grumpier Old Men   \n",
       "3            Waiting to Exhale   \n",
       "4  Father of the Bride Part II   \n",
       "\n",
       "                                            overview  ... release_date   \n",
       "0  Led by Woody, Andy's toys live happily in his ...  ...   30/10/1995  \\\n",
       "1  When siblings Judy and Peter discover an encha...  ...   15/12/1995   \n",
       "2  A family wedding reignites the ancient feud be...  ...   22/12/1995   \n",
       "3  Cheated on, mistreated and stepped on, the wom...  ...   22/12/1995   \n",
       "4  Just when George Banks has recovered from his ...  ...    10/2/1995   \n",
       "\n",
       "       revenue runtime                                   spoken_languages   \n",
       "0  373554033.0    81.0           [{'iso_639_1': 'en', 'name': 'English'}]  \\\n",
       "1  262797249.0   104.0  [{'iso_639_1': 'en', 'name': 'English'}, {'iso...   \n",
       "2          0.0   101.0           [{'iso_639_1': 'en', 'name': 'English'}]   \n",
       "3   81452156.0   127.0           [{'iso_639_1': 'en', 'name': 'English'}]   \n",
       "4   76578911.0   106.0           [{'iso_639_1': 'en', 'name': 'English'}]   \n",
       "\n",
       "     status                                            tagline   \n",
       "0  Released                                                NaN  \\\n",
       "1  Released          Roll the dice and unleash the excitement!   \n",
       "2  Released  Still Yelling. Still Fighting. Still Ready for...   \n",
       "3  Released  Friends are the people who let you be yourself...   \n",
       "4  Released  Just When His World Is Back To Normal... He's ...   \n",
       "\n",
       "                         title  video vote_average vote_count  \n",
       "0                    Toy Story  False          7.7     5415.0  \n",
       "1                      Jumanji  False          6.9     2413.0  \n",
       "2             Grumpier Old Men  False          6.5       92.0  \n",
       "3            Waiting to Exhale  False          6.1       34.0  \n",
       "4  Father of the Bride Part II  False          5.7      173.0  \n",
       "\n",
       "[5 rows x 24 columns]"
      ]
     },
     "execution_count": 3,
     "metadata": {},
     "output_type": "execute_result"
    }
   ],
   "source": [
    "df_metadata_ori = pd.read_csv(\"data/movies_metadata.csv\", low_memory=False)\n",
    "df_metadata_ori.head()"
   ]
  },
  {
   "cell_type": "code",
   "execution_count": 4,
   "id": "ed45b034",
   "metadata": {},
   "outputs": [
    {
     "data": {
      "text/plain": [
       "(45466, 24)"
      ]
     },
     "execution_count": 4,
     "metadata": {},
     "output_type": "execute_result"
    }
   ],
   "source": [
    "df_metadata_ori.shape"
   ]
  },
  {
   "cell_type": "code",
   "execution_count": 5,
   "id": "dc809e10",
   "metadata": {
    "scrolled": false
   },
   "outputs": [
    {
     "name": "stdout",
     "output_type": "stream",
     "text": [
      "<class 'pandas.core.frame.DataFrame'>\n",
      "RangeIndex: 45466 entries, 0 to 45465\n",
      "Data columns (total 24 columns):\n",
      " #   Column                 Non-Null Count  Dtype  \n",
      "---  ------                 --------------  -----  \n",
      " 0   adult                  45466 non-null  object \n",
      " 1   belongs_to_collection  4494 non-null   object \n",
      " 2   budget                 45466 non-null  object \n",
      " 3   genres                 45466 non-null  object \n",
      " 4   homepage               7782 non-null   object \n",
      " 5   id                     45466 non-null  object \n",
      " 6   imdb_id                45449 non-null  object \n",
      " 7   original_language      45455 non-null  object \n",
      " 8   original_title         45466 non-null  object \n",
      " 9   overview               44512 non-null  object \n",
      " 10  popularity             45461 non-null  object \n",
      " 11  poster_path            45080 non-null  object \n",
      " 12  production_companies   45463 non-null  object \n",
      " 13  production_countries   45463 non-null  object \n",
      " 14  release_date           45379 non-null  object \n",
      " 15  revenue                45460 non-null  float64\n",
      " 16  runtime                45203 non-null  float64\n",
      " 17  spoken_languages       45460 non-null  object \n",
      " 18  status                 45379 non-null  object \n",
      " 19  tagline                20412 non-null  object \n",
      " 20  title                  45460 non-null  object \n",
      " 21  video                  45460 non-null  object \n",
      " 22  vote_average           45460 non-null  float64\n",
      " 23  vote_count             45460 non-null  float64\n",
      "dtypes: float64(4), object(20)\n",
      "memory usage: 8.3+ MB\n"
     ]
    }
   ],
   "source": [
    "df_metadata_ori.info()"
   ]
  },
  {
   "attachments": {},
   "cell_type": "markdown",
   "id": "b6066c53",
   "metadata": {},
   "source": [
    "### Checking if there are missing values."
   ]
  },
  {
   "cell_type": "code",
   "execution_count": 6,
   "id": "d5d1945d",
   "metadata": {
    "scrolled": false
   },
   "outputs": [
    {
     "data": {
      "text/plain": [
       "adult                        0\n",
       "belongs_to_collection    40972\n",
       "budget                       0\n",
       "genres                       0\n",
       "homepage                 37684\n",
       "id                           0\n",
       "imdb_id                     17\n",
       "original_language           11\n",
       "original_title               0\n",
       "overview                   954\n",
       "popularity                   5\n",
       "poster_path                386\n",
       "production_companies         3\n",
       "production_countries         3\n",
       "release_date                87\n",
       "revenue                      6\n",
       "runtime                    263\n",
       "spoken_languages             6\n",
       "status                      87\n",
       "tagline                  25054\n",
       "title                        6\n",
       "video                        6\n",
       "vote_average                 6\n",
       "vote_count                   6\n",
       "dtype: int64"
      ]
     },
     "execution_count": 6,
     "metadata": {},
     "output_type": "execute_result"
    }
   ],
   "source": [
    "df_metadata_ori.isnull().sum()"
   ]
  },
  {
   "attachments": {},
   "cell_type": "markdown",
   "id": "9fee1a9a",
   "metadata": {},
   "source": [
    "## Data Preprocessing"
   ]
  },
  {
   "cell_type": "code",
   "execution_count": 7,
   "id": "815f0dbb",
   "metadata": {},
   "outputs": [],
   "source": [
    "df_metadata = df_metadata_ori.copy()"
   ]
  },
  {
   "attachments": {},
   "cell_type": "markdown",
   "id": "264a08eb",
   "metadata": {},
   "source": [
    "### Columns that are needed to build our recommendation system"
   ]
  },
  {
   "cell_type": "code",
   "execution_count": 8,
   "id": "7a92b663",
   "metadata": {},
   "outputs": [],
   "source": [
    "df_metadata = df_metadata[\n",
    "    [\n",
    "        \"id\",\n",
    "        \"title\",\n",
    "        \"genres\",\n",
    "        \"original_language\",\n",
    "        \"overview\",\n",
    "        \"tagline\",\n",
    "        \"production_countries\",\n",
    "        \"release_date\",\n",
    "        \"status\",\n",
    "        \"vote_average\",\n",
    "        \"vote_count\",\n",
    "        \"runtime\",\n",
    "    ]\n",
    "]"
   ]
  },
  {
   "attachments": {},
   "cell_type": "markdown",
   "id": "aca99317",
   "metadata": {},
   "source": [
    "### Check if duplicates titles have same release date "
   ]
  },
  {
   "cell_type": "code",
   "execution_count": 9,
   "id": "3fe07564",
   "metadata": {
    "scrolled": true
   },
   "outputs": [
    {
     "data": {
      "text/plain": [
       "32"
      ]
     },
     "execution_count": 9,
     "metadata": {},
     "output_type": "execute_result"
    }
   ],
   "source": [
    "df_metadata[[\"title\", \"release_date\"]].duplicated().sum()"
   ]
  },
  {
   "attachments": {},
   "cell_type": "markdown",
   "id": "cd395abd",
   "metadata": {},
   "source": [
    "### Number of movies with no overviews"
   ]
  },
  {
   "cell_type": "code",
   "execution_count": 10,
   "id": "b00c4be9",
   "metadata": {
    "scrolled": true
   },
   "outputs": [
    {
     "data": {
      "text/plain": [
       "954"
      ]
     },
     "execution_count": 10,
     "metadata": {},
     "output_type": "execute_result"
    }
   ],
   "source": [
    "df_metadata[df_metadata.overview.isnull()].shape[0]"
   ]
  },
  {
   "attachments": {},
   "cell_type": "markdown",
   "id": "058708d4",
   "metadata": {},
   "source": [
    "### Number of movies that have not yet been released"
   ]
  },
  {
   "cell_type": "code",
   "execution_count": 11,
   "id": "862c6daa",
   "metadata": {},
   "outputs": [
    {
     "data": {
      "text/plain": [
       "452"
      ]
     },
     "execution_count": 11,
     "metadata": {},
     "output_type": "execute_result"
    }
   ],
   "source": [
    "df_metadata[df_metadata.status != \"Released\"].shape[0]"
   ]
  },
  {
   "attachments": {},
   "cell_type": "markdown",
   "id": "0b539d1e",
   "metadata": {},
   "source": [
    "**TODO:**  \n",
    "\n",
    "We will remove movies which:\n",
    "- have same titles and release date.\n",
    "- have no overviews.\n",
    "- have not yet been released."
   ]
  },
  {
   "attachments": {},
   "cell_type": "markdown",
   "id": "2ea35358",
   "metadata": {},
   "source": [
    "### Genres and Production Countries"
   ]
  },
  {
   "cell_type": "code",
   "execution_count": 12,
   "id": "b758de57",
   "metadata": {},
   "outputs": [
    {
     "data": {
      "text/plain": [
       "\"[{'id': 16, 'name': 'Animation'}, {'id': 35, 'name': 'Comedy'}, {'id': 10751, 'name': 'Family'}]\""
      ]
     },
     "execution_count": 12,
     "metadata": {},
     "output_type": "execute_result"
    }
   ],
   "source": [
    "df_metadata[\"genres\"][0]"
   ]
  },
  {
   "cell_type": "code",
   "execution_count": 13,
   "id": "41a0db99",
   "metadata": {
    "scrolled": false
   },
   "outputs": [
    {
     "data": {
      "text/plain": [
       "\"[{'iso_3166_1': 'US', 'name': 'United States of America'}]\""
      ]
     },
     "execution_count": 13,
     "metadata": {},
     "output_type": "execute_result"
    }
   ],
   "source": [
    "df_metadata[\"production_countries\"][0]"
   ]
  },
  {
   "attachments": {},
   "cell_type": "markdown",
   "id": "ade9af22",
   "metadata": {},
   "source": [
    "**TODO:**  \n",
    "\n",
    "We need to extract the names from the data."
   ]
  },
  {
   "attachments": {},
   "cell_type": "markdown",
   "id": "7f7642e6",
   "metadata": {},
   "source": [
    "### Extract the movie feature names from the data"
   ]
  },
  {
   "cell_type": "code",
   "execution_count": 14,
   "id": "b987ce42",
   "metadata": {},
   "outputs": [],
   "source": [
    "def extract_names(data: str) -> str:\n",
    "    \"\"\"\n",
    "    Extract the names from the data.\n",
    "\n",
    "    :param data: A string representing a list of objects. Each object should have a 'name' key.\n",
    "    :return: A string containing the names of the features, separated by commas and spaces.\n",
    "\n",
    "    **Example:**\n",
    "    >>> extract_names(\"[{'id': 16, 'name': 'Animation'}, {'id': 35, 'name': 'Comedy'}, {'id': 10751, 'name': 'Family'}]\")\n",
    "    'Animation, Comedy, Family'\n",
    "    \"\"\"\n",
    "    if data:\n",
    "        try:\n",
    "            # Convert the input string to a JSON-formatted string\n",
    "            json_str = json.dumps(ast.literal_eval(data))\n",
    "            # Load the JSON-formatted string into a Python object\n",
    "            python_obj = json.loads(json_str)\n",
    "            # Extract the names from the Python object\n",
    "            data_names = [data[\"name\"] for data in python_obj]\n",
    "            # Join the names into a single string separated by spaces\n",
    "            data_names_str = \", \".join(data_names)\n",
    "\n",
    "            return data_names_str\n",
    "\n",
    "        except TypeError:\n",
    "            return \"\"\n",
    "    else:\n",
    "        # If the input is empty, return an empty string\n",
    "        return \"\""
   ]
  },
  {
   "cell_type": "code",
   "execution_count": 15,
   "id": "2a5bffd2",
   "metadata": {},
   "outputs": [],
   "source": [
    "def clean_movies_data_set(df: pd.DataFrame) -> pd.DataFrame:\n",
    "    \"\"\"\n",
    "    Clean the movies dataset by removing duplicates, null values and non-released movies,\n",
    "    and extracting the genre names and production countries from the data.\n",
    "\n",
    "    :param df: The movie dataset to be cleaned.\n",
    "    :return: A cleaned pandas DataFrame.\n",
    "    \"\"\"\n",
    "    print(f\"The number of movies in the original data set is: {df.shape[0]}\")\n",
    "\n",
    "    # Removes duplicates titles that have same release date\n",
    "    df.drop_duplicates(subset=[\"title\", \"release_date\"], inplace=True)\n",
    "\n",
    "    # Removes movies that have no overview or have not yet been released\n",
    "    index_drop = df[(df.overview.isnull()) | (df.status != \"Released\")].index\n",
    "    df.drop(index_drop, inplace=True)\n",
    "\n",
    "    # Fills the rows with empty production_countries to NaN\n",
    "    df.loc[df.production_countries == \"[]\", \"production_countries\"] = pd.NA\n",
    "\n",
    "    # Replaces all the null values with empty string\n",
    "    df.fillna(\"\", inplace=True)\n",
    "\n",
    "    # Extracts the genre names and production countries from the data\n",
    "    df[\"genres\"] = df[\"genres\"].apply(extract_names)\n",
    "    df[\"production_countries\"] = df[\"production_countries\"].apply(extract_names)\n",
    "\n",
    "    print(f\"The number of movies in the cleaned data set is: {df.shape[0]}\")\n",
    "\n",
    "    return df"
   ]
  },
  {
   "cell_type": "code",
   "execution_count": 16,
   "id": "7a88b83c",
   "metadata": {
    "scrolled": true
   },
   "outputs": [
    {
     "name": "stdout",
     "output_type": "stream",
     "text": [
      "The number of movies in the original data set is: 45466\n",
      "The number of movies in the cleaned data set is: 44065\n"
     ]
    }
   ],
   "source": [
    "df_metadata = clean_movies_data_set(df_metadata)"
   ]
  },
  {
   "cell_type": "code",
   "execution_count": 17,
   "id": "42a5c734",
   "metadata": {
    "scrolled": false
   },
   "outputs": [
    {
     "data": {
      "text/html": [
       "<div>\n",
       "<style scoped>\n",
       "    .dataframe tbody tr th:only-of-type {\n",
       "        vertical-align: middle;\n",
       "    }\n",
       "\n",
       "    .dataframe tbody tr th {\n",
       "        vertical-align: top;\n",
       "    }\n",
       "\n",
       "    .dataframe thead th {\n",
       "        text-align: right;\n",
       "    }\n",
       "</style>\n",
       "<table border=\"1\" class=\"dataframe\">\n",
       "  <thead>\n",
       "    <tr style=\"text-align: right;\">\n",
       "      <th></th>\n",
       "      <th>id</th>\n",
       "      <th>title</th>\n",
       "      <th>genres</th>\n",
       "      <th>original_language</th>\n",
       "      <th>overview</th>\n",
       "      <th>tagline</th>\n",
       "      <th>production_countries</th>\n",
       "      <th>release_date</th>\n",
       "      <th>status</th>\n",
       "      <th>vote_average</th>\n",
       "      <th>vote_count</th>\n",
       "      <th>runtime</th>\n",
       "    </tr>\n",
       "  </thead>\n",
       "  <tbody>\n",
       "    <tr>\n",
       "      <th>0</th>\n",
       "      <td>862</td>\n",
       "      <td>Toy Story</td>\n",
       "      <td>Animation, Comedy, Family</td>\n",
       "      <td>en</td>\n",
       "      <td>Led by Woody, Andy's toys live happily in his ...</td>\n",
       "      <td></td>\n",
       "      <td>United States of America</td>\n",
       "      <td>30/10/1995</td>\n",
       "      <td>Released</td>\n",
       "      <td>7.7</td>\n",
       "      <td>5415.0</td>\n",
       "      <td>81.0</td>\n",
       "    </tr>\n",
       "    <tr>\n",
       "      <th>1</th>\n",
       "      <td>8844</td>\n",
       "      <td>Jumanji</td>\n",
       "      <td>Adventure, Fantasy, Family</td>\n",
       "      <td>en</td>\n",
       "      <td>When siblings Judy and Peter discover an encha...</td>\n",
       "      <td>Roll the dice and unleash the excitement!</td>\n",
       "      <td>United States of America</td>\n",
       "      <td>15/12/1995</td>\n",
       "      <td>Released</td>\n",
       "      <td>6.9</td>\n",
       "      <td>2413.0</td>\n",
       "      <td>104.0</td>\n",
       "    </tr>\n",
       "    <tr>\n",
       "      <th>2</th>\n",
       "      <td>15602</td>\n",
       "      <td>Grumpier Old Men</td>\n",
       "      <td>Romance, Comedy</td>\n",
       "      <td>en</td>\n",
       "      <td>A family wedding reignites the ancient feud be...</td>\n",
       "      <td>Still Yelling. Still Fighting. Still Ready for...</td>\n",
       "      <td>United States of America</td>\n",
       "      <td>22/12/1995</td>\n",
       "      <td>Released</td>\n",
       "      <td>6.5</td>\n",
       "      <td>92.0</td>\n",
       "      <td>101.0</td>\n",
       "    </tr>\n",
       "    <tr>\n",
       "      <th>3</th>\n",
       "      <td>31357</td>\n",
       "      <td>Waiting to Exhale</td>\n",
       "      <td>Comedy, Drama, Romance</td>\n",
       "      <td>en</td>\n",
       "      <td>Cheated on, mistreated and stepped on, the wom...</td>\n",
       "      <td>Friends are the people who let you be yourself...</td>\n",
       "      <td>United States of America</td>\n",
       "      <td>22/12/1995</td>\n",
       "      <td>Released</td>\n",
       "      <td>6.1</td>\n",
       "      <td>34.0</td>\n",
       "      <td>127.0</td>\n",
       "    </tr>\n",
       "    <tr>\n",
       "      <th>4</th>\n",
       "      <td>11862</td>\n",
       "      <td>Father of the Bride Part II</td>\n",
       "      <td>Comedy</td>\n",
       "      <td>en</td>\n",
       "      <td>Just when George Banks has recovered from his ...</td>\n",
       "      <td>Just When His World Is Back To Normal... He's ...</td>\n",
       "      <td>United States of America</td>\n",
       "      <td>10/2/1995</td>\n",
       "      <td>Released</td>\n",
       "      <td>5.7</td>\n",
       "      <td>173.0</td>\n",
       "      <td>106.0</td>\n",
       "    </tr>\n",
       "  </tbody>\n",
       "</table>\n",
       "</div>"
      ],
      "text/plain": [
       "      id                        title                      genres   \n",
       "0    862                    Toy Story   Animation, Comedy, Family  \\\n",
       "1   8844                      Jumanji  Adventure, Fantasy, Family   \n",
       "2  15602             Grumpier Old Men             Romance, Comedy   \n",
       "3  31357            Waiting to Exhale      Comedy, Drama, Romance   \n",
       "4  11862  Father of the Bride Part II                      Comedy   \n",
       "\n",
       "  original_language                                           overview   \n",
       "0                en  Led by Woody, Andy's toys live happily in his ...  \\\n",
       "1                en  When siblings Judy and Peter discover an encha...   \n",
       "2                en  A family wedding reignites the ancient feud be...   \n",
       "3                en  Cheated on, mistreated and stepped on, the wom...   \n",
       "4                en  Just when George Banks has recovered from his ...   \n",
       "\n",
       "                                             tagline   \n",
       "0                                                     \\\n",
       "1          Roll the dice and unleash the excitement!   \n",
       "2  Still Yelling. Still Fighting. Still Ready for...   \n",
       "3  Friends are the people who let you be yourself...   \n",
       "4  Just When His World Is Back To Normal... He's ...   \n",
       "\n",
       "       production_countries release_date    status  vote_average  vote_count   \n",
       "0  United States of America   30/10/1995  Released           7.7      5415.0  \\\n",
       "1  United States of America   15/12/1995  Released           6.9      2413.0   \n",
       "2  United States of America   22/12/1995  Released           6.5        92.0   \n",
       "3  United States of America   22/12/1995  Released           6.1        34.0   \n",
       "4  United States of America    10/2/1995  Released           5.7       173.0   \n",
       "\n",
       "   runtime  \n",
       "0     81.0  \n",
       "1    104.0  \n",
       "2    101.0  \n",
       "3    127.0  \n",
       "4    106.0  "
      ]
     },
     "execution_count": 17,
     "metadata": {},
     "output_type": "execute_result"
    }
   ],
   "source": [
    "df_metadata.head()"
   ]
  },
  {
   "attachments": {},
   "cell_type": "markdown",
   "id": "a201baab",
   "metadata": {},
   "source": [
    "# Keywords"
   ]
  },
  {
   "cell_type": "code",
   "execution_count": 18,
   "id": "9e41bd92",
   "metadata": {},
   "outputs": [],
   "source": [
    "df_keywords = pd.read_csv(\"data/keywords.csv\")"
   ]
  },
  {
   "cell_type": "code",
   "execution_count": 19,
   "id": "cb78d0b1",
   "metadata": {},
   "outputs": [],
   "source": [
    "df_keywords = df_keywords.drop_duplicates()"
   ]
  },
  {
   "cell_type": "code",
   "execution_count": 20,
   "id": "6313c12c",
   "metadata": {
    "scrolled": true
   },
   "outputs": [
    {
     "data": {
      "text/plain": [
       "(45432, 2)"
      ]
     },
     "execution_count": 20,
     "metadata": {},
     "output_type": "execute_result"
    }
   ],
   "source": [
    "df_keywords.shape"
   ]
  },
  {
   "cell_type": "code",
   "execution_count": 21,
   "id": "69aabf7f",
   "metadata": {},
   "outputs": [
    {
     "data": {
      "text/html": [
       "<div>\n",
       "<style scoped>\n",
       "    .dataframe tbody tr th:only-of-type {\n",
       "        vertical-align: middle;\n",
       "    }\n",
       "\n",
       "    .dataframe tbody tr th {\n",
       "        vertical-align: top;\n",
       "    }\n",
       "\n",
       "    .dataframe thead th {\n",
       "        text-align: right;\n",
       "    }\n",
       "</style>\n",
       "<table border=\"1\" class=\"dataframe\">\n",
       "  <thead>\n",
       "    <tr style=\"text-align: right;\">\n",
       "      <th></th>\n",
       "      <th>id</th>\n",
       "      <th>keywords</th>\n",
       "    </tr>\n",
       "  </thead>\n",
       "  <tbody>\n",
       "    <tr>\n",
       "      <th>0</th>\n",
       "      <td>862</td>\n",
       "      <td>[{'id': 931, 'name': 'jealousy'}, {'id': 4290,...</td>\n",
       "    </tr>\n",
       "    <tr>\n",
       "      <th>1</th>\n",
       "      <td>8844</td>\n",
       "      <td>[{'id': 10090, 'name': 'board game'}, {'id': 1...</td>\n",
       "    </tr>\n",
       "    <tr>\n",
       "      <th>2</th>\n",
       "      <td>15602</td>\n",
       "      <td>[{'id': 1495, 'name': 'fishing'}, {'id': 12392...</td>\n",
       "    </tr>\n",
       "    <tr>\n",
       "      <th>3</th>\n",
       "      <td>31357</td>\n",
       "      <td>[{'id': 818, 'name': 'based on novel'}, {'id':...</td>\n",
       "    </tr>\n",
       "    <tr>\n",
       "      <th>4</th>\n",
       "      <td>11862</td>\n",
       "      <td>[{'id': 1009, 'name': 'baby'}, {'id': 1599, 'n...</td>\n",
       "    </tr>\n",
       "  </tbody>\n",
       "</table>\n",
       "</div>"
      ],
      "text/plain": [
       "      id                                           keywords\n",
       "0    862  [{'id': 931, 'name': 'jealousy'}, {'id': 4290,...\n",
       "1   8844  [{'id': 10090, 'name': 'board game'}, {'id': 1...\n",
       "2  15602  [{'id': 1495, 'name': 'fishing'}, {'id': 12392...\n",
       "3  31357  [{'id': 818, 'name': 'based on novel'}, {'id':...\n",
       "4  11862  [{'id': 1009, 'name': 'baby'}, {'id': 1599, 'n..."
      ]
     },
     "execution_count": 21,
     "metadata": {},
     "output_type": "execute_result"
    }
   ],
   "source": [
    "df_keywords.head()"
   ]
  },
  {
   "cell_type": "code",
   "execution_count": 22,
   "id": "fbc8cf4c",
   "metadata": {},
   "outputs": [
    {
     "data": {
      "text/plain": [
       "\"[{'id': 931, 'name': 'jealousy'}, {'id': 4290, 'name': 'toy'}, {'id': 5202, 'name': 'boy'}, {'id': 6054, 'name': 'friendship'}, {'id': 9713, 'name': 'friends'}, {'id': 9823, 'name': 'rivalry'}, {'id': 165503, 'name': 'boy next door'}, {'id': 170722, 'name': 'new toy'}, {'id': 187065, 'name': 'toy comes to life'}]\""
      ]
     },
     "execution_count": 22,
     "metadata": {},
     "output_type": "execute_result"
    }
   ],
   "source": [
    "df_keywords.keywords[0]"
   ]
  },
  {
   "attachments": {},
   "cell_type": "markdown",
   "id": "d83f75d0",
   "metadata": {},
   "source": [
    "### Extract keywords"
   ]
  },
  {
   "cell_type": "code",
   "execution_count": 23,
   "id": "4c5ab9e9",
   "metadata": {},
   "outputs": [],
   "source": [
    "df_keywords[\"keywords\"] = df_keywords[\"keywords\"].apply(extract_names)"
   ]
  },
  {
   "cell_type": "code",
   "execution_count": 24,
   "id": "b66a5369",
   "metadata": {},
   "outputs": [
    {
     "data": {
      "text/plain": [
       "'jealousy, toy, boy, friendship, friends, rivalry, boy next door, new toy, toy comes to life'"
      ]
     },
     "execution_count": 24,
     "metadata": {},
     "output_type": "execute_result"
    }
   ],
   "source": [
    "df_keywords.keywords[0]"
   ]
  },
  {
   "cell_type": "code",
   "execution_count": 25,
   "id": "bb7f7692",
   "metadata": {
    "scrolled": false
   },
   "outputs": [
    {
     "data": {
      "text/html": [
       "<div>\n",
       "<style scoped>\n",
       "    .dataframe tbody tr th:only-of-type {\n",
       "        vertical-align: middle;\n",
       "    }\n",
       "\n",
       "    .dataframe tbody tr th {\n",
       "        vertical-align: top;\n",
       "    }\n",
       "\n",
       "    .dataframe thead th {\n",
       "        text-align: right;\n",
       "    }\n",
       "</style>\n",
       "<table border=\"1\" class=\"dataframe\">\n",
       "  <thead>\n",
       "    <tr style=\"text-align: right;\">\n",
       "      <th></th>\n",
       "      <th>id</th>\n",
       "      <th>keywords</th>\n",
       "    </tr>\n",
       "  </thead>\n",
       "  <tbody>\n",
       "    <tr>\n",
       "      <th>0</th>\n",
       "      <td>862</td>\n",
       "      <td>jealousy, toy, boy, friendship, friends, rival...</td>\n",
       "    </tr>\n",
       "    <tr>\n",
       "      <th>1</th>\n",
       "      <td>8844</td>\n",
       "      <td>board game, disappearance, based on children's...</td>\n",
       "    </tr>\n",
       "    <tr>\n",
       "      <th>2</th>\n",
       "      <td>15602</td>\n",
       "      <td>fishing, best friend, duringcreditsstinger, ol...</td>\n",
       "    </tr>\n",
       "    <tr>\n",
       "      <th>3</th>\n",
       "      <td>31357</td>\n",
       "      <td>based on novel, interracial relationship, sing...</td>\n",
       "    </tr>\n",
       "    <tr>\n",
       "      <th>4</th>\n",
       "      <td>11862</td>\n",
       "      <td>baby, midlife crisis, confidence, aging, daugh...</td>\n",
       "    </tr>\n",
       "  </tbody>\n",
       "</table>\n",
       "</div>"
      ],
      "text/plain": [
       "      id                                           keywords\n",
       "0    862  jealousy, toy, boy, friendship, friends, rival...\n",
       "1   8844  board game, disappearance, based on children's...\n",
       "2  15602  fishing, best friend, duringcreditsstinger, ol...\n",
       "3  31357  based on novel, interracial relationship, sing...\n",
       "4  11862  baby, midlife crisis, confidence, aging, daugh..."
      ]
     },
     "execution_count": 25,
     "metadata": {},
     "output_type": "execute_result"
    }
   ],
   "source": [
    "df_keywords.head()"
   ]
  },
  {
   "attachments": {},
   "cell_type": "markdown",
   "id": "3984a2b0",
   "metadata": {},
   "source": [
    "## Merge two data frames"
   ]
  },
  {
   "cell_type": "code",
   "execution_count": 26,
   "id": "50bc1fd3",
   "metadata": {},
   "outputs": [],
   "source": [
    "df_metadata[\"id\"] = df_metadata[\"id\"].astype(str)\n",
    "df_keywords[\"id\"] = df_keywords[\"id\"].astype(str)\n",
    "df_merge = pd.merge(df_keywords, df_metadata, on=\"id\")"
   ]
  },
  {
   "cell_type": "code",
   "execution_count": 27,
   "id": "f0b4fcaa",
   "metadata": {},
   "outputs": [
    {
     "data": {
      "text/html": [
       "<div>\n",
       "<style scoped>\n",
       "    .dataframe tbody tr th:only-of-type {\n",
       "        vertical-align: middle;\n",
       "    }\n",
       "\n",
       "    .dataframe tbody tr th {\n",
       "        vertical-align: top;\n",
       "    }\n",
       "\n",
       "    .dataframe thead th {\n",
       "        text-align: right;\n",
       "    }\n",
       "</style>\n",
       "<table border=\"1\" class=\"dataframe\">\n",
       "  <thead>\n",
       "    <tr style=\"text-align: right;\">\n",
       "      <th></th>\n",
       "      <th>id</th>\n",
       "      <th>keywords</th>\n",
       "      <th>title</th>\n",
       "      <th>genres</th>\n",
       "      <th>original_language</th>\n",
       "      <th>overview</th>\n",
       "      <th>tagline</th>\n",
       "      <th>production_countries</th>\n",
       "      <th>release_date</th>\n",
       "      <th>status</th>\n",
       "      <th>vote_average</th>\n",
       "      <th>vote_count</th>\n",
       "      <th>runtime</th>\n",
       "    </tr>\n",
       "  </thead>\n",
       "  <tbody>\n",
       "    <tr>\n",
       "      <th>0</th>\n",
       "      <td>862</td>\n",
       "      <td>jealousy, toy, boy, friendship, friends, rival...</td>\n",
       "      <td>Toy Story</td>\n",
       "      <td>Animation, Comedy, Family</td>\n",
       "      <td>en</td>\n",
       "      <td>Led by Woody, Andy's toys live happily in his ...</td>\n",
       "      <td></td>\n",
       "      <td>United States of America</td>\n",
       "      <td>30/10/1995</td>\n",
       "      <td>Released</td>\n",
       "      <td>7.7</td>\n",
       "      <td>5415.0</td>\n",
       "      <td>81.0</td>\n",
       "    </tr>\n",
       "    <tr>\n",
       "      <th>1</th>\n",
       "      <td>8844</td>\n",
       "      <td>board game, disappearance, based on children's...</td>\n",
       "      <td>Jumanji</td>\n",
       "      <td>Adventure, Fantasy, Family</td>\n",
       "      <td>en</td>\n",
       "      <td>When siblings Judy and Peter discover an encha...</td>\n",
       "      <td>Roll the dice and unleash the excitement!</td>\n",
       "      <td>United States of America</td>\n",
       "      <td>15/12/1995</td>\n",
       "      <td>Released</td>\n",
       "      <td>6.9</td>\n",
       "      <td>2413.0</td>\n",
       "      <td>104.0</td>\n",
       "    </tr>\n",
       "    <tr>\n",
       "      <th>2</th>\n",
       "      <td>15602</td>\n",
       "      <td>fishing, best friend, duringcreditsstinger, ol...</td>\n",
       "      <td>Grumpier Old Men</td>\n",
       "      <td>Romance, Comedy</td>\n",
       "      <td>en</td>\n",
       "      <td>A family wedding reignites the ancient feud be...</td>\n",
       "      <td>Still Yelling. Still Fighting. Still Ready for...</td>\n",
       "      <td>United States of America</td>\n",
       "      <td>22/12/1995</td>\n",
       "      <td>Released</td>\n",
       "      <td>6.5</td>\n",
       "      <td>92.0</td>\n",
       "      <td>101.0</td>\n",
       "    </tr>\n",
       "    <tr>\n",
       "      <th>3</th>\n",
       "      <td>31357</td>\n",
       "      <td>based on novel, interracial relationship, sing...</td>\n",
       "      <td>Waiting to Exhale</td>\n",
       "      <td>Comedy, Drama, Romance</td>\n",
       "      <td>en</td>\n",
       "      <td>Cheated on, mistreated and stepped on, the wom...</td>\n",
       "      <td>Friends are the people who let you be yourself...</td>\n",
       "      <td>United States of America</td>\n",
       "      <td>22/12/1995</td>\n",
       "      <td>Released</td>\n",
       "      <td>6.1</td>\n",
       "      <td>34.0</td>\n",
       "      <td>127.0</td>\n",
       "    </tr>\n",
       "    <tr>\n",
       "      <th>4</th>\n",
       "      <td>11862</td>\n",
       "      <td>baby, midlife crisis, confidence, aging, daugh...</td>\n",
       "      <td>Father of the Bride Part II</td>\n",
       "      <td>Comedy</td>\n",
       "      <td>en</td>\n",
       "      <td>Just when George Banks has recovered from his ...</td>\n",
       "      <td>Just When His World Is Back To Normal... He's ...</td>\n",
       "      <td>United States of America</td>\n",
       "      <td>10/2/1995</td>\n",
       "      <td>Released</td>\n",
       "      <td>5.7</td>\n",
       "      <td>173.0</td>\n",
       "      <td>106.0</td>\n",
       "    </tr>\n",
       "  </tbody>\n",
       "</table>\n",
       "</div>"
      ],
      "text/plain": [
       "      id                                           keywords   \n",
       "0    862  jealousy, toy, boy, friendship, friends, rival...  \\\n",
       "1   8844  board game, disappearance, based on children's...   \n",
       "2  15602  fishing, best friend, duringcreditsstinger, ol...   \n",
       "3  31357  based on novel, interracial relationship, sing...   \n",
       "4  11862  baby, midlife crisis, confidence, aging, daugh...   \n",
       "\n",
       "                         title                      genres original_language   \n",
       "0                    Toy Story   Animation, Comedy, Family                en  \\\n",
       "1                      Jumanji  Adventure, Fantasy, Family                en   \n",
       "2             Grumpier Old Men             Romance, Comedy                en   \n",
       "3            Waiting to Exhale      Comedy, Drama, Romance                en   \n",
       "4  Father of the Bride Part II                      Comedy                en   \n",
       "\n",
       "                                            overview   \n",
       "0  Led by Woody, Andy's toys live happily in his ...  \\\n",
       "1  When siblings Judy and Peter discover an encha...   \n",
       "2  A family wedding reignites the ancient feud be...   \n",
       "3  Cheated on, mistreated and stepped on, the wom...   \n",
       "4  Just when George Banks has recovered from his ...   \n",
       "\n",
       "                                             tagline   \n",
       "0                                                     \\\n",
       "1          Roll the dice and unleash the excitement!   \n",
       "2  Still Yelling. Still Fighting. Still Ready for...   \n",
       "3  Friends are the people who let you be yourself...   \n",
       "4  Just When His World Is Back To Normal... He's ...   \n",
       "\n",
       "       production_countries release_date    status  vote_average  vote_count   \n",
       "0  United States of America   30/10/1995  Released           7.7      5415.0  \\\n",
       "1  United States of America   15/12/1995  Released           6.9      2413.0   \n",
       "2  United States of America   22/12/1995  Released           6.5        92.0   \n",
       "3  United States of America   22/12/1995  Released           6.1        34.0   \n",
       "4  United States of America    10/2/1995  Released           5.7       173.0   \n",
       "\n",
       "   runtime  \n",
       "0     81.0  \n",
       "1    104.0  \n",
       "2    101.0  \n",
       "3    127.0  \n",
       "4    106.0  "
      ]
     },
     "execution_count": 27,
     "metadata": {},
     "output_type": "execute_result"
    }
   ],
   "source": [
    "df_merge.head()"
   ]
  },
  {
   "cell_type": "code",
   "execution_count": 28,
   "id": "70507838",
   "metadata": {},
   "outputs": [
    {
     "data": {
      "text/plain": [
       "(44064, 13)"
      ]
     },
     "execution_count": 28,
     "metadata": {},
     "output_type": "execute_result"
    }
   ],
   "source": [
    "df_merge.shape"
   ]
  },
  {
   "cell_type": "code",
   "execution_count": 29,
   "id": "5ec842dd",
   "metadata": {},
   "outputs": [
    {
     "name": "stdout",
     "output_type": "stream",
     "text": [
      "<class 'pandas.core.frame.DataFrame'>\n",
      "RangeIndex: 44064 entries, 0 to 44063\n",
      "Data columns (total 13 columns):\n",
      " #   Column                Non-Null Count  Dtype  \n",
      "---  ------                --------------  -----  \n",
      " 0   id                    44064 non-null  object \n",
      " 1   keywords              44064 non-null  object \n",
      " 2   title                 44064 non-null  object \n",
      " 3   genres                44064 non-null  object \n",
      " 4   original_language     44064 non-null  object \n",
      " 5   overview              44064 non-null  object \n",
      " 6   tagline               44064 non-null  object \n",
      " 7   production_countries  44064 non-null  object \n",
      " 8   release_date          44064 non-null  object \n",
      " 9   status                44064 non-null  object \n",
      " 10  vote_average          44064 non-null  float64\n",
      " 11  vote_count            44064 non-null  float64\n",
      " 12  runtime               44064 non-null  float64\n",
      "dtypes: float64(3), object(10)\n",
      "memory usage: 4.4+ MB\n"
     ]
    }
   ],
   "source": [
    "df_merge.info()"
   ]
  },
  {
   "attachments": {},
   "cell_type": "markdown",
   "id": "364ba10d",
   "metadata": {},
   "source": [
    "# Content-Based Filtering"
   ]
  },
  {
   "attachments": {},
   "cell_type": "markdown",
   "id": "d033eb67",
   "metadata": {},
   "source": [
    "### Create a new column named 'soup', which is a string contains all the data that we want to feed to the model.  \n",
    "- Soup: genres, original language, overview, tagline, keywords,  production countries"
   ]
  },
  {
   "cell_type": "code",
   "execution_count": 30,
   "id": "fde8b913",
   "metadata": {},
   "outputs": [],
   "source": [
    "def create_soup(movie: pd.Series) -> str:\n",
    "    \"\"\"\n",
    "    Concatenates several movies features into a single string to create a soup of text.\n",
    "\n",
    "    :param movie: A movie containing features to concatenate.\n",
    "    :return: A string containing the concatenated movie features.\n",
    "    \"\"\"\n",
    "    return (\n",
    "        movie.genres\n",
    "        + \" \"\n",
    "        + movie.original_language\n",
    "        + \" \"\n",
    "        + movie.overview\n",
    "        + \" \"\n",
    "        + movie.tagline\n",
    "        + \" \"\n",
    "        + movie.keywords\n",
    "        + \" \"\n",
    "        + movie.production_countries\n",
    "    ).lower()"
   ]
  },
  {
   "cell_type": "code",
   "execution_count": 31,
   "id": "1cd8993e",
   "metadata": {},
   "outputs": [],
   "source": [
    "df_merge[\"soup\"] = df_merge.apply(create_soup, axis=1)"
   ]
  },
  {
   "cell_type": "code",
   "execution_count": 32,
   "id": "9e511479",
   "metadata": {},
   "outputs": [
    {
     "data": {
      "text/plain": [
       "\"animation, comedy, family en led by woody, andy's toys live happily in his room until andy's birthday brings buzz lightyear onto the scene. afraid of losing his place in andy's heart, woody plots against buzz. but when circumstances separate buzz and woody from their owner, the duo eventually learns to put aside their differences.  jealousy, toy, boy, friendship, friends, rivalry, boy next door, new toy, toy comes to life united states of america\""
      ]
     },
     "execution_count": 32,
     "metadata": {},
     "output_type": "execute_result"
    }
   ],
   "source": [
    "df_merge.soup[0]"
   ]
  },
  {
   "cell_type": "code",
   "execution_count": 33,
   "id": "da5b2b13",
   "metadata": {},
   "outputs": [
    {
     "data": {
      "text/html": [
       "<div>\n",
       "<style scoped>\n",
       "    .dataframe tbody tr th:only-of-type {\n",
       "        vertical-align: middle;\n",
       "    }\n",
       "\n",
       "    .dataframe tbody tr th {\n",
       "        vertical-align: top;\n",
       "    }\n",
       "\n",
       "    .dataframe thead th {\n",
       "        text-align: right;\n",
       "    }\n",
       "</style>\n",
       "<table border=\"1\" class=\"dataframe\">\n",
       "  <thead>\n",
       "    <tr style=\"text-align: right;\">\n",
       "      <th></th>\n",
       "      <th>id</th>\n",
       "      <th>keywords</th>\n",
       "      <th>title</th>\n",
       "      <th>genres</th>\n",
       "      <th>original_language</th>\n",
       "      <th>overview</th>\n",
       "      <th>tagline</th>\n",
       "      <th>production_countries</th>\n",
       "      <th>release_date</th>\n",
       "      <th>status</th>\n",
       "      <th>vote_average</th>\n",
       "      <th>vote_count</th>\n",
       "      <th>runtime</th>\n",
       "      <th>soup</th>\n",
       "    </tr>\n",
       "  </thead>\n",
       "  <tbody>\n",
       "    <tr>\n",
       "      <th>0</th>\n",
       "      <td>862</td>\n",
       "      <td>jealousy, toy, boy, friendship, friends, rival...</td>\n",
       "      <td>Toy Story</td>\n",
       "      <td>Animation, Comedy, Family</td>\n",
       "      <td>en</td>\n",
       "      <td>Led by Woody, Andy's toys live happily in his ...</td>\n",
       "      <td></td>\n",
       "      <td>United States of America</td>\n",
       "      <td>30/10/1995</td>\n",
       "      <td>Released</td>\n",
       "      <td>7.7</td>\n",
       "      <td>5415.0</td>\n",
       "      <td>81.0</td>\n",
       "      <td>animation, comedy, family en led by woody, and...</td>\n",
       "    </tr>\n",
       "    <tr>\n",
       "      <th>1</th>\n",
       "      <td>8844</td>\n",
       "      <td>board game, disappearance, based on children's...</td>\n",
       "      <td>Jumanji</td>\n",
       "      <td>Adventure, Fantasy, Family</td>\n",
       "      <td>en</td>\n",
       "      <td>When siblings Judy and Peter discover an encha...</td>\n",
       "      <td>Roll the dice and unleash the excitement!</td>\n",
       "      <td>United States of America</td>\n",
       "      <td>15/12/1995</td>\n",
       "      <td>Released</td>\n",
       "      <td>6.9</td>\n",
       "      <td>2413.0</td>\n",
       "      <td>104.0</td>\n",
       "      <td>adventure, fantasy, family en when siblings ju...</td>\n",
       "    </tr>\n",
       "    <tr>\n",
       "      <th>2</th>\n",
       "      <td>15602</td>\n",
       "      <td>fishing, best friend, duringcreditsstinger, ol...</td>\n",
       "      <td>Grumpier Old Men</td>\n",
       "      <td>Romance, Comedy</td>\n",
       "      <td>en</td>\n",
       "      <td>A family wedding reignites the ancient feud be...</td>\n",
       "      <td>Still Yelling. Still Fighting. Still Ready for...</td>\n",
       "      <td>United States of America</td>\n",
       "      <td>22/12/1995</td>\n",
       "      <td>Released</td>\n",
       "      <td>6.5</td>\n",
       "      <td>92.0</td>\n",
       "      <td>101.0</td>\n",
       "      <td>romance, comedy en a family wedding reignites ...</td>\n",
       "    </tr>\n",
       "    <tr>\n",
       "      <th>3</th>\n",
       "      <td>31357</td>\n",
       "      <td>based on novel, interracial relationship, sing...</td>\n",
       "      <td>Waiting to Exhale</td>\n",
       "      <td>Comedy, Drama, Romance</td>\n",
       "      <td>en</td>\n",
       "      <td>Cheated on, mistreated and stepped on, the wom...</td>\n",
       "      <td>Friends are the people who let you be yourself...</td>\n",
       "      <td>United States of America</td>\n",
       "      <td>22/12/1995</td>\n",
       "      <td>Released</td>\n",
       "      <td>6.1</td>\n",
       "      <td>34.0</td>\n",
       "      <td>127.0</td>\n",
       "      <td>comedy, drama, romance en cheated on, mistreat...</td>\n",
       "    </tr>\n",
       "    <tr>\n",
       "      <th>4</th>\n",
       "      <td>11862</td>\n",
       "      <td>baby, midlife crisis, confidence, aging, daugh...</td>\n",
       "      <td>Father of the Bride Part II</td>\n",
       "      <td>Comedy</td>\n",
       "      <td>en</td>\n",
       "      <td>Just when George Banks has recovered from his ...</td>\n",
       "      <td>Just When His World Is Back To Normal... He's ...</td>\n",
       "      <td>United States of America</td>\n",
       "      <td>10/2/1995</td>\n",
       "      <td>Released</td>\n",
       "      <td>5.7</td>\n",
       "      <td>173.0</td>\n",
       "      <td>106.0</td>\n",
       "      <td>comedy en just when george banks has recovered...</td>\n",
       "    </tr>\n",
       "  </tbody>\n",
       "</table>\n",
       "</div>"
      ],
      "text/plain": [
       "      id                                           keywords   \n",
       "0    862  jealousy, toy, boy, friendship, friends, rival...  \\\n",
       "1   8844  board game, disappearance, based on children's...   \n",
       "2  15602  fishing, best friend, duringcreditsstinger, ol...   \n",
       "3  31357  based on novel, interracial relationship, sing...   \n",
       "4  11862  baby, midlife crisis, confidence, aging, daugh...   \n",
       "\n",
       "                         title                      genres original_language   \n",
       "0                    Toy Story   Animation, Comedy, Family                en  \\\n",
       "1                      Jumanji  Adventure, Fantasy, Family                en   \n",
       "2             Grumpier Old Men             Romance, Comedy                en   \n",
       "3            Waiting to Exhale      Comedy, Drama, Romance                en   \n",
       "4  Father of the Bride Part II                      Comedy                en   \n",
       "\n",
       "                                            overview   \n",
       "0  Led by Woody, Andy's toys live happily in his ...  \\\n",
       "1  When siblings Judy and Peter discover an encha...   \n",
       "2  A family wedding reignites the ancient feud be...   \n",
       "3  Cheated on, mistreated and stepped on, the wom...   \n",
       "4  Just when George Banks has recovered from his ...   \n",
       "\n",
       "                                             tagline   \n",
       "0                                                     \\\n",
       "1          Roll the dice and unleash the excitement!   \n",
       "2  Still Yelling. Still Fighting. Still Ready for...   \n",
       "3  Friends are the people who let you be yourself...   \n",
       "4  Just When His World Is Back To Normal... He's ...   \n",
       "\n",
       "       production_countries release_date    status  vote_average  vote_count   \n",
       "0  United States of America   30/10/1995  Released           7.7      5415.0  \\\n",
       "1  United States of America   15/12/1995  Released           6.9      2413.0   \n",
       "2  United States of America   22/12/1995  Released           6.5        92.0   \n",
       "3  United States of America   22/12/1995  Released           6.1        34.0   \n",
       "4  United States of America    10/2/1995  Released           5.7       173.0   \n",
       "\n",
       "   runtime                                               soup  \n",
       "0     81.0  animation, comedy, family en led by woody, and...  \n",
       "1    104.0  adventure, fantasy, family en when siblings ju...  \n",
       "2    101.0  romance, comedy en a family wedding reignites ...  \n",
       "3    127.0  comedy, drama, romance en cheated on, mistreat...  \n",
       "4    106.0  comedy en just when george banks has recovered...  "
      ]
     },
     "execution_count": 33,
     "metadata": {},
     "output_type": "execute_result"
    }
   ],
   "source": [
    "df_merge.head()"
   ]
  },
  {
   "cell_type": "code",
   "execution_count": 34,
   "id": "19eafab4",
   "metadata": {},
   "outputs": [],
   "source": [
    "# Initialize the model with the 'all-MiniLM-L6-v2' pre-trained model and load it to GPU if available\n",
    "if torch.cuda.is_available():\n",
    "    device = \"cuda\"\n",
    "else:\n",
    "    device = \"cpu\"\n",
    "model = SentenceTransformer(\"sentence-transformers/all-MiniLM-L6-v2\").to(device)"
   ]
  },
  {
   "cell_type": "code",
   "execution_count": 35,
   "id": "03f1770f",
   "metadata": {},
   "outputs": [
    {
     "data": {
      "text/plain": [
       "SentenceTransformer(\n",
       "  (0): Transformer({'max_seq_length': 256, 'do_lower_case': False}) with Transformer model: BertModel \n",
       "  (1): Pooling({'word_embedding_dimension': 384, 'pooling_mode_cls_token': False, 'pooling_mode_mean_tokens': True, 'pooling_mode_max_tokens': False, 'pooling_mode_mean_sqrt_len_tokens': False})\n",
       "  (2): Normalize()\n",
       ")"
      ]
     },
     "execution_count": 35,
     "metadata": {},
     "output_type": "execute_result"
    }
   ],
   "source": [
    "model"
   ]
  },
  {
   "cell_type": "code",
   "execution_count": 36,
   "id": "15a7aa4f",
   "metadata": {},
   "outputs": [],
   "source": [
    "# Encode a list of sentences in the 'soup' column using the pre-trained model\n",
    "sentence_embeddings = model.encode(df_merge[\"soup\"].tolist())"
   ]
  },
  {
   "cell_type": "code",
   "execution_count": 37,
   "id": "02216a66",
   "metadata": {},
   "outputs": [],
   "source": [
    "# Compute similarity\n",
    "cos_sim = cosine_similarity(sentence_embeddings)"
   ]
  },
  {
   "cell_type": "code",
   "execution_count": 38,
   "id": "0c31e200",
   "metadata": {},
   "outputs": [],
   "source": [
    "def lowercase_title(title: str) -> str:\n",
    "    \"\"\"\n",
    "    Creates a lowercase version of movie title.\n",
    "\n",
    "    :param title: The movie title.\n",
    "    :return: A lowercase version of the movie title.\n",
    "    \"\"\"\n",
    "    return title.lower()\n",
    "\n",
    "\n",
    "# Construct a reverse map of movie titles to indices\n",
    "movie_indices = pd.Series(\n",
    "    df_merge.index, index=df_merge[\"title\"].apply(lowercase_title)\n",
    ").drop_duplicates()"
   ]
  },
  {
   "cell_type": "code",
   "execution_count": 39,
   "id": "f0106ef3",
   "metadata": {},
   "outputs": [
    {
     "data": {
      "text/plain": [
       "title\n",
       "toy story                      0\n",
       "jumanji                        1\n",
       "grumpier old men               2\n",
       "waiting to exhale              3\n",
       "father of the bride part ii    4\n",
       "dtype: int64"
      ]
     },
     "execution_count": 39,
     "metadata": {},
     "output_type": "execute_result"
    }
   ],
   "source": [
    "movie_indices.head()"
   ]
  },
  {
   "attachments": {},
   "cell_type": "markdown",
   "id": "5c7e8f4c",
   "metadata": {},
   "source": [
    "### IMDB's weighted rating"
   ]
  },
  {
   "attachments": {},
   "cell_type": "markdown",
   "id": "a969a1df",
   "metadata": {},
   "source": [
    "A movie with an average rating of 9 based on and only 2 votes cannot be considered better than a movie with a lower average rating of 8 but has 1000 votes. So we will be using IMDB's weighted rating to determine the quality of a movie."
   ]
  },
  {
   "cell_type": "code",
   "execution_count": 40,
   "id": "0fc2d88d",
   "metadata": {},
   "outputs": [],
   "source": [
    "def weighted_rating(\n",
    "    movie: pd.Series, min_vote_counts: int, mean_vote_average: float\n",
    ") -> float:\n",
    "    \"\"\"\n",
    "    Calculate the weighted rating for a movie based on its vote count, vote average,\n",
    "    and the minimum vote counts and mean vote average across the dataset.\n",
    "\n",
    "    :param movie: A DataFrame row representing a movie.\n",
    "    :param min_votes: The mnimum votes required to be listed in the chart.\n",
    "    :param mean_vote_average: The mean vote average across the whole dataset.\n",
    "    :return: The weighted rating for the movie.\n",
    "    \"\"\"\n",
    "    vote_count = movie[\"vote_count\"]\n",
    "    vote_average = movie[\"vote_average\"]\n",
    "    return (vote_count / (vote_count + min_vote_counts) * vote_average) + (\n",
    "        min_vote_counts / (min_vote_counts + vote_count) * mean_vote_average\n",
    "    )"
   ]
  },
  {
   "cell_type": "code",
   "execution_count": 41,
   "id": "5307119f",
   "metadata": {},
   "outputs": [],
   "source": [
    "def get_recommended_movie_indices(title: str) -> list[int]:\n",
    "    \"\"\"\n",
    "    Get the indices of the top 50 most similar movies based on the cosine similarity of their metadata and keywords, \n",
    "    regardless of the quality of the movie.\n",
    "\n",
    "    :param title: The title of the movie to find similar movies for.\n",
    "    :param cosine_sim: A matrix of pairwise cosine similarity scores between all movies, defaults to `cos_sim`.\n",
    "    :return: A list of recommended movie indices.\n",
    "    \"\"\"\n",
    "\n",
    "    try:\n",
    "        # Get the index of the movie that matches the title\n",
    "        movie_index = movie_indices[title.lower()]\n",
    "\n",
    "        # If there are multiple movies with the same title, pick the first one.\n",
    "        if isinstance(movie_index, pd.Series):\n",
    "            movie_index = movie_index[0]\n",
    "\n",
    "    except KeyError:\n",
    "        return f\"Movie '{title}' not found. Please enter a valid movie title.\"\n",
    "\n",
    "    # Get the pairwise similarity scores of all movies with that movie\n",
    "    sim_scores = list(enumerate(cos_sim[movie_index]))\n",
    "\n",
    "    # Sort the movies based on the similarity scores and get the first 50 movie recommendations\n",
    "    sim_scores = sorted(sim_scores, key=lambda x: x[1], reverse=True)[1:51]\n",
    "\n",
    "    # Get the movie indices\n",
    "    recommended_movie_indices = [sim_score[0] for sim_score in sim_scores]\n",
    "\n",
    "    return recommended_movie_indices"
   ]
  },
  {
   "cell_type": "code",
   "execution_count": 42,
   "id": "188097d7",
   "metadata": {},
   "outputs": [],
   "source": [
    "def filter_out_bad_movies(recommended_movie_indices: list[int]) -> None:\n",
    "    \"\"\"\n",
    "    Print the details of the recommended movies after filtering out bad movies based on IMDB's weighted rating.\n",
    "\n",
    "    :param recommended_movie_indices: The indices of recommended movies.\n",
    "    \"\"\"\n",
    "    movie_details = [\n",
    "        \"id\",\n",
    "        \"title\",\n",
    "        \"genres\",\n",
    "        \"original_language\",\n",
    "        \"production_countries\",\n",
    "        \"release_date\",\n",
    "        \"overview\",\n",
    "        \"vote_count\",\n",
    "        \"vote_average\",\n",
    "        \"runtime\",\n",
    "    ]\n",
    "\n",
    "    movies = df_merge.loc[recommended_movie_indices, movie_details]\n",
    "\n",
    "    # Get the vote counts and vote averages for the movies\n",
    "    vote_counts = movies[movies[\"vote_count\"].notnull()][\"vote_count\"]\n",
    "    vote_averages = movies[movies[\"vote_average\"].notnull()][\"vote_average\"]\n",
    "\n",
    "    # Calculate the minimum votes required to be listed in the chart and the mean vote average\n",
    "    min_vote_counts = vote_counts.quantile(0.6)\n",
    "    mean_vote_average = vote_averages.mean()\n",
    "\n",
    "    # Filter the movies based on the conditions for vote count and vote average\n",
    "    qualified_movies = movies[\n",
    "        (movies[\"vote_count\"] >= min_vote_counts)\n",
    "        & (movies[\"vote_count\"].notnull())\n",
    "        & (movies[\"vote_average\"].notnull())\n",
    "    ]\n",
    "\n",
    "    # Apply the weighted_rating function to calculate the weighted ratings for each movie\n",
    "    qualified_movies[\"weighted_rating\"] = qualified_movies.apply(\n",
    "        lambda movie: weighted_rating(movie, min_vote_counts, mean_vote_average), axis=1\n",
    "    )\n",
    "    qualified_movies = qualified_movies.sort_values(\"weighted_rating\", ascending=False)\n",
    "    return qualified_movies"
   ]
  },
  {
   "cell_type": "code",
   "execution_count": 43,
   "id": "73a91bf3",
   "metadata": {},
   "outputs": [],
   "source": [
    "def get_movie_recommendations_cbf(title: str, num_recommendations: int = 5) -> None:\n",
    "    \"\"\"\n",
    "    Get movie recommendations based on a given title using content-based filtering.\n",
    "\n",
    "    :param title: The title of the movie to find similar movies for.\n",
    "    :param num_recommendations: The number of recommended movies, defaults to 5.\n",
    "    \"\"\"\n",
    "\n",
    "    recommended_movie_indices = get_recommended_movie_indices(title)\n",
    "    recommended_movies = filter_out_bad_movies(recommended_movie_indices).head(\n",
    "        num_recommendations\n",
    "    )\n",
    "\n",
    "    for _, movie in recommended_movies.iterrows():\n",
    "        # Print the movie details\n",
    "        print(f\"Title: {movie['title']}\")\n",
    "        print(f\"Overview: {movie['overview']}\")\n",
    "        print(f\"Genres: {movie['genres']}\")\n",
    "        print(f\"Original Language: {movie['original_language']}\")\n",
    "        print(f\"Runtime: {int(movie['runtime'])} mins\")\n",
    "        print(f\"Production Countries: {movie['production_countries']}\")\n",
    "        print(f\"Release Date: {movie['release_date']}\")\n",
    "        print(\n",
    "            f\"Rating: {movie['vote_average']} out of 10 ({int(movie['vote_count'])} ratings)\"\n",
    "        )\n",
    "        print(\"\")"
   ]
  },
  {
   "cell_type": "code",
   "execution_count": null,
   "id": "8c208650",
   "metadata": {},
   "outputs": [
    {
     "data": {
      "application/vnd.jupyter.widget-view+json": {
       "model_id": "0ccd11716adf47cba73e263df5a80139",
       "version_major": 2,
       "version_minor": 0
      },
      "text/plain": [
       "Text(value='', placeholder='Search movie title...')"
      ]
     },
     "metadata": {},
     "output_type": "display_data"
    },
    {
     "data": {
      "application/vnd.jupyter.widget-view+json": {
       "model_id": "4a14896bfdaa4c0390e60f82e1f95ec4",
       "version_major": 2,
       "version_minor": 0
      },
      "text/plain": [
       "Dropdown(index=2024, options=('Toy Story', 'Jumanji', 'Grumpier Old Men', 'Waiting to Exhale', 'Father of the …"
      ]
     },
     "metadata": {},
     "output_type": "display_data"
    },
    {
     "data": {
      "application/vnd.jupyter.widget-view+json": {
       "model_id": "ac75238222834ca7a43d6de47fbc9f1c",
       "version_major": 2,
       "version_minor": 0
      },
      "text/plain": [
       "Button(description='Get Movie Recommendations', layout=Layout(width='200px'), style=ButtonStyle())"
      ]
     },
     "metadata": {},
     "output_type": "display_data"
    },
    {
     "name": "stdout",
     "output_type": "stream",
     "text": [
      "Title: Superbad\n",
      "Overview: High school best buddies are facing separation anxiety as they prepare to go off to college. While attempting to score alcohol for a party with help from a fake ID-toting friend, the guys' evening takes a turn into chaotic territory.\n",
      "Genres: Comedy\n",
      "Original Language: en\n",
      "Runtime: 113 mins\n",
      "Production Countries: United States of America\n",
      "Release Date: 17/8/2007\n",
      "Rating: 7.0 out of 10 (2152 ratings)\n",
      "\n",
      "Title: The Kings of Summer\n",
      "Overview: Joe Toy, on the verge of adolescence, finds himself increasingly frustrated by his single father, Frank's attempts to manage his life. Declaring his freedom once and for all, he escapes to a clearing in the woods with his best friend, Patrick, and a strange kid named Biaggio. He announces that they are going to build a house there, free from responsibility and parents. Once their makeshift abode is finished, the three young men find themselves masters of their own destiny, alone in the woods.\n",
      "Genres: Comedy, Drama\n",
      "Original Language: en\n",
      "Runtime: 93 mins\n",
      "Production Countries: United States of America\n",
      "Release Date: 19/1/2013\n",
      "Rating: 7.0 out of 10 (427 ratings)\n",
      "\n",
      "Title: Napoleon Dynamite\n",
      "Overview: A listless and alienated teenager decides to help his new friend win the class presidency in their small western high school, while he must deal with his bizarre family life back home.\n",
      "Genres: Comedy\n",
      "Original Language: en\n",
      "Runtime: 95 mins\n",
      "Production Countries: United States of America\n",
      "Release Date: 11/6/2004\n",
      "Rating: 6.7 out of 10 (567 ratings)\n",
      "\n",
      "Title: Revenge of the Nerds\n",
      "Overview: At Adams College, the jocks rule the school from their house on high, the Alpha Beta fraternity. So when a group of socially-challenged misfits try to go Greek, they're instantly rejected by every house on campus. Deciding to start their own fraternity to protect their outcast brothers, the campus nerds soon find themselves in a battle royale as the Alpha Betas try to crush their new rivals.\n",
      "Genres: Comedy\n",
      "Original Language: en\n",
      "Runtime: 90 mins\n",
      "Production Countries: United States of America\n",
      "Release Date: 20/7/1984\n",
      "Rating: 6.6 out of 10 (204 ratings)\n",
      "\n",
      "Title: Trees Lounge\n",
      "Overview: Tommy has lost his job, his love and his life. He lives in a small apartment above the Trees Lounge, a bar which he frequents along with a few other regulars without lives. He gets a job driving an ice cream truck and ends up getting involved with the seventeen-year-old niece of his ex-girlfriend. This gets him into serious trouble with her father.\n",
      "Genres: Comedy, Drama\n",
      "Original Language: en\n",
      "Runtime: 95 mins\n",
      "Production Countries: \n",
      "Release Date: 11/10/1996\n",
      "Rating: 6.7 out of 10 (51 ratings)\n",
      "\n"
     ]
    }
   ],
   "source": [
    "dropdown = widgets.Dropdown(options=df_merge[\"title\"].unique())\n",
    "search_box = widgets.Text(placeholder=\"Search movie title...\")\n",
    "button = widgets.Button(description=\"Get Movie Recommendations\")\n",
    "button.layout.width = \"200px\"\n",
    "\n",
    "\n",
    "def on_search_box_value_change(change):\n",
    "    \"\"\"\n",
    "    Event listener for the search box widget. Updates the dropdown options based on the search query.\n",
    "    \"\"\"\n",
    "\n",
    "    search_value = change.new.lower()\n",
    "    options = df_merge[df_merge[\"title\"].str.lower().str.contains(search_value)][\n",
    "        \"title\"\n",
    "    ].unique()\n",
    "    dropdown.options = options if len(options) > 0 else [\"Movie not found\"]\n",
    "    dropdown.label = options[0] if len(options) > 0 else \"Movie not found\"\n",
    "\n",
    "\n",
    "def on_button_click(button):\n",
    "    \"\"\"\n",
    "    Event listener for the button widget. Displays the recommended movies.\n",
    "    \"\"\"\n",
    "\n",
    "    clear_output()\n",
    "    display(search_box)\n",
    "    display(dropdown)\n",
    "    display(button)\n",
    "    title = dropdown.value\n",
    "\n",
    "    if title != \"Movie not found\":\n",
    "        search_box.value = dropdown.value\n",
    "        get_movie_recommendations_cbf(title)\n",
    "\n",
    "    else:\n",
    "        print(\"Movie Not Found\")\n",
    "\n",
    "\n",
    "# Attach event listeners to the widgets\n",
    "search_box.observe(on_search_box_value_change, names=\"value\")\n",
    "button.on_click(on_button_click)\n",
    "\n",
    "# Display the widgets\n",
    "display(search_box)\n",
    "display(dropdown)\n",
    "display(button)"
   ]
  },
  {
   "attachments": {},
   "cell_type": "markdown",
   "id": "25c792b2",
   "metadata": {},
   "source": [
    "# Collaborative Filtering"
   ]
  },
  {
   "cell_type": "code",
   "execution_count": 83,
   "id": "41aa5698",
   "metadata": {},
   "outputs": [],
   "source": [
    "df_ratings = pd.read_csv(\"data/ratings_small.csv\")"
   ]
  },
  {
   "cell_type": "code",
   "execution_count": 84,
   "id": "a07d7416",
   "metadata": {},
   "outputs": [
    {
     "data": {
      "text/plain": [
       "(100004, 4)"
      ]
     },
     "execution_count": 84,
     "metadata": {},
     "output_type": "execute_result"
    }
   ],
   "source": [
    "df_ratings.shape"
   ]
  },
  {
   "cell_type": "code",
   "execution_count": 85,
   "id": "adf8d14c",
   "metadata": {},
   "outputs": [
    {
     "data": {
      "text/html": [
       "<div>\n",
       "<style scoped>\n",
       "    .dataframe tbody tr th:only-of-type {\n",
       "        vertical-align: middle;\n",
       "    }\n",
       "\n",
       "    .dataframe tbody tr th {\n",
       "        vertical-align: top;\n",
       "    }\n",
       "\n",
       "    .dataframe thead th {\n",
       "        text-align: right;\n",
       "    }\n",
       "</style>\n",
       "<table border=\"1\" class=\"dataframe\">\n",
       "  <thead>\n",
       "    <tr style=\"text-align: right;\">\n",
       "      <th></th>\n",
       "      <th>userId</th>\n",
       "      <th>movieId</th>\n",
       "      <th>rating</th>\n",
       "      <th>timestamp</th>\n",
       "    </tr>\n",
       "  </thead>\n",
       "  <tbody>\n",
       "    <tr>\n",
       "      <th>0</th>\n",
       "      <td>1</td>\n",
       "      <td>31</td>\n",
       "      <td>2.5</td>\n",
       "      <td>1260759144</td>\n",
       "    </tr>\n",
       "    <tr>\n",
       "      <th>1</th>\n",
       "      <td>1</td>\n",
       "      <td>1029</td>\n",
       "      <td>3.0</td>\n",
       "      <td>1260759179</td>\n",
       "    </tr>\n",
       "    <tr>\n",
       "      <th>2</th>\n",
       "      <td>1</td>\n",
       "      <td>1061</td>\n",
       "      <td>3.0</td>\n",
       "      <td>1260759182</td>\n",
       "    </tr>\n",
       "    <tr>\n",
       "      <th>3</th>\n",
       "      <td>1</td>\n",
       "      <td>1129</td>\n",
       "      <td>2.0</td>\n",
       "      <td>1260759185</td>\n",
       "    </tr>\n",
       "    <tr>\n",
       "      <th>4</th>\n",
       "      <td>1</td>\n",
       "      <td>1172</td>\n",
       "      <td>4.0</td>\n",
       "      <td>1260759205</td>\n",
       "    </tr>\n",
       "  </tbody>\n",
       "</table>\n",
       "</div>"
      ],
      "text/plain": [
       "   userId  movieId  rating   timestamp\n",
       "0       1       31     2.5  1260759144\n",
       "1       1     1029     3.0  1260759179\n",
       "2       1     1061     3.0  1260759182\n",
       "3       1     1129     2.0  1260759185\n",
       "4       1     1172     4.0  1260759205"
      ]
     },
     "execution_count": 85,
     "metadata": {},
     "output_type": "execute_result"
    }
   ],
   "source": [
    "df_ratings.head()"
   ]
  },
  {
   "cell_type": "code",
   "execution_count": 86,
   "id": "614a6f9d",
   "metadata": {},
   "outputs": [],
   "source": [
    "reader = Reader()\n",
    "data = Dataset.load_from_df(df_ratings[[\"userId\", \"movieId\", \"rating\"]], reader)"
   ]
  },
  {
   "cell_type": "code",
   "execution_count": 87,
   "id": "7219dda5",
   "metadata": {},
   "outputs": [
    {
     "name": "stdout",
     "output_type": "stream",
     "text": [
      "Evaluating RMSE, MAE of algorithm SVD on 5 split(s).\n",
      "\n",
      "                  Fold 1  Fold 2  Fold 3  Fold 4  Fold 5  Mean    Std     \n",
      "RMSE (testset)    0.8851  0.8966  0.9019  0.9054  0.8999  0.8978  0.0070  \n",
      "MAE (testset)     0.6841  0.6905  0.6907  0.6984  0.6922  0.6912  0.0046  \n",
      "Fit time          0.78    0.69    0.70    0.67    0.70    0.71    0.04    \n",
      "Test time         0.08    0.07    0.07    0.07    0.07    0.07    0.00    \n"
     ]
    },
    {
     "data": {
      "text/plain": [
       "{'test_rmse': array([0.88508951, 0.89661886, 0.90187904, 0.90544375, 0.89992305]),\n",
       " 'test_mae': array([0.68407235, 0.69047089, 0.69066488, 0.69837561, 0.69223796]),\n",
       " 'fit_time': (0.7807812690734863,\n",
       "  0.6947872638702393,\n",
       "  0.6961324214935303,\n",
       "  0.6745295524597168,\n",
       "  0.6987829208374023),\n",
       " 'test_time': (0.07694053649902344,\n",
       "  0.07264065742492676,\n",
       "  0.070220947265625,\n",
       "  0.06841564178466797,\n",
       "  0.06806826591491699)}"
      ]
     },
     "execution_count": 87,
     "metadata": {},
     "output_type": "execute_result"
    }
   ],
   "source": [
    "svd = SVD()\n",
    "cross_validate(svd, data, measures=[\"RMSE\", \"MAE\"], cv=5, verbose=True)"
   ]
  },
  {
   "cell_type": "code",
   "execution_count": 88,
   "id": "c88c2bba",
   "metadata": {},
   "outputs": [
    {
     "data": {
      "text/plain": [
       "<surprise.prediction_algorithms.matrix_factorization.SVD at 0x2c2e2ac56f0>"
      ]
     },
     "execution_count": 88,
     "metadata": {},
     "output_type": "execute_result"
    }
   ],
   "source": [
    "trainset = data.build_full_trainset()\n",
    "svd.fit(trainset)"
   ]
  },
  {
   "cell_type": "code",
   "execution_count": 157,
   "id": "9fbd35c4",
   "metadata": {},
   "outputs": [
    {
     "data": {
      "text/html": [
       "<div>\n",
       "<style scoped>\n",
       "    .dataframe tbody tr th:only-of-type {\n",
       "        vertical-align: middle;\n",
       "    }\n",
       "\n",
       "    .dataframe tbody tr th {\n",
       "        vertical-align: top;\n",
       "    }\n",
       "\n",
       "    .dataframe thead th {\n",
       "        text-align: right;\n",
       "    }\n",
       "</style>\n",
       "<table border=\"1\" class=\"dataframe\">\n",
       "  <thead>\n",
       "    <tr style=\"text-align: right;\">\n",
       "      <th></th>\n",
       "      <th>userId</th>\n",
       "      <th>movieId</th>\n",
       "      <th>rating</th>\n",
       "      <th>timestamp</th>\n",
       "    </tr>\n",
       "  </thead>\n",
       "  <tbody>\n",
       "    <tr>\n",
       "      <th>0</th>\n",
       "      <td>1</td>\n",
       "      <td>31</td>\n",
       "      <td>2.5</td>\n",
       "      <td>1260759144</td>\n",
       "    </tr>\n",
       "    <tr>\n",
       "      <th>1</th>\n",
       "      <td>1</td>\n",
       "      <td>1029</td>\n",
       "      <td>3.0</td>\n",
       "      <td>1260759179</td>\n",
       "    </tr>\n",
       "    <tr>\n",
       "      <th>2</th>\n",
       "      <td>1</td>\n",
       "      <td>1061</td>\n",
       "      <td>3.0</td>\n",
       "      <td>1260759182</td>\n",
       "    </tr>\n",
       "    <tr>\n",
       "      <th>3</th>\n",
       "      <td>1</td>\n",
       "      <td>1129</td>\n",
       "      <td>2.0</td>\n",
       "      <td>1260759185</td>\n",
       "    </tr>\n",
       "    <tr>\n",
       "      <th>4</th>\n",
       "      <td>1</td>\n",
       "      <td>1172</td>\n",
       "      <td>4.0</td>\n",
       "      <td>1260759205</td>\n",
       "    </tr>\n",
       "    <tr>\n",
       "      <th>5</th>\n",
       "      <td>1</td>\n",
       "      <td>1263</td>\n",
       "      <td>2.0</td>\n",
       "      <td>1260759151</td>\n",
       "    </tr>\n",
       "    <tr>\n",
       "      <th>6</th>\n",
       "      <td>1</td>\n",
       "      <td>1287</td>\n",
       "      <td>2.0</td>\n",
       "      <td>1260759187</td>\n",
       "    </tr>\n",
       "    <tr>\n",
       "      <th>7</th>\n",
       "      <td>1</td>\n",
       "      <td>1293</td>\n",
       "      <td>2.0</td>\n",
       "      <td>1260759148</td>\n",
       "    </tr>\n",
       "    <tr>\n",
       "      <th>8</th>\n",
       "      <td>1</td>\n",
       "      <td>1339</td>\n",
       "      <td>3.5</td>\n",
       "      <td>1260759125</td>\n",
       "    </tr>\n",
       "    <tr>\n",
       "      <th>9</th>\n",
       "      <td>1</td>\n",
       "      <td>1343</td>\n",
       "      <td>2.0</td>\n",
       "      <td>1260759131</td>\n",
       "    </tr>\n",
       "    <tr>\n",
       "      <th>10</th>\n",
       "      <td>1</td>\n",
       "      <td>1371</td>\n",
       "      <td>2.5</td>\n",
       "      <td>1260759135</td>\n",
       "    </tr>\n",
       "    <tr>\n",
       "      <th>11</th>\n",
       "      <td>1</td>\n",
       "      <td>1405</td>\n",
       "      <td>1.0</td>\n",
       "      <td>1260759203</td>\n",
       "    </tr>\n",
       "    <tr>\n",
       "      <th>12</th>\n",
       "      <td>1</td>\n",
       "      <td>1953</td>\n",
       "      <td>4.0</td>\n",
       "      <td>1260759191</td>\n",
       "    </tr>\n",
       "    <tr>\n",
       "      <th>13</th>\n",
       "      <td>1</td>\n",
       "      <td>2105</td>\n",
       "      <td>4.0</td>\n",
       "      <td>1260759139</td>\n",
       "    </tr>\n",
       "    <tr>\n",
       "      <th>14</th>\n",
       "      <td>1</td>\n",
       "      <td>2150</td>\n",
       "      <td>3.0</td>\n",
       "      <td>1260759194</td>\n",
       "    </tr>\n",
       "    <tr>\n",
       "      <th>15</th>\n",
       "      <td>1</td>\n",
       "      <td>2193</td>\n",
       "      <td>2.0</td>\n",
       "      <td>1260759198</td>\n",
       "    </tr>\n",
       "    <tr>\n",
       "      <th>16</th>\n",
       "      <td>1</td>\n",
       "      <td>2294</td>\n",
       "      <td>2.0</td>\n",
       "      <td>1260759108</td>\n",
       "    </tr>\n",
       "    <tr>\n",
       "      <th>17</th>\n",
       "      <td>1</td>\n",
       "      <td>2455</td>\n",
       "      <td>2.5</td>\n",
       "      <td>1260759113</td>\n",
       "    </tr>\n",
       "    <tr>\n",
       "      <th>18</th>\n",
       "      <td>1</td>\n",
       "      <td>2968</td>\n",
       "      <td>1.0</td>\n",
       "      <td>1260759200</td>\n",
       "    </tr>\n",
       "    <tr>\n",
       "      <th>19</th>\n",
       "      <td>1</td>\n",
       "      <td>3671</td>\n",
       "      <td>3.0</td>\n",
       "      <td>1260759117</td>\n",
       "    </tr>\n",
       "  </tbody>\n",
       "</table>\n",
       "</div>"
      ],
      "text/plain": [
       "    userId  movieId  rating   timestamp\n",
       "0        1       31     2.5  1260759144\n",
       "1        1     1029     3.0  1260759179\n",
       "2        1     1061     3.0  1260759182\n",
       "3        1     1129     2.0  1260759185\n",
       "4        1     1172     4.0  1260759205\n",
       "5        1     1263     2.0  1260759151\n",
       "6        1     1287     2.0  1260759187\n",
       "7        1     1293     2.0  1260759148\n",
       "8        1     1339     3.5  1260759125\n",
       "9        1     1343     2.0  1260759131\n",
       "10       1     1371     2.5  1260759135\n",
       "11       1     1405     1.0  1260759203\n",
       "12       1     1953     4.0  1260759191\n",
       "13       1     2105     4.0  1260759139\n",
       "14       1     2150     3.0  1260759194\n",
       "15       1     2193     2.0  1260759198\n",
       "16       1     2294     2.0  1260759108\n",
       "17       1     2455     2.5  1260759113\n",
       "18       1     2968     1.0  1260759200\n",
       "19       1     3671     3.0  1260759117"
      ]
     },
     "execution_count": 157,
     "metadata": {},
     "output_type": "execute_result"
    }
   ],
   "source": [
    "df_ratings[df_ratings['userId'] == 1]"
   ]
  },
  {
   "cell_type": "code",
   "execution_count": 156,
   "id": "78c613a7",
   "metadata": {},
   "outputs": [
    {
     "data": {
      "text/plain": [
       "2.316828416951106"
      ]
     },
     "execution_count": 156,
     "metadata": {},
     "output_type": "execute_result"
    }
   ],
   "source": [
    "# Predict the rating of User 1 for the movie with the movie ID 12.\n",
    "user_id = 1\n",
    "movie_id = 12\n",
    "\n",
    "predicted_rating = svd.predict(user_id, movie_id)\n",
    "predicted_rating.est"
   ]
  },
  {
   "attachments": {},
   "cell_type": "markdown",
   "id": "b79b8dbc",
   "metadata": {},
   "source": [
    "# Hybrid Recommender"
   ]
  },
  {
   "cell_type": "code",
   "execution_count": 52,
   "id": "2b51c092",
   "metadata": {},
   "outputs": [
    {
     "data": {
      "text/html": [
       "<div>\n",
       "<style scoped>\n",
       "    .dataframe tbody tr th:only-of-type {\n",
       "        vertical-align: middle;\n",
       "    }\n",
       "\n",
       "    .dataframe tbody tr th {\n",
       "        vertical-align: top;\n",
       "    }\n",
       "\n",
       "    .dataframe thead th {\n",
       "        text-align: right;\n",
       "    }\n",
       "</style>\n",
       "<table border=\"1\" class=\"dataframe\">\n",
       "  <thead>\n",
       "    <tr style=\"text-align: right;\">\n",
       "      <th></th>\n",
       "      <th>movieId</th>\n",
       "      <th>tmdbId</th>\n",
       "    </tr>\n",
       "  </thead>\n",
       "  <tbody>\n",
       "    <tr>\n",
       "      <th>0</th>\n",
       "      <td>1</td>\n",
       "      <td>862.0</td>\n",
       "    </tr>\n",
       "    <tr>\n",
       "      <th>1</th>\n",
       "      <td>2</td>\n",
       "      <td>8844.0</td>\n",
       "    </tr>\n",
       "    <tr>\n",
       "      <th>2</th>\n",
       "      <td>3</td>\n",
       "      <td>15602.0</td>\n",
       "    </tr>\n",
       "    <tr>\n",
       "      <th>3</th>\n",
       "      <td>4</td>\n",
       "      <td>31357.0</td>\n",
       "    </tr>\n",
       "    <tr>\n",
       "      <th>4</th>\n",
       "      <td>5</td>\n",
       "      <td>11862.0</td>\n",
       "    </tr>\n",
       "  </tbody>\n",
       "</table>\n",
       "</div>"
      ],
      "text/plain": [
       "   movieId   tmdbId\n",
       "0        1    862.0\n",
       "1        2   8844.0\n",
       "2        3  15602.0\n",
       "3        4  31357.0\n",
       "4        5  11862.0"
      ]
     },
     "execution_count": 52,
     "metadata": {},
     "output_type": "execute_result"
    }
   ],
   "source": [
    "df_ids = pd.read_csv(\"data/links.csv\")[[\"movieId\", \"tmdbId\"]]\n",
    "df_ids.head()"
   ]
  },
  {
   "cell_type": "code",
   "execution_count": 53,
   "id": "e53504f7",
   "metadata": {},
   "outputs": [],
   "source": [
    "df_ids.dropna(inplace=True)"
   ]
  },
  {
   "cell_type": "code",
   "execution_count": 54,
   "id": "3f925e63",
   "metadata": {},
   "outputs": [
    {
     "data": {
      "text/plain": [
       "(45624, 2)"
      ]
     },
     "execution_count": 54,
     "metadata": {},
     "output_type": "execute_result"
    }
   ],
   "source": [
    "df_ids.shape"
   ]
  },
  {
   "cell_type": "code",
   "execution_count": 55,
   "id": "50f6525d",
   "metadata": {},
   "outputs": [],
   "source": [
    "df_ids.columns = [\"movieId\", \"id\"]\n",
    "df_ids[\"id\"] = df_ids[\"id\"].astype(int)\n",
    "df_ids[\"id\"] = df_ids[\"id\"].astype(str)"
   ]
  },
  {
   "cell_type": "code",
   "execution_count": 56,
   "id": "17b3e28e",
   "metadata": {},
   "outputs": [],
   "source": [
    "df_merge_ids = df_merge.merge(df_ids, on=\"id\")"
   ]
  },
  {
   "cell_type": "code",
   "execution_count": 57,
   "id": "c48e18b8",
   "metadata": {},
   "outputs": [
    {
     "data": {
      "text/html": [
       "<div>\n",
       "<style scoped>\n",
       "    .dataframe tbody tr th:only-of-type {\n",
       "        vertical-align: middle;\n",
       "    }\n",
       "\n",
       "    .dataframe tbody tr th {\n",
       "        vertical-align: top;\n",
       "    }\n",
       "\n",
       "    .dataframe thead th {\n",
       "        text-align: right;\n",
       "    }\n",
       "</style>\n",
       "<table border=\"1\" class=\"dataframe\">\n",
       "  <thead>\n",
       "    <tr style=\"text-align: right;\">\n",
       "      <th></th>\n",
       "      <th>id</th>\n",
       "      <th>keywords</th>\n",
       "      <th>title</th>\n",
       "      <th>genres</th>\n",
       "      <th>original_language</th>\n",
       "      <th>overview</th>\n",
       "      <th>tagline</th>\n",
       "      <th>production_countries</th>\n",
       "      <th>release_date</th>\n",
       "      <th>status</th>\n",
       "      <th>vote_average</th>\n",
       "      <th>vote_count</th>\n",
       "      <th>runtime</th>\n",
       "      <th>soup</th>\n",
       "      <th>movieId</th>\n",
       "    </tr>\n",
       "  </thead>\n",
       "  <tbody>\n",
       "    <tr>\n",
       "      <th>0</th>\n",
       "      <td>862</td>\n",
       "      <td>jealousy, toy, boy, friendship, friends, rival...</td>\n",
       "      <td>Toy Story</td>\n",
       "      <td>Animation, Comedy, Family</td>\n",
       "      <td>en</td>\n",
       "      <td>Led by Woody, Andy's toys live happily in his ...</td>\n",
       "      <td></td>\n",
       "      <td>United States of America</td>\n",
       "      <td>30/10/1995</td>\n",
       "      <td>Released</td>\n",
       "      <td>7.7</td>\n",
       "      <td>5415.0</td>\n",
       "      <td>81.0</td>\n",
       "      <td>animation, comedy, family en led by woody, and...</td>\n",
       "      <td>1</td>\n",
       "    </tr>\n",
       "    <tr>\n",
       "      <th>1</th>\n",
       "      <td>8844</td>\n",
       "      <td>board game, disappearance, based on children's...</td>\n",
       "      <td>Jumanji</td>\n",
       "      <td>Adventure, Fantasy, Family</td>\n",
       "      <td>en</td>\n",
       "      <td>When siblings Judy and Peter discover an encha...</td>\n",
       "      <td>Roll the dice and unleash the excitement!</td>\n",
       "      <td>United States of America</td>\n",
       "      <td>15/12/1995</td>\n",
       "      <td>Released</td>\n",
       "      <td>6.9</td>\n",
       "      <td>2413.0</td>\n",
       "      <td>104.0</td>\n",
       "      <td>adventure, fantasy, family en when siblings ju...</td>\n",
       "      <td>2</td>\n",
       "    </tr>\n",
       "    <tr>\n",
       "      <th>2</th>\n",
       "      <td>15602</td>\n",
       "      <td>fishing, best friend, duringcreditsstinger, ol...</td>\n",
       "      <td>Grumpier Old Men</td>\n",
       "      <td>Romance, Comedy</td>\n",
       "      <td>en</td>\n",
       "      <td>A family wedding reignites the ancient feud be...</td>\n",
       "      <td>Still Yelling. Still Fighting. Still Ready for...</td>\n",
       "      <td>United States of America</td>\n",
       "      <td>22/12/1995</td>\n",
       "      <td>Released</td>\n",
       "      <td>6.5</td>\n",
       "      <td>92.0</td>\n",
       "      <td>101.0</td>\n",
       "      <td>romance, comedy en a family wedding reignites ...</td>\n",
       "      <td>3</td>\n",
       "    </tr>\n",
       "    <tr>\n",
       "      <th>3</th>\n",
       "      <td>31357</td>\n",
       "      <td>based on novel, interracial relationship, sing...</td>\n",
       "      <td>Waiting to Exhale</td>\n",
       "      <td>Comedy, Drama, Romance</td>\n",
       "      <td>en</td>\n",
       "      <td>Cheated on, mistreated and stepped on, the wom...</td>\n",
       "      <td>Friends are the people who let you be yourself...</td>\n",
       "      <td>United States of America</td>\n",
       "      <td>22/12/1995</td>\n",
       "      <td>Released</td>\n",
       "      <td>6.1</td>\n",
       "      <td>34.0</td>\n",
       "      <td>127.0</td>\n",
       "      <td>comedy, drama, romance en cheated on, mistreat...</td>\n",
       "      <td>4</td>\n",
       "    </tr>\n",
       "    <tr>\n",
       "      <th>4</th>\n",
       "      <td>11862</td>\n",
       "      <td>baby, midlife crisis, confidence, aging, daugh...</td>\n",
       "      <td>Father of the Bride Part II</td>\n",
       "      <td>Comedy</td>\n",
       "      <td>en</td>\n",
       "      <td>Just when George Banks has recovered from his ...</td>\n",
       "      <td>Just When His World Is Back To Normal... He's ...</td>\n",
       "      <td>United States of America</td>\n",
       "      <td>10/2/1995</td>\n",
       "      <td>Released</td>\n",
       "      <td>5.7</td>\n",
       "      <td>173.0</td>\n",
       "      <td>106.0</td>\n",
       "      <td>comedy en just when george banks has recovered...</td>\n",
       "      <td>5</td>\n",
       "    </tr>\n",
       "  </tbody>\n",
       "</table>\n",
       "</div>"
      ],
      "text/plain": [
       "      id                                           keywords   \n",
       "0    862  jealousy, toy, boy, friendship, friends, rival...  \\\n",
       "1   8844  board game, disappearance, based on children's...   \n",
       "2  15602  fishing, best friend, duringcreditsstinger, ol...   \n",
       "3  31357  based on novel, interracial relationship, sing...   \n",
       "4  11862  baby, midlife crisis, confidence, aging, daugh...   \n",
       "\n",
       "                         title                      genres original_language   \n",
       "0                    Toy Story   Animation, Comedy, Family                en  \\\n",
       "1                      Jumanji  Adventure, Fantasy, Family                en   \n",
       "2             Grumpier Old Men             Romance, Comedy                en   \n",
       "3            Waiting to Exhale      Comedy, Drama, Romance                en   \n",
       "4  Father of the Bride Part II                      Comedy                en   \n",
       "\n",
       "                                            overview   \n",
       "0  Led by Woody, Andy's toys live happily in his ...  \\\n",
       "1  When siblings Judy and Peter discover an encha...   \n",
       "2  A family wedding reignites the ancient feud be...   \n",
       "3  Cheated on, mistreated and stepped on, the wom...   \n",
       "4  Just when George Banks has recovered from his ...   \n",
       "\n",
       "                                             tagline   \n",
       "0                                                     \\\n",
       "1          Roll the dice and unleash the excitement!   \n",
       "2  Still Yelling. Still Fighting. Still Ready for...   \n",
       "3  Friends are the people who let you be yourself...   \n",
       "4  Just When His World Is Back To Normal... He's ...   \n",
       "\n",
       "       production_countries release_date    status  vote_average  vote_count   \n",
       "0  United States of America   30/10/1995  Released           7.7      5415.0  \\\n",
       "1  United States of America   15/12/1995  Released           6.9      2413.0   \n",
       "2  United States of America   22/12/1995  Released           6.5        92.0   \n",
       "3  United States of America   22/12/1995  Released           6.1        34.0   \n",
       "4  United States of America    10/2/1995  Released           5.7       173.0   \n",
       "\n",
       "   runtime                                               soup  movieId  \n",
       "0     81.0  animation, comedy, family en led by woody, and...        1  \n",
       "1    104.0  adventure, fantasy, family en when siblings ju...        2  \n",
       "2    101.0  romance, comedy en a family wedding reignites ...        3  \n",
       "3    127.0  comedy, drama, romance en cheated on, mistreat...        4  \n",
       "4    106.0  comedy en just when george banks has recovered...        5  "
      ]
     },
     "execution_count": 57,
     "metadata": {},
     "output_type": "execute_result"
    }
   ],
   "source": [
    "df_merge_ids.head()"
   ]
  },
  {
   "cell_type": "code",
   "execution_count": 58,
   "id": "80dc0507",
   "metadata": {},
   "outputs": [
    {
     "data": {
      "text/html": [
       "<div>\n",
       "<style scoped>\n",
       "    .dataframe tbody tr th:only-of-type {\n",
       "        vertical-align: middle;\n",
       "    }\n",
       "\n",
       "    .dataframe tbody tr th {\n",
       "        vertical-align: top;\n",
       "    }\n",
       "\n",
       "    .dataframe thead th {\n",
       "        text-align: right;\n",
       "    }\n",
       "</style>\n",
       "<table border=\"1\" class=\"dataframe\">\n",
       "  <thead>\n",
       "    <tr style=\"text-align: right;\">\n",
       "      <th></th>\n",
       "      <th>keywords</th>\n",
       "      <th>title</th>\n",
       "      <th>genres</th>\n",
       "      <th>original_language</th>\n",
       "      <th>overview</th>\n",
       "      <th>tagline</th>\n",
       "      <th>production_countries</th>\n",
       "      <th>release_date</th>\n",
       "      <th>status</th>\n",
       "      <th>vote_average</th>\n",
       "      <th>vote_count</th>\n",
       "      <th>runtime</th>\n",
       "      <th>soup</th>\n",
       "      <th>movieId</th>\n",
       "    </tr>\n",
       "    <tr>\n",
       "      <th>id</th>\n",
       "      <th></th>\n",
       "      <th></th>\n",
       "      <th></th>\n",
       "      <th></th>\n",
       "      <th></th>\n",
       "      <th></th>\n",
       "      <th></th>\n",
       "      <th></th>\n",
       "      <th></th>\n",
       "      <th></th>\n",
       "      <th></th>\n",
       "      <th></th>\n",
       "      <th></th>\n",
       "      <th></th>\n",
       "    </tr>\n",
       "  </thead>\n",
       "  <tbody>\n",
       "    <tr>\n",
       "      <th>862</th>\n",
       "      <td>jealousy, toy, boy, friendship, friends, rival...</td>\n",
       "      <td>Toy Story</td>\n",
       "      <td>Animation, Comedy, Family</td>\n",
       "      <td>en</td>\n",
       "      <td>Led by Woody, Andy's toys live happily in his ...</td>\n",
       "      <td></td>\n",
       "      <td>United States of America</td>\n",
       "      <td>30/10/1995</td>\n",
       "      <td>Released</td>\n",
       "      <td>7.7</td>\n",
       "      <td>5415.0</td>\n",
       "      <td>81.0</td>\n",
       "      <td>animation, comedy, family en led by woody, and...</td>\n",
       "      <td>1</td>\n",
       "    </tr>\n",
       "    <tr>\n",
       "      <th>8844</th>\n",
       "      <td>board game, disappearance, based on children's...</td>\n",
       "      <td>Jumanji</td>\n",
       "      <td>Adventure, Fantasy, Family</td>\n",
       "      <td>en</td>\n",
       "      <td>When siblings Judy and Peter discover an encha...</td>\n",
       "      <td>Roll the dice and unleash the excitement!</td>\n",
       "      <td>United States of America</td>\n",
       "      <td>15/12/1995</td>\n",
       "      <td>Released</td>\n",
       "      <td>6.9</td>\n",
       "      <td>2413.0</td>\n",
       "      <td>104.0</td>\n",
       "      <td>adventure, fantasy, family en when siblings ju...</td>\n",
       "      <td>2</td>\n",
       "    </tr>\n",
       "    <tr>\n",
       "      <th>15602</th>\n",
       "      <td>fishing, best friend, duringcreditsstinger, ol...</td>\n",
       "      <td>Grumpier Old Men</td>\n",
       "      <td>Romance, Comedy</td>\n",
       "      <td>en</td>\n",
       "      <td>A family wedding reignites the ancient feud be...</td>\n",
       "      <td>Still Yelling. Still Fighting. Still Ready for...</td>\n",
       "      <td>United States of America</td>\n",
       "      <td>22/12/1995</td>\n",
       "      <td>Released</td>\n",
       "      <td>6.5</td>\n",
       "      <td>92.0</td>\n",
       "      <td>101.0</td>\n",
       "      <td>romance, comedy en a family wedding reignites ...</td>\n",
       "      <td>3</td>\n",
       "    </tr>\n",
       "    <tr>\n",
       "      <th>31357</th>\n",
       "      <td>based on novel, interracial relationship, sing...</td>\n",
       "      <td>Waiting to Exhale</td>\n",
       "      <td>Comedy, Drama, Romance</td>\n",
       "      <td>en</td>\n",
       "      <td>Cheated on, mistreated and stepped on, the wom...</td>\n",
       "      <td>Friends are the people who let you be yourself...</td>\n",
       "      <td>United States of America</td>\n",
       "      <td>22/12/1995</td>\n",
       "      <td>Released</td>\n",
       "      <td>6.1</td>\n",
       "      <td>34.0</td>\n",
       "      <td>127.0</td>\n",
       "      <td>comedy, drama, romance en cheated on, mistreat...</td>\n",
       "      <td>4</td>\n",
       "    </tr>\n",
       "    <tr>\n",
       "      <th>11862</th>\n",
       "      <td>baby, midlife crisis, confidence, aging, daugh...</td>\n",
       "      <td>Father of the Bride Part II</td>\n",
       "      <td>Comedy</td>\n",
       "      <td>en</td>\n",
       "      <td>Just when George Banks has recovered from his ...</td>\n",
       "      <td>Just When His World Is Back To Normal... He's ...</td>\n",
       "      <td>United States of America</td>\n",
       "      <td>10/2/1995</td>\n",
       "      <td>Released</td>\n",
       "      <td>5.7</td>\n",
       "      <td>173.0</td>\n",
       "      <td>106.0</td>\n",
       "      <td>comedy en just when george banks has recovered...</td>\n",
       "      <td>5</td>\n",
       "    </tr>\n",
       "  </tbody>\n",
       "</table>\n",
       "</div>"
      ],
      "text/plain": [
       "                                                keywords   \n",
       "id                                                         \n",
       "862    jealousy, toy, boy, friendship, friends, rival...  \\\n",
       "8844   board game, disappearance, based on children's...   \n",
       "15602  fishing, best friend, duringcreditsstinger, ol...   \n",
       "31357  based on novel, interracial relationship, sing...   \n",
       "11862  baby, midlife crisis, confidence, aging, daugh...   \n",
       "\n",
       "                             title                      genres   \n",
       "id                                                               \n",
       "862                      Toy Story   Animation, Comedy, Family  \\\n",
       "8844                       Jumanji  Adventure, Fantasy, Family   \n",
       "15602             Grumpier Old Men             Romance, Comedy   \n",
       "31357            Waiting to Exhale      Comedy, Drama, Romance   \n",
       "11862  Father of the Bride Part II                      Comedy   \n",
       "\n",
       "      original_language                                           overview   \n",
       "id                                                                           \n",
       "862                  en  Led by Woody, Andy's toys live happily in his ...  \\\n",
       "8844                 en  When siblings Judy and Peter discover an encha...   \n",
       "15602                en  A family wedding reignites the ancient feud be...   \n",
       "31357                en  Cheated on, mistreated and stepped on, the wom...   \n",
       "11862                en  Just when George Banks has recovered from his ...   \n",
       "\n",
       "                                                 tagline   \n",
       "id                                                         \n",
       "862                                                       \\\n",
       "8844           Roll the dice and unleash the excitement!   \n",
       "15602  Still Yelling. Still Fighting. Still Ready for...   \n",
       "31357  Friends are the people who let you be yourself...   \n",
       "11862  Just When His World Is Back To Normal... He's ...   \n",
       "\n",
       "           production_countries release_date    status  vote_average   \n",
       "id                                                                     \n",
       "862    United States of America   30/10/1995  Released           7.7  \\\n",
       "8844   United States of America   15/12/1995  Released           6.9   \n",
       "15602  United States of America   22/12/1995  Released           6.5   \n",
       "31357  United States of America   22/12/1995  Released           6.1   \n",
       "11862  United States of America    10/2/1995  Released           5.7   \n",
       "\n",
       "       vote_count  runtime                                               soup   \n",
       "id                                                                              \n",
       "862        5415.0     81.0  animation, comedy, family en led by woody, and...  \\\n",
       "8844       2413.0    104.0  adventure, fantasy, family en when siblings ju...   \n",
       "15602        92.0    101.0  romance, comedy en a family wedding reignites ...   \n",
       "31357        34.0    127.0  comedy, drama, romance en cheated on, mistreat...   \n",
       "11862       173.0    106.0  comedy en just when george banks has recovered...   \n",
       "\n",
       "       movieId  \n",
       "id              \n",
       "862          1  \n",
       "8844         2  \n",
       "15602        3  \n",
       "31357        4  \n",
       "11862        5  "
      ]
     },
     "execution_count": 58,
     "metadata": {},
     "output_type": "execute_result"
    }
   ],
   "source": [
    "indices_map = df_merge_ids.set_index(\"id\")\n",
    "indices_map.head()"
   ]
  },
  {
   "cell_type": "code",
   "execution_count": 59,
   "id": "8c392088",
   "metadata": {},
   "outputs": [],
   "source": [
    "def predict_user_rating(userId: int, qualified_movies: pd.DataFrame) -> pd.DataFrame:\n",
    "    \"\"\"\n",
    "    Predict user ratings for qualified movies based on user ID using Singular Value Decomposition (SVD).\n",
    "\n",
    "    :param userId: The ID of the user.\n",
    "    :param qualified_movies:  A Pandas DataFrame containing qualified movies data.\n",
    "    :return: A Pandas DataFrame containing the final qualified movies sorted by estimated user ratings.\n",
    "    \"\"\"\n",
    "\n",
    "    # Calculate estimated user ratings for qualified movies using SVD\n",
    "    qualified_movies[\"estimated_user_rating\"] = qualified_movies[\"id\"].apply(\n",
    "        lambda x: svd.predict(userId, indices_map.loc[x][\"movieId\"]).est\n",
    "    )\n",
    "    final_qualified_movies = qualified_movies.sort_values(\n",
    "        by=[\"estimated_user_rating\"], ascending=False\n",
    "    )\n",
    "\n",
    "    return final_qualified_movies"
   ]
  },
  {
   "cell_type": "code",
   "execution_count": 60,
   "id": "09bb5015",
   "metadata": {},
   "outputs": [],
   "source": [
    "def get_movie_recommendations_hybrid(title: str, userId: int) -> None:\n",
    "    \"\"\"\n",
    "    Get movie recommendations based on a given title and user ID.\n",
    "\n",
    "    :param title: The title of the movie to find similar movies for.\n",
    "    :param userId: The ID of the user.\n",
    "    \"\"\"\n",
    "    # Get recommended movie indices based on the given title\n",
    "    recommended_movie_indices = get_recommended_movie_indices(title)\n",
    "\n",
    "    # Filter out bad movies and select the top 10 qualified movies\n",
    "    qualified_movies = filter_out_bad_movies(recommended_movie_indices).head(10)\n",
    "\n",
    "    # Predict user ratings for qualified movies and select the top recommended movies\n",
    "    final_qualified_movies = predict_user_rating(userId, qualified_movies).head(5)\n",
    "\n",
    "    for _, movie in final_qualified_movies.iterrows():\n",
    "        # Print the movie details\n",
    "        print(f\"Title: {movie['title']}\")\n",
    "        print(f\"Overview: {movie['overview']}\")\n",
    "        print(f\"Genres: {movie['genres']}\")\n",
    "        print(f\"Original Language: {movie['original_language']}\")\n",
    "        print(f\"Runtime: {int(movie['runtime'])} mins\")\n",
    "        print(f\"Production Countries: {movie['production_countries']}\")\n",
    "        print(f\"Release Date: {movie['release_date']}\")\n",
    "        print(\n",
    "            f\"Rating: {movie['vote_average']} out of 10 ({int(movie['vote_count'])} ratings)\"\n",
    "        )\n",
    "        print(\"\")"
   ]
  },
  {
   "cell_type": "code",
   "execution_count": null,
   "id": "7fc55046",
   "metadata": {},
   "outputs": [
    {
     "data": {
      "application/vnd.jupyter.widget-view+json": {
       "model_id": "769d1ea1dfa94ff2a66f444fea616c43",
       "version_major": 2,
       "version_minor": 0
      },
      "text/plain": [
       "HBox(children=(Text(value='Captain America: The First Avenger', placeholder='Search movie title...'), Text(val…"
      ]
     },
     "metadata": {},
     "output_type": "display_data"
    },
    {
     "data": {
      "application/vnd.jupyter.widget-view+json": {
       "model_id": "8cdda55bd7a84416bb7f0f3104f9d29f",
       "version_major": 2,
       "version_minor": 0
      },
      "text/plain": [
       "HBox(children=(Dropdown(options=('Captain America: The First Avenger',), value='Captain America: The First Ave…"
      ]
     },
     "metadata": {},
     "output_type": "display_data"
    },
    {
     "name": "stdout",
     "output_type": "stream",
     "text": [
      "Please enter a valid user ID!\n"
     ]
    }
   ],
   "source": [
    "dropdown = widgets.Dropdown(options=df_merge[\"title\"].unique())\n",
    "search_box = widgets.Text(placeholder=\"Search movie title...\")\n",
    "userId_text = widgets.Text(placeholder=\"Enter a user ID\")\n",
    "button = widgets.Button(description=\"Get Movie Recommendations\")\n",
    "button.layout.width = \"200px\"\n",
    "\n",
    "container = widgets.HBox([search_box, userId_text])\n",
    "container2 = widgets.HBox([dropdown, button])\n",
    "\n",
    "\n",
    "def on_search_box_value_change(change):\n",
    "    \"\"\"\n",
    "    Event listener for the search box widget. Updates the dropdown options based on the search query.\n",
    "    \"\"\"\n",
    "    search_value = change.new.lower()\n",
    "    options = df_merge[df_merge[\"title\"].str.lower().str.contains(search_value)][\n",
    "        \"title\"\n",
    "    ].unique()\n",
    "    dropdown.options = options if len(options) > 0 else [\"Movie not found\"]\n",
    "    dropdown.label = options[0] if len(options) > 0 else \"Movie not found\"\n",
    "\n",
    "\n",
    "def on_button_click(button):\n",
    "    \"\"\"\n",
    "    Event listener for the button widget. Displays the recommended movies.\n",
    "    \"\"\"\n",
    "    clear_output()\n",
    "    display(container)\n",
    "    display(container2)\n",
    "    try:\n",
    "        userId = int(userId_text.value)\n",
    "        title = dropdown.value\n",
    "        if title != \"Movie not found\":\n",
    "            search_box.value = dropdown.value\n",
    "            get_movie_recommendations_hybrid(title, userId)\n",
    "        else:\n",
    "            print(\"Movie Not Found\")\n",
    "\n",
    "    except:\n",
    "        print(\"Please enter a valid user ID!\")\n",
    "\n",
    "\n",
    "# Attach event listeners to the widgets\n",
    "search_box.observe(on_search_box_value_change, names=\"value\")\n",
    "button.on_click(on_button_click)\n",
    "\n",
    "print(\"Movie Recommendation System\")\n",
    "display(container)\n",
    "display(container2)"
   ]
  }
 ],
 "metadata": {
  "kernelspec": {
   "display_name": "rs",
   "language": "python",
   "name": "rs"
  },
  "language_info": {
   "codemirror_mode": {
    "name": "ipython",
    "version": 3
   },
   "file_extension": ".py",
   "mimetype": "text/x-python",
   "name": "python",
   "nbconvert_exporter": "python",
   "pygments_lexer": "ipython3",
   "version": "3.10.0"
  }
 },
 "nbformat": 4,
 "nbformat_minor": 5
}
