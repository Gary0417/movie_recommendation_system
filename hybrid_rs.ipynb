{
 "cells": [
  {
   "attachments": {},
   "cell_type": "markdown",
   "metadata": {},
   "source": [
    "## Hybrid Recommendation System"
   ]
  },
  {
   "attachments": {},
   "cell_type": "markdown",
   "metadata": {},
   "source": [
    "### Importing Libraries"
   ]
  },
  {
   "cell_type": "code",
   "execution_count": 1,
   "metadata": {},
   "outputs": [],
   "source": [
    "import gradio as gr\n",
    "import numpy as np\n",
    "import os\n",
    "import pandas as pd\n",
    "import pickle\n",
    "import torch\n",
    "\n",
    "from surprise import Reader, Dataset, SVD\n",
    "from surprise.model_selection import cross_validate\n",
    "from sentence_transformers import SentenceTransformer\n",
    "from sklearn.metrics.pairwise import cosine_similarity"
   ]
  },
  {
   "attachments": {},
   "cell_type": "markdown",
   "metadata": {},
   "source": [
    "### Data Loading"
   ]
  },
  {
   "cell_type": "code",
   "execution_count": 2,
   "metadata": {},
   "outputs": [],
   "source": [
    "df_metadata_keywords = pd.read_csv(\"preprocessed_data/merged_metadata_keywords.csv\")\n",
    "df_qualified = pd.read_csv(\"preprocessed_data/qualified_movies.csv\")\n",
    "df_ratings = pd.read_csv(\"data/ratings_small.csv\")\n",
    "df_ids = pd.read_csv(\"data/links.csv\")[[\"movieId\", \"tmdbId\"]]"
   ]
  },
  {
   "attachments": {},
   "cell_type": "markdown",
   "metadata": {},
   "source": [
    "### Data Preprocessing"
   ]
  },
  {
   "attachments": {},
   "cell_type": "markdown",
   "metadata": {},
   "source": [
    "#### Rating\n",
    "100,000 ratings from 700 users on 9,000 movies."
   ]
  },
  {
   "cell_type": "code",
   "execution_count": 3,
   "metadata": {},
   "outputs": [
    {
     "data": {
      "text/html": [
       "<div>\n",
       "<style scoped>\n",
       "    .dataframe tbody tr th:only-of-type {\n",
       "        vertical-align: middle;\n",
       "    }\n",
       "\n",
       "    .dataframe tbody tr th {\n",
       "        vertical-align: top;\n",
       "    }\n",
       "\n",
       "    .dataframe thead th {\n",
       "        text-align: right;\n",
       "    }\n",
       "</style>\n",
       "<table border=\"1\" class=\"dataframe\">\n",
       "  <thead>\n",
       "    <tr style=\"text-align: right;\">\n",
       "      <th></th>\n",
       "      <th>userId</th>\n",
       "      <th>movieId</th>\n",
       "      <th>rating</th>\n",
       "      <th>timestamp</th>\n",
       "    </tr>\n",
       "  </thead>\n",
       "  <tbody>\n",
       "    <tr>\n",
       "      <th>0</th>\n",
       "      <td>1</td>\n",
       "      <td>31</td>\n",
       "      <td>2.5</td>\n",
       "      <td>1260759144</td>\n",
       "    </tr>\n",
       "    <tr>\n",
       "      <th>1</th>\n",
       "      <td>1</td>\n",
       "      <td>1029</td>\n",
       "      <td>3.0</td>\n",
       "      <td>1260759179</td>\n",
       "    </tr>\n",
       "    <tr>\n",
       "      <th>2</th>\n",
       "      <td>1</td>\n",
       "      <td>1061</td>\n",
       "      <td>3.0</td>\n",
       "      <td>1260759182</td>\n",
       "    </tr>\n",
       "    <tr>\n",
       "      <th>3</th>\n",
       "      <td>1</td>\n",
       "      <td>1129</td>\n",
       "      <td>2.0</td>\n",
       "      <td>1260759185</td>\n",
       "    </tr>\n",
       "    <tr>\n",
       "      <th>4</th>\n",
       "      <td>1</td>\n",
       "      <td>1172</td>\n",
       "      <td>4.0</td>\n",
       "      <td>1260759205</td>\n",
       "    </tr>\n",
       "  </tbody>\n",
       "</table>\n",
       "</div>"
      ],
      "text/plain": [
       "   userId  movieId  rating   timestamp\n",
       "0       1       31     2.5  1260759144\n",
       "1       1     1029     3.0  1260759179\n",
       "2       1     1061     3.0  1260759182\n",
       "3       1     1129     2.0  1260759185\n",
       "4       1     1172     4.0  1260759205"
      ]
     },
     "execution_count": 3,
     "metadata": {},
     "output_type": "execute_result"
    }
   ],
   "source": [
    "df_ratings.head()"
   ]
  },
  {
   "attachments": {},
   "cell_type": "markdown",
   "metadata": {},
   "source": [
    "#### IDs\n",
    "Contains the movie IDs and TMDB IDs of all the movies featured in the Full MovieLens dataset."
   ]
  },
  {
   "cell_type": "code",
   "execution_count": 4,
   "metadata": {},
   "outputs": [
    {
     "data": {
      "text/html": [
       "<div>\n",
       "<style scoped>\n",
       "    .dataframe tbody tr th:only-of-type {\n",
       "        vertical-align: middle;\n",
       "    }\n",
       "\n",
       "    .dataframe tbody tr th {\n",
       "        vertical-align: top;\n",
       "    }\n",
       "\n",
       "    .dataframe thead th {\n",
       "        text-align: right;\n",
       "    }\n",
       "</style>\n",
       "<table border=\"1\" class=\"dataframe\">\n",
       "  <thead>\n",
       "    <tr style=\"text-align: right;\">\n",
       "      <th></th>\n",
       "      <th>movieId</th>\n",
       "      <th>tmdbId</th>\n",
       "    </tr>\n",
       "  </thead>\n",
       "  <tbody>\n",
       "    <tr>\n",
       "      <th>0</th>\n",
       "      <td>1</td>\n",
       "      <td>862.0</td>\n",
       "    </tr>\n",
       "    <tr>\n",
       "      <th>1</th>\n",
       "      <td>2</td>\n",
       "      <td>8844.0</td>\n",
       "    </tr>\n",
       "    <tr>\n",
       "      <th>2</th>\n",
       "      <td>3</td>\n",
       "      <td>15602.0</td>\n",
       "    </tr>\n",
       "    <tr>\n",
       "      <th>3</th>\n",
       "      <td>4</td>\n",
       "      <td>31357.0</td>\n",
       "    </tr>\n",
       "    <tr>\n",
       "      <th>4</th>\n",
       "      <td>5</td>\n",
       "      <td>11862.0</td>\n",
       "    </tr>\n",
       "  </tbody>\n",
       "</table>\n",
       "</div>"
      ],
      "text/plain": [
       "   movieId   tmdbId\n",
       "0        1    862.0\n",
       "1        2   8844.0\n",
       "2        3  15602.0\n",
       "3        4  31357.0\n",
       "4        5  11862.0"
      ]
     },
     "execution_count": 4,
     "metadata": {},
     "output_type": "execute_result"
    }
   ],
   "source": [
    "df_ids.head()"
   ]
  },
  {
   "cell_type": "code",
   "execution_count": 5,
   "metadata": {},
   "outputs": [
    {
     "name": "stdout",
     "output_type": "stream",
     "text": [
      "<class 'pandas.core.frame.DataFrame'>\n",
      "RangeIndex: 45843 entries, 0 to 45842\n",
      "Data columns (total 2 columns):\n",
      " #   Column   Non-Null Count  Dtype  \n",
      "---  ------   --------------  -----  \n",
      " 0   movieId  45843 non-null  int64  \n",
      " 1   tmdbId   45624 non-null  float64\n",
      "dtypes: float64(1), int64(1)\n",
      "memory usage: 716.4 KB\n"
     ]
    }
   ],
   "source": [
    "df_ids.info()"
   ]
  },
  {
   "cell_type": "code",
   "execution_count": 6,
   "metadata": {},
   "outputs": [],
   "source": [
    "# Drop rows with missing values\n",
    "df_ids.dropna(inplace=True)\n",
    "\n",
    "# Rename the columns of the DataFrame\n",
    "df_ids.columns = [\"movieId\", \"id\"]\n",
    "\n",
    "# Convert the \"id\" column to integer data type\n",
    "df_ids[\"id\"] = df_ids[\"id\"].astype(int)"
   ]
  },
  {
   "attachments": {},
   "cell_type": "markdown",
   "metadata": {},
   "source": [
    "Merge the DataFrames df_metadata_keywords and df_ids based on the \"id\" column"
   ]
  },
  {
   "cell_type": "code",
   "execution_count": 7,
   "metadata": {},
   "outputs": [],
   "source": [
    "df_merged = df_metadata_keywords.merge(df_ids, on=\"id\")"
   ]
  },
  {
   "attachments": {},
   "cell_type": "markdown",
   "metadata": {},
   "source": [
    "Filter df_merged to keep only rows where the 'movieId' is present in df_ratings"
   ]
  },
  {
   "cell_type": "code",
   "execution_count": 8,
   "metadata": {},
   "outputs": [
    {
     "data": {
      "text/plain": [
       "(8992, 16)"
      ]
     },
     "execution_count": 8,
     "metadata": {},
     "output_type": "execute_result"
    }
   ],
   "source": [
    "df_merged = df_merged[df_merged['movieId'].isin(df_ratings['movieId'])]\n",
    "df_merged = df_merged.reset_index(drop=True)\n",
    "df_merged.shape"
   ]
  },
  {
   "attachments": {},
   "cell_type": "markdown",
   "metadata": {},
   "source": [
    "### Content-Based Filtering"
   ]
  },
  {
   "attachments": {},
   "cell_type": "markdown",
   "metadata": {},
   "source": [
    "- Initialize the model with the 'all-MiniLM-L6-v2' pre-trained model\n",
    "- Encode a list of sentences in the 'soup' column using the pre-trained model"
   ]
  },
  {
   "cell_type": "code",
   "execution_count": 9,
   "metadata": {},
   "outputs": [],
   "source": [
    "# Uncomment this cell if you run it for the first time\n",
    "# if torch.cuda.is_available():\n",
    "#     device = \"cuda\"\n",
    "# else:\n",
    "#     device = \"cpu\"\n",
    "\n",
    "# model = SentenceTransformer(\"sentence-transformers/all-MiniLM-L6-v2\").to(device)\n",
    "\n",
    "# sentence_embeddings = model.encode(df_merged[\"soup\"].tolist())\n",
    "\n",
    "# folder_name = \"embedding_data_hrs\"\n",
    "\n",
    "# if not os.path.exists(folder_name):\n",
    "#     os.makedirs(folder_name)\n",
    "\n",
    "# with open(f\"{folder_name}\\sentence_embeddings.pkl\", \"wb\") as f:\n",
    "#     pickle.dump(sentence_embeddings, f)"
   ]
  },
  {
   "cell_type": "code",
   "execution_count": 10,
   "metadata": {},
   "outputs": [],
   "source": [
    "folder_name = \"embedding_data_hrs\"\n",
    "\n",
    "# Import sentence_embeddings from the file\n",
    "with open(f\"{folder_name}\\sentence_embeddings.pkl\", \"rb\") as f:\n",
    "    sentence_embeddings = pickle.load(f)"
   ]
  },
  {
   "attachments": {},
   "cell_type": "markdown",
   "metadata": {},
   "source": [
    "Compute cosine similarity"
   ]
  },
  {
   "cell_type": "code",
   "execution_count": 11,
   "metadata": {},
   "outputs": [],
   "source": [
    "# Uncomment this cell if you run it for the first time\n",
    "\n",
    "# cos_sim = cosine_similarity(sentence_embeddings)\n",
    "\n",
    "# with open(f\"{folder_name}\\cos_sim.pkl\", \"wb\") as f:\n",
    "#     pickle.dump(cos_sim, f)"
   ]
  },
  {
   "cell_type": "code",
   "execution_count": 12,
   "metadata": {},
   "outputs": [],
   "source": [
    "# Import cos_sim from the file\n",
    "with open(f\"{folder_name}\\cos_sim.pkl\", \"rb\") as f:\n",
    "    cos_sim = pickle.load(f)"
   ]
  },
  {
   "attachments": {},
   "cell_type": "markdown",
   "metadata": {},
   "source": [
    "Construct a reverse map of movie titles to indices"
   ]
  },
  {
   "cell_type": "code",
   "execution_count": 13,
   "metadata": {},
   "outputs": [],
   "source": [
    "movie_indices = pd.Series(\n",
    "    df_merged.index, index=df_merged[\"title\"].apply(lambda title: title.lower())\n",
    ").drop_duplicates()"
   ]
  },
  {
   "attachments": {},
   "cell_type": "markdown",
   "metadata": {},
   "source": [
    "### Collaborative Filtering"
   ]
  },
  {
   "attachments": {},
   "cell_type": "markdown",
   "metadata": {},
   "source": [
    "We'll be using the Surprise library to implement SVD."
   ]
  },
  {
   "cell_type": "code",
   "execution_count": 14,
   "metadata": {},
   "outputs": [
    {
     "name": "stdout",
     "output_type": "stream",
     "text": [
      "Evaluating RMSE, MAE of algorithm SVD on 5 split(s).\n",
      "\n",
      "                  Fold 1  Fold 2  Fold 3  Fold 4  Fold 5  Mean    Std     \n",
      "RMSE (testset)    0.8940  0.9001  0.8959  0.8980  0.8936  0.8963  0.0025  \n",
      "MAE (testset)     0.6867  0.6966  0.6883  0.6896  0.6865  0.6895  0.0037  \n",
      "Fit time          0.77    0.95    0.86    0.71    0.75    0.81    0.09    \n",
      "Test time         0.15    0.08    0.08    0.09    0.09    0.10    0.03    \n"
     ]
    },
    {
     "data": {
      "text/plain": [
       "{'test_rmse': array([0.89398029, 0.90005274, 0.8958722 , 0.89803327, 0.89355723]),\n",
       " 'test_mae': array([0.68665694, 0.69657699, 0.68831797, 0.68958196, 0.68654384]),\n",
       " 'fit_time': (0.770005464553833,\n",
       "  0.9543032646179199,\n",
       "  0.8649904727935791,\n",
       "  0.7105824947357178,\n",
       "  0.7518835067749023),\n",
       " 'test_time': (0.1527559757232666,\n",
       "  0.07551002502441406,\n",
       "  0.07500267028808594,\n",
       "  0.08951592445373535,\n",
       "  0.09251046180725098)}"
      ]
     },
     "execution_count": 14,
     "metadata": {},
     "output_type": "execute_result"
    }
   ],
   "source": [
    "reader = Reader()\n",
    "data = Dataset.load_from_df(df_ratings[[\"userId\", \"movieId\", \"rating\"]], reader)\n",
    "svd = SVD()\n",
    "cross_validate(svd, data, measures=[\"RMSE\", \"MAE\"], cv=5, verbose=True)"
   ]
  },
  {
   "cell_type": "code",
   "execution_count": 15,
   "metadata": {},
   "outputs": [
    {
     "data": {
      "text/plain": [
       "<surprise.prediction_algorithms.matrix_factorization.SVD at 0x20d8d07b5e0>"
      ]
     },
     "execution_count": 15,
     "metadata": {},
     "output_type": "execute_result"
    }
   ],
   "source": [
    "trainset = data.build_full_trainset()\n",
    "svd.fit(trainset)"
   ]
  },
  {
   "cell_type": "code",
   "execution_count": 16,
   "metadata": {},
   "outputs": [
    {
     "data": {
      "text/html": [
       "<div>\n",
       "<style scoped>\n",
       "    .dataframe tbody tr th:only-of-type {\n",
       "        vertical-align: middle;\n",
       "    }\n",
       "\n",
       "    .dataframe tbody tr th {\n",
       "        vertical-align: top;\n",
       "    }\n",
       "\n",
       "    .dataframe thead th {\n",
       "        text-align: right;\n",
       "    }\n",
       "</style>\n",
       "<table border=\"1\" class=\"dataframe\">\n",
       "  <thead>\n",
       "    <tr style=\"text-align: right;\">\n",
       "      <th></th>\n",
       "      <th>userId</th>\n",
       "      <th>movieId</th>\n",
       "      <th>rating</th>\n",
       "      <th>timestamp</th>\n",
       "    </tr>\n",
       "  </thead>\n",
       "  <tbody>\n",
       "    <tr>\n",
       "      <th>0</th>\n",
       "      <td>1</td>\n",
       "      <td>31</td>\n",
       "      <td>2.5</td>\n",
       "      <td>1260759144</td>\n",
       "    </tr>\n",
       "    <tr>\n",
       "      <th>1</th>\n",
       "      <td>1</td>\n",
       "      <td>1029</td>\n",
       "      <td>3.0</td>\n",
       "      <td>1260759179</td>\n",
       "    </tr>\n",
       "    <tr>\n",
       "      <th>2</th>\n",
       "      <td>1</td>\n",
       "      <td>1061</td>\n",
       "      <td>3.0</td>\n",
       "      <td>1260759182</td>\n",
       "    </tr>\n",
       "    <tr>\n",
       "      <th>3</th>\n",
       "      <td>1</td>\n",
       "      <td>1129</td>\n",
       "      <td>2.0</td>\n",
       "      <td>1260759185</td>\n",
       "    </tr>\n",
       "    <tr>\n",
       "      <th>4</th>\n",
       "      <td>1</td>\n",
       "      <td>1172</td>\n",
       "      <td>4.0</td>\n",
       "      <td>1260759205</td>\n",
       "    </tr>\n",
       "    <tr>\n",
       "      <th>5</th>\n",
       "      <td>1</td>\n",
       "      <td>1263</td>\n",
       "      <td>2.0</td>\n",
       "      <td>1260759151</td>\n",
       "    </tr>\n",
       "    <tr>\n",
       "      <th>6</th>\n",
       "      <td>1</td>\n",
       "      <td>1287</td>\n",
       "      <td>2.0</td>\n",
       "      <td>1260759187</td>\n",
       "    </tr>\n",
       "    <tr>\n",
       "      <th>7</th>\n",
       "      <td>1</td>\n",
       "      <td>1293</td>\n",
       "      <td>2.0</td>\n",
       "      <td>1260759148</td>\n",
       "    </tr>\n",
       "    <tr>\n",
       "      <th>8</th>\n",
       "      <td>1</td>\n",
       "      <td>1339</td>\n",
       "      <td>3.5</td>\n",
       "      <td>1260759125</td>\n",
       "    </tr>\n",
       "    <tr>\n",
       "      <th>9</th>\n",
       "      <td>1</td>\n",
       "      <td>1343</td>\n",
       "      <td>2.0</td>\n",
       "      <td>1260759131</td>\n",
       "    </tr>\n",
       "    <tr>\n",
       "      <th>10</th>\n",
       "      <td>1</td>\n",
       "      <td>1371</td>\n",
       "      <td>2.5</td>\n",
       "      <td>1260759135</td>\n",
       "    </tr>\n",
       "    <tr>\n",
       "      <th>11</th>\n",
       "      <td>1</td>\n",
       "      <td>1405</td>\n",
       "      <td>1.0</td>\n",
       "      <td>1260759203</td>\n",
       "    </tr>\n",
       "    <tr>\n",
       "      <th>12</th>\n",
       "      <td>1</td>\n",
       "      <td>1953</td>\n",
       "      <td>4.0</td>\n",
       "      <td>1260759191</td>\n",
       "    </tr>\n",
       "    <tr>\n",
       "      <th>13</th>\n",
       "      <td>1</td>\n",
       "      <td>2105</td>\n",
       "      <td>4.0</td>\n",
       "      <td>1260759139</td>\n",
       "    </tr>\n",
       "    <tr>\n",
       "      <th>14</th>\n",
       "      <td>1</td>\n",
       "      <td>2150</td>\n",
       "      <td>3.0</td>\n",
       "      <td>1260759194</td>\n",
       "    </tr>\n",
       "    <tr>\n",
       "      <th>15</th>\n",
       "      <td>1</td>\n",
       "      <td>2193</td>\n",
       "      <td>2.0</td>\n",
       "      <td>1260759198</td>\n",
       "    </tr>\n",
       "    <tr>\n",
       "      <th>16</th>\n",
       "      <td>1</td>\n",
       "      <td>2294</td>\n",
       "      <td>2.0</td>\n",
       "      <td>1260759108</td>\n",
       "    </tr>\n",
       "    <tr>\n",
       "      <th>17</th>\n",
       "      <td>1</td>\n",
       "      <td>2455</td>\n",
       "      <td>2.5</td>\n",
       "      <td>1260759113</td>\n",
       "    </tr>\n",
       "    <tr>\n",
       "      <th>18</th>\n",
       "      <td>1</td>\n",
       "      <td>2968</td>\n",
       "      <td>1.0</td>\n",
       "      <td>1260759200</td>\n",
       "    </tr>\n",
       "    <tr>\n",
       "      <th>19</th>\n",
       "      <td>1</td>\n",
       "      <td>3671</td>\n",
       "      <td>3.0</td>\n",
       "      <td>1260759117</td>\n",
       "    </tr>\n",
       "  </tbody>\n",
       "</table>\n",
       "</div>"
      ],
      "text/plain": [
       "    userId  movieId  rating   timestamp\n",
       "0        1       31     2.5  1260759144\n",
       "1        1     1029     3.0  1260759179\n",
       "2        1     1061     3.0  1260759182\n",
       "3        1     1129     2.0  1260759185\n",
       "4        1     1172     4.0  1260759205\n",
       "5        1     1263     2.0  1260759151\n",
       "6        1     1287     2.0  1260759187\n",
       "7        1     1293     2.0  1260759148\n",
       "8        1     1339     3.5  1260759125\n",
       "9        1     1343     2.0  1260759131\n",
       "10       1     1371     2.5  1260759135\n",
       "11       1     1405     1.0  1260759203\n",
       "12       1     1953     4.0  1260759191\n",
       "13       1     2105     4.0  1260759139\n",
       "14       1     2150     3.0  1260759194\n",
       "15       1     2193     2.0  1260759198\n",
       "16       1     2294     2.0  1260759108\n",
       "17       1     2455     2.5  1260759113\n",
       "18       1     2968     1.0  1260759200\n",
       "19       1     3671     3.0  1260759117"
      ]
     },
     "execution_count": 16,
     "metadata": {},
     "output_type": "execute_result"
    }
   ],
   "source": [
    "df_ratings[df_ratings['userId'] == 1]"
   ]
  },
  {
   "attachments": {},
   "cell_type": "markdown",
   "metadata": {},
   "source": [
    "Predict the rating of User 1 for the movie with the movie ID 12."
   ]
  },
  {
   "cell_type": "code",
   "execution_count": 17,
   "metadata": {},
   "outputs": [
    {
     "data": {
      "text/plain": [
       "2.2207074826278803"
      ]
     },
     "execution_count": 17,
     "metadata": {},
     "output_type": "execute_result"
    }
   ],
   "source": [
    "user_id = 1\n",
    "movie_id = 12\n",
    "\n",
    "predicted_rating = svd.predict(user_id, movie_id)\n",
    "predicted_rating.est"
   ]
  },
  {
   "attachments": {},
   "cell_type": "markdown",
   "metadata": {},
   "source": [
    "Create a new DataFrame with \"id\" as the index"
   ]
  },
  {
   "cell_type": "code",
   "execution_count": 18,
   "metadata": {},
   "outputs": [
    {
     "data": {
      "text/html": [
       "<div>\n",
       "<style scoped>\n",
       "    .dataframe tbody tr th:only-of-type {\n",
       "        vertical-align: middle;\n",
       "    }\n",
       "\n",
       "    .dataframe tbody tr th {\n",
       "        vertical-align: top;\n",
       "    }\n",
       "\n",
       "    .dataframe thead th {\n",
       "        text-align: right;\n",
       "    }\n",
       "</style>\n",
       "<table border=\"1\" class=\"dataframe\">\n",
       "  <thead>\n",
       "    <tr style=\"text-align: right;\">\n",
       "      <th></th>\n",
       "      <th>keywords</th>\n",
       "      <th>title</th>\n",
       "      <th>genres</th>\n",
       "      <th>original_language</th>\n",
       "      <th>overview</th>\n",
       "      <th>tagline</th>\n",
       "      <th>production_countries</th>\n",
       "      <th>release_date</th>\n",
       "      <th>status</th>\n",
       "      <th>vote_average</th>\n",
       "      <th>vote_count</th>\n",
       "      <th>runtime</th>\n",
       "      <th>soup</th>\n",
       "      <th>weighted_rating</th>\n",
       "      <th>movieId</th>\n",
       "    </tr>\n",
       "    <tr>\n",
       "      <th>id</th>\n",
       "      <th></th>\n",
       "      <th></th>\n",
       "      <th></th>\n",
       "      <th></th>\n",
       "      <th></th>\n",
       "      <th></th>\n",
       "      <th></th>\n",
       "      <th></th>\n",
       "      <th></th>\n",
       "      <th></th>\n",
       "      <th></th>\n",
       "      <th></th>\n",
       "      <th></th>\n",
       "      <th></th>\n",
       "      <th></th>\n",
       "    </tr>\n",
       "  </thead>\n",
       "  <tbody>\n",
       "    <tr>\n",
       "      <th>862</th>\n",
       "      <td>jealousy, toy, boy, friendship, friends, rival...</td>\n",
       "      <td>Toy Story</td>\n",
       "      <td>Animation, Comedy, Family</td>\n",
       "      <td>en</td>\n",
       "      <td>Led by Woody, Andy's toys live happily in his ...</td>\n",
       "      <td>NaN</td>\n",
       "      <td>United States of America</td>\n",
       "      <td>30/10/1995</td>\n",
       "      <td>Released</td>\n",
       "      <td>7.7</td>\n",
       "      <td>5415.0</td>\n",
       "      <td>81.0</td>\n",
       "      <td>animation, comedy, family en led by woody, and...</td>\n",
       "      <td>7.6</td>\n",
       "      <td>1</td>\n",
       "    </tr>\n",
       "    <tr>\n",
       "      <th>8844</th>\n",
       "      <td>board game, disappearance, based on children's...</td>\n",
       "      <td>Jumanji</td>\n",
       "      <td>Adventure, Fantasy, Family</td>\n",
       "      <td>en</td>\n",
       "      <td>When siblings Judy and Peter discover an encha...</td>\n",
       "      <td>Roll the dice and unleash the excitement!</td>\n",
       "      <td>United States of America</td>\n",
       "      <td>15/12/1995</td>\n",
       "      <td>Released</td>\n",
       "      <td>6.9</td>\n",
       "      <td>2413.0</td>\n",
       "      <td>104.0</td>\n",
       "      <td>adventure, fantasy, family en when siblings ju...</td>\n",
       "      <td>6.8</td>\n",
       "      <td>2</td>\n",
       "    </tr>\n",
       "    <tr>\n",
       "      <th>15602</th>\n",
       "      <td>fishing, best friend, duringcreditsstinger, ol...</td>\n",
       "      <td>Grumpier Old Men</td>\n",
       "      <td>Romance, Comedy</td>\n",
       "      <td>en</td>\n",
       "      <td>A family wedding reignites the ancient feud be...</td>\n",
       "      <td>Still Yelling. Still Fighting. Still Ready for...</td>\n",
       "      <td>United States of America</td>\n",
       "      <td>22/12/1995</td>\n",
       "      <td>Released</td>\n",
       "      <td>6.5</td>\n",
       "      <td>92.0</td>\n",
       "      <td>101.0</td>\n",
       "      <td>romance, comedy en a family wedding reignites ...</td>\n",
       "      <td>5.9</td>\n",
       "      <td>3</td>\n",
       "    </tr>\n",
       "    <tr>\n",
       "      <th>31357</th>\n",
       "      <td>based on novel, interracial relationship, sing...</td>\n",
       "      <td>Waiting to Exhale</td>\n",
       "      <td>Comedy, Drama, Romance</td>\n",
       "      <td>en</td>\n",
       "      <td>Cheated on, mistreated and stepped on, the wom...</td>\n",
       "      <td>Friends are the people who let you be yourself...</td>\n",
       "      <td>United States of America</td>\n",
       "      <td>22/12/1995</td>\n",
       "      <td>Released</td>\n",
       "      <td>6.1</td>\n",
       "      <td>34.0</td>\n",
       "      <td>127.0</td>\n",
       "      <td>comedy, drama, romance en cheated on, mistreat...</td>\n",
       "      <td>5.7</td>\n",
       "      <td>4</td>\n",
       "    </tr>\n",
       "    <tr>\n",
       "      <th>11862</th>\n",
       "      <td>baby, midlife crisis, confidence, aging, daugh...</td>\n",
       "      <td>Father of the Bride Part II</td>\n",
       "      <td>Comedy</td>\n",
       "      <td>en</td>\n",
       "      <td>Just when George Banks has recovered from his ...</td>\n",
       "      <td>Just When His World Is Back To Normal... He's ...</td>\n",
       "      <td>United States of America</td>\n",
       "      <td>10/2/1995</td>\n",
       "      <td>Released</td>\n",
       "      <td>5.7</td>\n",
       "      <td>173.0</td>\n",
       "      <td>106.0</td>\n",
       "      <td>comedy en just when george banks has recovered...</td>\n",
       "      <td>5.7</td>\n",
       "      <td>5</td>\n",
       "    </tr>\n",
       "  </tbody>\n",
       "</table>\n",
       "</div>"
      ],
      "text/plain": [
       "                                                keywords   \n",
       "id                                                         \n",
       "862    jealousy, toy, boy, friendship, friends, rival...  \\\n",
       "8844   board game, disappearance, based on children's...   \n",
       "15602  fishing, best friend, duringcreditsstinger, ol...   \n",
       "31357  based on novel, interracial relationship, sing...   \n",
       "11862  baby, midlife crisis, confidence, aging, daugh...   \n",
       "\n",
       "                             title                      genres   \n",
       "id                                                               \n",
       "862                      Toy Story   Animation, Comedy, Family  \\\n",
       "8844                       Jumanji  Adventure, Fantasy, Family   \n",
       "15602             Grumpier Old Men             Romance, Comedy   \n",
       "31357            Waiting to Exhale      Comedy, Drama, Romance   \n",
       "11862  Father of the Bride Part II                      Comedy   \n",
       "\n",
       "      original_language                                           overview   \n",
       "id                                                                           \n",
       "862                  en  Led by Woody, Andy's toys live happily in his ...  \\\n",
       "8844                 en  When siblings Judy and Peter discover an encha...   \n",
       "15602                en  A family wedding reignites the ancient feud be...   \n",
       "31357                en  Cheated on, mistreated and stepped on, the wom...   \n",
       "11862                en  Just when George Banks has recovered from his ...   \n",
       "\n",
       "                                                 tagline   \n",
       "id                                                         \n",
       "862                                                  NaN  \\\n",
       "8844           Roll the dice and unleash the excitement!   \n",
       "15602  Still Yelling. Still Fighting. Still Ready for...   \n",
       "31357  Friends are the people who let you be yourself...   \n",
       "11862  Just When His World Is Back To Normal... He's ...   \n",
       "\n",
       "           production_countries release_date    status  vote_average   \n",
       "id                                                                     \n",
       "862    United States of America   30/10/1995  Released           7.7  \\\n",
       "8844   United States of America   15/12/1995  Released           6.9   \n",
       "15602  United States of America   22/12/1995  Released           6.5   \n",
       "31357  United States of America   22/12/1995  Released           6.1   \n",
       "11862  United States of America    10/2/1995  Released           5.7   \n",
       "\n",
       "       vote_count  runtime                                               soup   \n",
       "id                                                                              \n",
       "862        5415.0     81.0  animation, comedy, family en led by woody, and...  \\\n",
       "8844       2413.0    104.0  adventure, fantasy, family en when siblings ju...   \n",
       "15602        92.0    101.0  romance, comedy en a family wedding reignites ...   \n",
       "31357        34.0    127.0  comedy, drama, romance en cheated on, mistreat...   \n",
       "11862       173.0    106.0  comedy en just when george banks has recovered...   \n",
       "\n",
       "       weighted_rating  movieId  \n",
       "id                               \n",
       "862                7.6        1  \n",
       "8844               6.8        2  \n",
       "15602              5.9        3  \n",
       "31357              5.7        4  \n",
       "11862              5.7        5  "
      ]
     },
     "execution_count": 18,
     "metadata": {},
     "output_type": "execute_result"
    }
   ],
   "source": [
    "indices_map = df_merged.set_index(\"id\")\n",
    "indices_map.head()"
   ]
  },
  {
   "attachments": {},
   "cell_type": "markdown",
   "metadata": {},
   "source": [
    "### Hybrid Recommendation System"
   ]
  },
  {
   "attachments": {},
   "cell_type": "markdown",
   "metadata": {},
   "source": [
    "#### Pipeline\n",
    "Steps:\n",
    "1. Get a sorted DataFrame of movies based on their similarity scores to a given movie.\n",
    "2. Filter out movies that are not in the qualified movies chart and sort the movies based on similarity scores and IMDB's weighted rating.\n",
    "3. Predict the user rating for qualified movies using SVD and return the sorted DataFrame.\n",
    "4. Get 5 movie recommendations based on a given title and a user ID."
   ]
  },
  {
   "cell_type": "code",
   "execution_count": 19,
   "metadata": {},
   "outputs": [],
   "source": [
    "def get_sorted_similar_movies(\n",
    "    title: str, cos_sim: np.ndarray, df_merged: pd.DataFrame\n",
    ") -> list[int]:\n",
    "    \"\"\"\n",
    "    Get a sorted DataFrame of movies based on their similarity scores to a given movie.\n",
    "\n",
    "    :param title: The title of the movie to find similar movies for.\n",
    "    :param cos_sim: The cosine similarity matrix of movies.\n",
    "    :param df_merged: The DataFrame containing movie details.\n",
    "    :return: A sorted DataFrame of similar movies.\n",
    "    \"\"\"\n",
    "    try:\n",
    "        # Get the index of the movie that matches the title\n",
    "        movie_index = movie_indices[title.lower()]\n",
    "\n",
    "        # If there are multiple movies with the same title, pick the first one.\n",
    "        if isinstance(movie_index, pd.Series):\n",
    "            movie_index = movie_index[0]\n",
    "\n",
    "    except KeyError:\n",
    "        print(f\"Movie '{title}' not found. Please enter a valid movie title.\")\n",
    "        return None\n",
    "\n",
    "    # Get the pairwise similarity scores of all movies with that movie\n",
    "    sim_scores = list(enumerate(cos_sim[movie_index]))\n",
    "\n",
    "    # Sort the movies based on the similarity scores\n",
    "    sim_scores = sorted(sim_scores, key=lambda x: x[1], reverse=True)[1:]\n",
    "\n",
    "    # Get the movie indices\n",
    "    sorted_movie_indices = [sim_score[0] for sim_score in sim_scores]\n",
    "\n",
    "    # Get the similarity scores\n",
    "    sorted_similarity_scores = [format(sim_score[1], \".1f\") for sim_score in sim_scores]\n",
    "\n",
    "    movie_details = [\n",
    "        \"id\",\n",
    "        \"title\",\n",
    "        \"genres\",\n",
    "        \"original_language\",\n",
    "        \"production_countries\",\n",
    "        \"release_date\",\n",
    "        \"runtime\",\n",
    "        \"weighted_rating\",\n",
    "    ]\n",
    "\n",
    "    sorted_similar_movies = df_merged.loc[sorted_movie_indices, movie_details]\n",
    "\n",
    "    sorted_similar_movies[\"similarity_scores\"] = sorted_similarity_scores\n",
    "\n",
    "    return sorted_similar_movies"
   ]
  },
  {
   "cell_type": "code",
   "execution_count": 20,
   "metadata": {},
   "outputs": [],
   "source": [
    "def get_qualified_movies(\n",
    "    df_qualified: pd.DataFrame, sorted_similar_movies: pd.DataFrame\n",
    ") -> pd.DataFrame:\n",
    "    \"\"\"\n",
    "    Filter out movies that are not in the qualified movies chart and sort the movies based on similarity scores and IMDB's weighted rating.\n",
    "\n",
    "    :param df_qualified: The DataFrame containing qualified movie details.\n",
    "    :param sorted_similar_movies: The DataFrame containing movie details sorted by similarity scores.\n",
    "    :return: A Pandas DataFrame containing the qualified movies sorted by similarity scores and IMDB's weighted rating..\n",
    "    \"\"\"\n",
    "\n",
    "    qualified_movies = sorted_similar_movies[\n",
    "        sorted_similar_movies[\"id\"].isin(df_qualified[\"id\"])\n",
    "    ]\n",
    "    qualified_movies = qualified_movies.sort_values(\n",
    "        by=[\"similarity_scores\", \"weighted_rating\"], ascending=False\n",
    "    )\n",
    "    return qualified_movies"
   ]
  },
  {
   "cell_type": "code",
   "execution_count": 21,
   "metadata": {},
   "outputs": [],
   "source": [
    "def predict_user_rating(\n",
    "    userId: int, qualified_movies: pd.DataFrame, indices_map: pd.DataFrame\n",
    ") -> pd.DataFrame:\n",
    "    \"\"\"\n",
    "    Predict the user rating for qualified movies using SVD and return the sorted DataFrame.\n",
    "\n",
    "    :param userId: The ID of the user.\n",
    "    :param qualified_movies:  A Pandas DataFrame containing qualified movies data.\n",
    "    :return: A Pandas DataFrame containing the final qualified movies sorted by estimated user ratings.\n",
    "    \"\"\"\n",
    "    # Calculate estimated user ratings for qualified movies using SVD\n",
    "    qualified_movies[\"predicted_user_rating\"] = qualified_movies[\"id\"].apply(\n",
    "        lambda x: round(svd.predict(userId, indices_map.loc[x][\"movieId\"]).est, 1)\n",
    "    )\n",
    "    final_qualified_movies = qualified_movies.sort_values(\n",
    "        by=[\"predicted_user_rating\", \"similarity_scores\", \"weighted_rating\"],\n",
    "        ascending=False,\n",
    "    )\n",
    "    return final_qualified_movies"
   ]
  },
  {
   "cell_type": "code",
   "execution_count": 33,
   "metadata": {},
   "outputs": [],
   "source": [
    "def get_movie_recommendations_hybrid(title: str, user_id: int) -> pd.DataFrame:\n",
    "    \"\"\"\n",
    "    Get movie recommendations based on a given title and user ID.\n",
    "\n",
    "    :param title: The title of the movie to find similar movies for.\n",
    "    :param userId: The ID of the user.\n",
    "    :return: A Pandas DataFrame containing the recommended movies\n",
    "    \"\"\"\n",
    "    # Get recommended movie indices based on the given title\n",
    "    sorted_similar_movies = get_sorted_similar_movies(title, cos_sim, df_merged)\n",
    "\n",
    "     # Filter out bad movies and select the top 50 qualified movies\n",
    "    qualified_movies = get_qualified_movies(df_qualified, sorted_similar_movies).head(50)\n",
    "\n",
    "    # Predict user ratings for qualified movies and select the top recommended movies\n",
    "    recommended_movies = predict_user_rating(\n",
    "        user_id, qualified_movies, indices_map\n",
    "    ).head(5)\n",
    "\n",
    "    recommended_movies.columns = [\n",
    "        \"ID\",\n",
    "        \"Title\",\n",
    "        \"Genres\",\n",
    "        \"Language\",\n",
    "        \"Production Countries\",\n",
    "        \"Release Date\",\n",
    "        \"Runtime\",\n",
    "        \"Weighted Rating\",\n",
    "        \"Similarity Score\",\n",
    "        \"Predicted User Rating\",\n",
    "    ]\n",
    "\n",
    "    recommendation_criteria = recommended_movies[[\"ID\", \"Title\", \"Predicted User Rating\", \"Similarity Score\", \"Weighted Rating\"]]\n",
    "    recommended_movies.drop([\"Predicted User Rating\", \"Similarity Score\", \"Weighted Rating\"], axis = 1, inplace=True)\n",
    "    return recommended_movies, recommendation_criteria"
   ]
  },
  {
   "attachments": {},
   "cell_type": "markdown",
   "metadata": {},
   "source": [
    "### Demo"
   ]
  },
  {
   "cell_type": "code",
   "execution_count": 34,
   "metadata": {},
   "outputs": [
    {
     "name": "stdout",
     "output_type": "stream",
     "text": [
      "Running on local URL:  http://127.0.0.1:7870\n",
      "\n",
      "To create a public link, set `share=True` in `launch()`.\n"
     ]
    },
    {
     "data": {
      "text/html": [
       "<div><iframe src=\"http://127.0.0.1:7870/\" width=\"100%\" height=\"500\" allow=\"autoplay; camera; microphone; clipboard-read; clipboard-write;\" frameborder=\"0\" allowfullscreen></iframe></div>"
      ],
      "text/plain": [
       "<IPython.core.display.HTML object>"
      ]
     },
     "metadata": {},
     "output_type": "display_data"
    },
    {
     "data": {
      "text/plain": []
     },
     "execution_count": 34,
     "metadata": {},
     "output_type": "execute_result"
    }
   ],
   "source": [
    "import gradio as gr\n",
    "\n",
    "with gr.Blocks(theme=gr.themes.Soft(text_size=\"lg\")) as demo:\n",
    "    gr.Markdown(\n",
    "        \"\"\"\n",
    "    # Movie Recommendation System\n",
    "    \"\"\"\n",
    "    )\n",
    "    title = gr.Dropdown(\n",
    "        choices=df_merged[\"title\"].unique().tolist(),\n",
    "        label=\"Movie Title\",\n",
    "        value=\"Iron Man\",\n",
    "    )\n",
    "    user_id = gr.Number(\n",
    "        value=1, label=\"User ID\", info=\"Please enter a number between 1 and 671!\"\n",
    "    )\n",
    "    recommend_button = gr.Button(\"Get Movie Recommendations\")\n",
    "    recommended_movies = gr.DataFrame(label=\"Movie Recommendations\")\n",
    "    recommendation_criteria = gr.DataFrame(label=\"Recommendation Criteria\")\n",
    "    recommend_button.click(\n",
    "        get_movie_recommendations_hybrid,\n",
    "        inputs=[title, user_id],\n",
    "        outputs=[recommended_movies, recommendation_criteria]\n",
    "    )\n",
    "    examples = gr.Examples(\n",
    "        examples=[\n",
    "            \"Captain America: The First Avenger\",\n",
    "            \"The Conjuring\",\n",
    "            \"Toy Story\",\n",
    "            \"Final Destination 5\",\n",
    "        ],\n",
    "        inputs=[title],\n",
    "    )\n",
    "\n",
    "demo.launch()"
   ]
  },
  {
   "cell_type": "code",
   "execution_count": null,
   "metadata": {},
   "outputs": [],
   "source": []
  }
 ],
 "metadata": {
  "kernelspec": {
   "display_name": "rs",
   "language": "python",
   "name": "python3"
  },
  "language_info": {
   "codemirror_mode": {
    "name": "ipython",
    "version": 3
   },
   "file_extension": ".py",
   "mimetype": "text/x-python",
   "name": "python",
   "nbconvert_exporter": "python",
   "pygments_lexer": "ipython3",
   "version": "3.10.0"
  },
  "orig_nbformat": 4
 },
 "nbformat": 4,
 "nbformat_minor": 2
}
