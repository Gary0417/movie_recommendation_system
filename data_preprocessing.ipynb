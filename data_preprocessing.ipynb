{
 "cells": [
  {
   "attachments": {},
   "cell_type": "markdown",
   "id": "17a1fb87",
   "metadata": {},
   "source": [
    "# Recommendation Systems"
   ]
  },
  {
   "attachments": {},
   "cell_type": "markdown",
   "id": "2ec7a6eb",
   "metadata": {},
   "source": [
    "## Introduction\n",
    "We will create a movie recommendation system based on The Movies Dataset available [here](https://www.kaggle.com/datasets/rounakbanik/the-movies-dataset).\n",
    "\n",
    "### Outline:\n",
    "1. Data Preprocessing\n",
    "2. Content-based Filtering\n",
    "3. Hybrid Recommendation System (Content-based Filtering + Collaborative Filtering)"
   ]
  },
  {
   "attachments": {},
   "cell_type": "markdown",
   "id": "10dd744a",
   "metadata": {},
   "source": [
    "### Importing Libraries"
   ]
  },
  {
   "cell_type": "code",
   "execution_count": 28,
   "id": "0ad12315",
   "metadata": {},
   "outputs": [],
   "source": [
    "import ast\n",
    "import json\n",
    "import os\n",
    "import pandas as pd"
   ]
  },
  {
   "attachments": {},
   "cell_type": "markdown",
   "id": "05feae40",
   "metadata": {},
   "source": [
    "### Loading The Movies Dataset"
   ]
  },
  {
   "cell_type": "code",
   "execution_count": 29,
   "id": "21d4f3ee",
   "metadata": {},
   "outputs": [],
   "source": [
    "df_metadata = pd.read_csv(\"data/movies_metadata.csv\", low_memory=False)\n",
    "df_keywords = pd.read_csv(\"data/keywords.csv\")"
   ]
  },
  {
   "attachments": {},
   "cell_type": "markdown",
   "id": "1a195bd9",
   "metadata": {},
   "source": [
    "## Data Proprocessing"
   ]
  },
  {
   "attachments": {},
   "cell_type": "markdown",
   "id": "ce2c9aff",
   "metadata": {},
   "source": [
    "### Movies Metadata"
   ]
  },
  {
   "attachments": {},
   "cell_type": "markdown",
   "id": "cfd60cac",
   "metadata": {},
   "source": [
    "Contains information on 45,000 movies featured in the Full MovieLens dataset."
   ]
  },
  {
   "cell_type": "code",
   "execution_count": 30,
   "id": "9b71a49b",
   "metadata": {
    "scrolled": false
   },
   "outputs": [
    {
     "data": {
      "text/html": [
       "<div>\n",
       "<style scoped>\n",
       "    .dataframe tbody tr th:only-of-type {\n",
       "        vertical-align: middle;\n",
       "    }\n",
       "\n",
       "    .dataframe tbody tr th {\n",
       "        vertical-align: top;\n",
       "    }\n",
       "\n",
       "    .dataframe thead th {\n",
       "        text-align: right;\n",
       "    }\n",
       "</style>\n",
       "<table border=\"1\" class=\"dataframe\">\n",
       "  <thead>\n",
       "    <tr style=\"text-align: right;\">\n",
       "      <th></th>\n",
       "      <th>adult</th>\n",
       "      <th>belongs_to_collection</th>\n",
       "      <th>budget</th>\n",
       "      <th>genres</th>\n",
       "      <th>homepage</th>\n",
       "      <th>id</th>\n",
       "      <th>imdb_id</th>\n",
       "      <th>original_language</th>\n",
       "      <th>original_title</th>\n",
       "      <th>overview</th>\n",
       "      <th>...</th>\n",
       "      <th>release_date</th>\n",
       "      <th>revenue</th>\n",
       "      <th>runtime</th>\n",
       "      <th>spoken_languages</th>\n",
       "      <th>status</th>\n",
       "      <th>tagline</th>\n",
       "      <th>title</th>\n",
       "      <th>video</th>\n",
       "      <th>vote_average</th>\n",
       "      <th>vote_count</th>\n",
       "    </tr>\n",
       "  </thead>\n",
       "  <tbody>\n",
       "    <tr>\n",
       "      <th>0</th>\n",
       "      <td>FALSE</td>\n",
       "      <td>{'id': 10194, 'name': 'Toy Story Collection', ...</td>\n",
       "      <td>30000000</td>\n",
       "      <td>[{'id': 16, 'name': 'Animation'}, {'id': 35, '...</td>\n",
       "      <td>http://toystory.disney.com/toy-story</td>\n",
       "      <td>862</td>\n",
       "      <td>tt0114709</td>\n",
       "      <td>en</td>\n",
       "      <td>Toy Story</td>\n",
       "      <td>Led by Woody, Andy's toys live happily in his ...</td>\n",
       "      <td>...</td>\n",
       "      <td>30/10/1995</td>\n",
       "      <td>373554033.0</td>\n",
       "      <td>81.0</td>\n",
       "      <td>[{'iso_639_1': 'en', 'name': 'English'}]</td>\n",
       "      <td>Released</td>\n",
       "      <td>NaN</td>\n",
       "      <td>Toy Story</td>\n",
       "      <td>False</td>\n",
       "      <td>7.7</td>\n",
       "      <td>5415.0</td>\n",
       "    </tr>\n",
       "    <tr>\n",
       "      <th>1</th>\n",
       "      <td>FALSE</td>\n",
       "      <td>NaN</td>\n",
       "      <td>65000000</td>\n",
       "      <td>[{'id': 12, 'name': 'Adventure'}, {'id': 14, '...</td>\n",
       "      <td>NaN</td>\n",
       "      <td>8844</td>\n",
       "      <td>tt0113497</td>\n",
       "      <td>en</td>\n",
       "      <td>Jumanji</td>\n",
       "      <td>When siblings Judy and Peter discover an encha...</td>\n",
       "      <td>...</td>\n",
       "      <td>15/12/1995</td>\n",
       "      <td>262797249.0</td>\n",
       "      <td>104.0</td>\n",
       "      <td>[{'iso_639_1': 'en', 'name': 'English'}, {'iso...</td>\n",
       "      <td>Released</td>\n",
       "      <td>Roll the dice and unleash the excitement!</td>\n",
       "      <td>Jumanji</td>\n",
       "      <td>False</td>\n",
       "      <td>6.9</td>\n",
       "      <td>2413.0</td>\n",
       "    </tr>\n",
       "    <tr>\n",
       "      <th>2</th>\n",
       "      <td>FALSE</td>\n",
       "      <td>{'id': 119050, 'name': 'Grumpy Old Men Collect...</td>\n",
       "      <td>0</td>\n",
       "      <td>[{'id': 10749, 'name': 'Romance'}, {'id': 35, ...</td>\n",
       "      <td>NaN</td>\n",
       "      <td>15602</td>\n",
       "      <td>tt0113228</td>\n",
       "      <td>en</td>\n",
       "      <td>Grumpier Old Men</td>\n",
       "      <td>A family wedding reignites the ancient feud be...</td>\n",
       "      <td>...</td>\n",
       "      <td>22/12/1995</td>\n",
       "      <td>0.0</td>\n",
       "      <td>101.0</td>\n",
       "      <td>[{'iso_639_1': 'en', 'name': 'English'}]</td>\n",
       "      <td>Released</td>\n",
       "      <td>Still Yelling. Still Fighting. Still Ready for...</td>\n",
       "      <td>Grumpier Old Men</td>\n",
       "      <td>False</td>\n",
       "      <td>6.5</td>\n",
       "      <td>92.0</td>\n",
       "    </tr>\n",
       "    <tr>\n",
       "      <th>3</th>\n",
       "      <td>FALSE</td>\n",
       "      <td>NaN</td>\n",
       "      <td>16000000</td>\n",
       "      <td>[{'id': 35, 'name': 'Comedy'}, {'id': 18, 'nam...</td>\n",
       "      <td>NaN</td>\n",
       "      <td>31357</td>\n",
       "      <td>tt0114885</td>\n",
       "      <td>en</td>\n",
       "      <td>Waiting to Exhale</td>\n",
       "      <td>Cheated on, mistreated and stepped on, the wom...</td>\n",
       "      <td>...</td>\n",
       "      <td>22/12/1995</td>\n",
       "      <td>81452156.0</td>\n",
       "      <td>127.0</td>\n",
       "      <td>[{'iso_639_1': 'en', 'name': 'English'}]</td>\n",
       "      <td>Released</td>\n",
       "      <td>Friends are the people who let you be yourself...</td>\n",
       "      <td>Waiting to Exhale</td>\n",
       "      <td>False</td>\n",
       "      <td>6.1</td>\n",
       "      <td>34.0</td>\n",
       "    </tr>\n",
       "    <tr>\n",
       "      <th>4</th>\n",
       "      <td>FALSE</td>\n",
       "      <td>{'id': 96871, 'name': 'Father of the Bride Col...</td>\n",
       "      <td>0</td>\n",
       "      <td>[{'id': 35, 'name': 'Comedy'}]</td>\n",
       "      <td>NaN</td>\n",
       "      <td>11862</td>\n",
       "      <td>tt0113041</td>\n",
       "      <td>en</td>\n",
       "      <td>Father of the Bride Part II</td>\n",
       "      <td>Just when George Banks has recovered from his ...</td>\n",
       "      <td>...</td>\n",
       "      <td>10/2/1995</td>\n",
       "      <td>76578911.0</td>\n",
       "      <td>106.0</td>\n",
       "      <td>[{'iso_639_1': 'en', 'name': 'English'}]</td>\n",
       "      <td>Released</td>\n",
       "      <td>Just When His World Is Back To Normal... He's ...</td>\n",
       "      <td>Father of the Bride Part II</td>\n",
       "      <td>False</td>\n",
       "      <td>5.7</td>\n",
       "      <td>173.0</td>\n",
       "    </tr>\n",
       "  </tbody>\n",
       "</table>\n",
       "<p>5 rows × 24 columns</p>\n",
       "</div>"
      ],
      "text/plain": [
       "   adult                              belongs_to_collection    budget   \n",
       "0  FALSE  {'id': 10194, 'name': 'Toy Story Collection', ...  30000000  \\\n",
       "1  FALSE                                                NaN  65000000   \n",
       "2  FALSE  {'id': 119050, 'name': 'Grumpy Old Men Collect...         0   \n",
       "3  FALSE                                                NaN  16000000   \n",
       "4  FALSE  {'id': 96871, 'name': 'Father of the Bride Col...         0   \n",
       "\n",
       "                                              genres   \n",
       "0  [{'id': 16, 'name': 'Animation'}, {'id': 35, '...  \\\n",
       "1  [{'id': 12, 'name': 'Adventure'}, {'id': 14, '...   \n",
       "2  [{'id': 10749, 'name': 'Romance'}, {'id': 35, ...   \n",
       "3  [{'id': 35, 'name': 'Comedy'}, {'id': 18, 'nam...   \n",
       "4                     [{'id': 35, 'name': 'Comedy'}]   \n",
       "\n",
       "                               homepage     id    imdb_id original_language   \n",
       "0  http://toystory.disney.com/toy-story    862  tt0114709                en  \\\n",
       "1                                   NaN   8844  tt0113497                en   \n",
       "2                                   NaN  15602  tt0113228                en   \n",
       "3                                   NaN  31357  tt0114885                en   \n",
       "4                                   NaN  11862  tt0113041                en   \n",
       "\n",
       "                original_title   \n",
       "0                    Toy Story  \\\n",
       "1                      Jumanji   \n",
       "2             Grumpier Old Men   \n",
       "3            Waiting to Exhale   \n",
       "4  Father of the Bride Part II   \n",
       "\n",
       "                                            overview  ... release_date   \n",
       "0  Led by Woody, Andy's toys live happily in his ...  ...   30/10/1995  \\\n",
       "1  When siblings Judy and Peter discover an encha...  ...   15/12/1995   \n",
       "2  A family wedding reignites the ancient feud be...  ...   22/12/1995   \n",
       "3  Cheated on, mistreated and stepped on, the wom...  ...   22/12/1995   \n",
       "4  Just when George Banks has recovered from his ...  ...    10/2/1995   \n",
       "\n",
       "       revenue runtime                                   spoken_languages   \n",
       "0  373554033.0    81.0           [{'iso_639_1': 'en', 'name': 'English'}]  \\\n",
       "1  262797249.0   104.0  [{'iso_639_1': 'en', 'name': 'English'}, {'iso...   \n",
       "2          0.0   101.0           [{'iso_639_1': 'en', 'name': 'English'}]   \n",
       "3   81452156.0   127.0           [{'iso_639_1': 'en', 'name': 'English'}]   \n",
       "4   76578911.0   106.0           [{'iso_639_1': 'en', 'name': 'English'}]   \n",
       "\n",
       "     status                                            tagline   \n",
       "0  Released                                                NaN  \\\n",
       "1  Released          Roll the dice and unleash the excitement!   \n",
       "2  Released  Still Yelling. Still Fighting. Still Ready for...   \n",
       "3  Released  Friends are the people who let you be yourself...   \n",
       "4  Released  Just When His World Is Back To Normal... He's ...   \n",
       "\n",
       "                         title  video vote_average vote_count  \n",
       "0                    Toy Story  False          7.7     5415.0  \n",
       "1                      Jumanji  False          6.9     2413.0  \n",
       "2             Grumpier Old Men  False          6.5       92.0  \n",
       "3            Waiting to Exhale  False          6.1       34.0  \n",
       "4  Father of the Bride Part II  False          5.7      173.0  \n",
       "\n",
       "[5 rows x 24 columns]"
      ]
     },
     "execution_count": 30,
     "metadata": {},
     "output_type": "execute_result"
    }
   ],
   "source": [
    "df_metadata.head()"
   ]
  },
  {
   "cell_type": "code",
   "execution_count": 31,
   "id": "dc809e10",
   "metadata": {
    "scrolled": false
   },
   "outputs": [
    {
     "data": {
      "text/plain": [
       "(45466, 24)"
      ]
     },
     "execution_count": 31,
     "metadata": {},
     "output_type": "execute_result"
    }
   ],
   "source": [
    "df_metadata.shape"
   ]
  },
  {
   "attachments": {},
   "cell_type": "markdown",
   "id": "b6066c53",
   "metadata": {},
   "source": [
    "Check if there are missing values."
   ]
  },
  {
   "cell_type": "code",
   "execution_count": 32,
   "id": "d5d1945d",
   "metadata": {
    "scrolled": false
   },
   "outputs": [
    {
     "data": {
      "text/plain": [
       "adult                        0\n",
       "belongs_to_collection    40972\n",
       "budget                       0\n",
       "genres                       0\n",
       "homepage                 37684\n",
       "id                           0\n",
       "imdb_id                     17\n",
       "original_language           11\n",
       "original_title               0\n",
       "overview                   954\n",
       "popularity                   5\n",
       "poster_path                386\n",
       "production_companies         3\n",
       "production_countries         3\n",
       "release_date                87\n",
       "revenue                      6\n",
       "runtime                    263\n",
       "spoken_languages             6\n",
       "status                      87\n",
       "tagline                  25054\n",
       "title                        6\n",
       "video                        6\n",
       "vote_average                 6\n",
       "vote_count                   6\n",
       "dtype: int64"
      ]
     },
     "execution_count": 32,
     "metadata": {},
     "output_type": "execute_result"
    }
   ],
   "source": [
    "df_metadata.isnull().sum()"
   ]
  },
  {
   "attachments": {},
   "cell_type": "markdown",
   "id": "264a08eb",
   "metadata": {},
   "source": [
    "Columns that are needed to build our recommendation system."
   ]
  },
  {
   "cell_type": "code",
   "execution_count": 33,
   "id": "7a92b663",
   "metadata": {},
   "outputs": [],
   "source": [
    "df_metadata = df_metadata[\n",
    "    [\n",
    "        \"id\",\n",
    "        \"title\",\n",
    "        \"genres\",\n",
    "        \"original_language\",\n",
    "        \"overview\",\n",
    "        \"tagline\",\n",
    "        \"production_countries\",\n",
    "        \"release_date\",\n",
    "        \"status\",\n",
    "        \"vote_average\",\n",
    "        \"vote_count\",\n",
    "        \"runtime\",\n",
    "    ]\n",
    "]"
   ]
  },
  {
   "attachments": {},
   "cell_type": "markdown",
   "id": "aca99317",
   "metadata": {},
   "source": [
    "Number of movies with same title and release date."
   ]
  },
  {
   "cell_type": "code",
   "execution_count": 34,
   "id": "3fe07564",
   "metadata": {
    "scrolled": true
   },
   "outputs": [
    {
     "data": {
      "text/plain": [
       "32"
      ]
     },
     "execution_count": 34,
     "metadata": {},
     "output_type": "execute_result"
    }
   ],
   "source": [
    "df_metadata[[\"title\", \"release_date\"]].duplicated().sum()"
   ]
  },
  {
   "attachments": {},
   "cell_type": "markdown",
   "id": "cd395abd",
   "metadata": {},
   "source": [
    "Number of movies with no overviews."
   ]
  },
  {
   "cell_type": "code",
   "execution_count": 35,
   "id": "b00c4be9",
   "metadata": {
    "scrolled": true
   },
   "outputs": [
    {
     "data": {
      "text/plain": [
       "954"
      ]
     },
     "execution_count": 35,
     "metadata": {},
     "output_type": "execute_result"
    }
   ],
   "source": [
    "df_metadata[df_metadata.overview.isnull()].shape[0]"
   ]
  },
  {
   "attachments": {},
   "cell_type": "markdown",
   "id": "058708d4",
   "metadata": {},
   "source": [
    "Number of movies that have not yet been released."
   ]
  },
  {
   "cell_type": "code",
   "execution_count": 36,
   "id": "862c6daa",
   "metadata": {},
   "outputs": [
    {
     "data": {
      "text/plain": [
       "452"
      ]
     },
     "execution_count": 36,
     "metadata": {},
     "output_type": "execute_result"
    }
   ],
   "source": [
    "df_metadata[df_metadata.status != \"Released\"].shape[0]"
   ]
  },
  {
   "attachments": {},
   "cell_type": "markdown",
   "id": "2ea35358",
   "metadata": {},
   "source": [
    "Genres and Production Countries"
   ]
  },
  {
   "cell_type": "code",
   "execution_count": 37,
   "id": "61303fb2",
   "metadata": {},
   "outputs": [
    {
     "data": {
      "text/plain": [
       "\"[{'id': 16, 'name': 'Animation'}, {'id': 35, 'name': 'Comedy'}, {'id': 10751, 'name': 'Family'}]\""
      ]
     },
     "execution_count": 37,
     "metadata": {},
     "output_type": "execute_result"
    }
   ],
   "source": [
    "df_metadata[\"genres\"][0]"
   ]
  },
  {
   "cell_type": "code",
   "execution_count": 38,
   "id": "41a0db99",
   "metadata": {
    "scrolled": false
   },
   "outputs": [
    {
     "data": {
      "text/plain": [
       "\"[{'iso_3166_1': 'US', 'name': 'United States of America'}]\""
      ]
     },
     "execution_count": 38,
     "metadata": {},
     "output_type": "execute_result"
    }
   ],
   "source": [
    "df_metadata[\"production_countries\"][0]"
   ]
  },
  {
   "attachments": {},
   "cell_type": "markdown",
   "id": "ade9af22",
   "metadata": {},
   "source": [
    "**TODO:**\n",
    "We will remove movies which:\n",
    "- have same titles and release date.\n",
    "- have no overviews.\n",
    "- have not yet been released.  \n",
    "\n",
    "We need to extract the names from the data.  \n",
    "\n",
    "**Example:**\n",
    ">>> extract_names(\"[{'id': 16, 'name': 'Animation'}, {'id': 35, 'name': 'Comedy'}, {'id': 10751, 'name': 'Family'}]\")  \n",
    "    'Animation, Comedy, Family'"
   ]
  },
  {
   "attachments": {},
   "cell_type": "markdown",
   "id": "7f7642e6",
   "metadata": {},
   "source": [
    "Extract the movie feature names from the data"
   ]
  },
  {
   "cell_type": "code",
   "execution_count": 39,
   "id": "b987ce42",
   "metadata": {},
   "outputs": [],
   "source": [
    "def extract_names(data: str) -> str:\n",
    "    \"\"\"\n",
    "    Extract the names from the data.\n",
    "\n",
    "    :param data: A string representing a list of objects. Each object should have a 'name' key.\n",
    "    :return: A string containing the names of the features, separated by commas and spaces.\n",
    "    \"\"\"\n",
    "    if data:\n",
    "        try:\n",
    "            # Convert the input string to a JSON-formatted string\n",
    "            json_str = json.dumps(ast.literal_eval(data))\n",
    "            # Load the JSON-formatted string into a Python object\n",
    "            python_obj = json.loads(json_str)\n",
    "            # Extract the names from the Python object\n",
    "            data_names = [data[\"name\"] for data in python_obj]\n",
    "            # Join the names into a single string separated by spaces\n",
    "            data_names_str = \", \".join(data_names)\n",
    "\n",
    "            return data_names_str\n",
    "\n",
    "        except TypeError:\n",
    "            return \"\"\n",
    "    else:\n",
    "        # If the input is empty, return an empty string\n",
    "        return \"\""
   ]
  },
  {
   "attachments": {},
   "cell_type": "markdown",
   "id": "6807506c",
   "metadata": {},
   "source": [
    "Clean the movies dataset"
   ]
  },
  {
   "cell_type": "code",
   "execution_count": 40,
   "id": "2a5bffd2",
   "metadata": {},
   "outputs": [],
   "source": [
    "def clean_movies_data_set(df: pd.DataFrame) -> pd.DataFrame:\n",
    "    \"\"\"\n",
    "    Clean the movies dataset by removing duplicates, null values and non-released movies,\n",
    "    and extracting the genre names and production countries from the data.\n",
    "\n",
    "    :param df: The movie dataset to be cleaned.\n",
    "    :return: A cleaned pandas DataFrame.\n",
    "    \"\"\"\n",
    "    print(f\"The number of movies in the original data set is: {df.shape[0]}\")\n",
    "\n",
    "    # Removes duplicates titles that have same release date\n",
    "    df.drop_duplicates(subset=[\"title\", \"release_date\"], inplace=True)\n",
    "\n",
    "    # Removes movies that have no overview or have not yet been released\n",
    "    index_drop = df[(df.overview.isnull()) | (df.status != \"Released\")].index\n",
    "    df.drop(index_drop, inplace=True)\n",
    "\n",
    "    # Fills the rows with empty production_countries to NaN\n",
    "    df.loc[df.production_countries == \"[]\", \"production_countries\"] = pd.NA\n",
    "\n",
    "    # Replaces all the null values with empty string\n",
    "    df.fillna(\"\", inplace=True)\n",
    "\n",
    "    # Extracts the genre names and production countries from the data\n",
    "    df[\"genres\"] = df[\"genres\"].apply(extract_names)\n",
    "    df[\"production_countries\"] = df[\"production_countries\"].apply(extract_names)\n",
    "\n",
    "    print(f\"The number of movies in the cleaned data set is: {df.shape[0]}\")\n",
    "\n",
    "    return df"
   ]
  },
  {
   "cell_type": "code",
   "execution_count": 41,
   "id": "7a88b83c",
   "metadata": {
    "scrolled": true
   },
   "outputs": [
    {
     "name": "stdout",
     "output_type": "stream",
     "text": [
      "The number of movies in the original data set is: 45466\n",
      "The number of movies in the cleaned data set is: 44065\n"
     ]
    }
   ],
   "source": [
    "df_metadata = clean_movies_data_set(df_metadata)"
   ]
  },
  {
   "attachments": {},
   "cell_type": "markdown",
   "id": "a201baab",
   "metadata": {},
   "source": [
    "### Keywords"
   ]
  },
  {
   "attachments": {},
   "cell_type": "markdown",
   "id": "7023a1c3",
   "metadata": {},
   "source": [
    "Contains the movie plot keywords for our MovieLens movies."
   ]
  },
  {
   "cell_type": "code",
   "execution_count": 42,
   "id": "69aabf7f",
   "metadata": {},
   "outputs": [
    {
     "data": {
      "text/html": [
       "<div>\n",
       "<style scoped>\n",
       "    .dataframe tbody tr th:only-of-type {\n",
       "        vertical-align: middle;\n",
       "    }\n",
       "\n",
       "    .dataframe tbody tr th {\n",
       "        vertical-align: top;\n",
       "    }\n",
       "\n",
       "    .dataframe thead th {\n",
       "        text-align: right;\n",
       "    }\n",
       "</style>\n",
       "<table border=\"1\" class=\"dataframe\">\n",
       "  <thead>\n",
       "    <tr style=\"text-align: right;\">\n",
       "      <th></th>\n",
       "      <th>id</th>\n",
       "      <th>keywords</th>\n",
       "    </tr>\n",
       "  </thead>\n",
       "  <tbody>\n",
       "    <tr>\n",
       "      <th>0</th>\n",
       "      <td>862</td>\n",
       "      <td>[{'id': 931, 'name': 'jealousy'}, {'id': 4290,...</td>\n",
       "    </tr>\n",
       "    <tr>\n",
       "      <th>1</th>\n",
       "      <td>8844</td>\n",
       "      <td>[{'id': 10090, 'name': 'board game'}, {'id': 1...</td>\n",
       "    </tr>\n",
       "    <tr>\n",
       "      <th>2</th>\n",
       "      <td>15602</td>\n",
       "      <td>[{'id': 1495, 'name': 'fishing'}, {'id': 12392...</td>\n",
       "    </tr>\n",
       "    <tr>\n",
       "      <th>3</th>\n",
       "      <td>31357</td>\n",
       "      <td>[{'id': 818, 'name': 'based on novel'}, {'id':...</td>\n",
       "    </tr>\n",
       "    <tr>\n",
       "      <th>4</th>\n",
       "      <td>11862</td>\n",
       "      <td>[{'id': 1009, 'name': 'baby'}, {'id': 1599, 'n...</td>\n",
       "    </tr>\n",
       "  </tbody>\n",
       "</table>\n",
       "</div>"
      ],
      "text/plain": [
       "      id                                           keywords\n",
       "0    862  [{'id': 931, 'name': 'jealousy'}, {'id': 4290,...\n",
       "1   8844  [{'id': 10090, 'name': 'board game'}, {'id': 1...\n",
       "2  15602  [{'id': 1495, 'name': 'fishing'}, {'id': 12392...\n",
       "3  31357  [{'id': 818, 'name': 'based on novel'}, {'id':...\n",
       "4  11862  [{'id': 1009, 'name': 'baby'}, {'id': 1599, 'n..."
      ]
     },
     "execution_count": 42,
     "metadata": {},
     "output_type": "execute_result"
    }
   ],
   "source": [
    "df_keywords.head()"
   ]
  },
  {
   "attachments": {},
   "cell_type": "markdown",
   "id": "3e8f1f9f",
   "metadata": {},
   "source": [
    "#### Data Preprocessing"
   ]
  },
  {
   "attachments": {},
   "cell_type": "markdown",
   "id": "17fdc05c",
   "metadata": {},
   "source": [
    "Drop duplicates"
   ]
  },
  {
   "cell_type": "code",
   "execution_count": 43,
   "id": "64f0c629",
   "metadata": {},
   "outputs": [],
   "source": [
    "df_keywords = df_keywords.drop_duplicates()"
   ]
  },
  {
   "attachments": {},
   "cell_type": "markdown",
   "id": "d83f75d0",
   "metadata": {},
   "source": [
    "Extract keywords"
   ]
  },
  {
   "cell_type": "code",
   "execution_count": 44,
   "id": "4c5ab9e9",
   "metadata": {},
   "outputs": [],
   "source": [
    "df_keywords[\"keywords\"] = df_keywords[\"keywords\"].apply(extract_names)"
   ]
  },
  {
   "cell_type": "code",
   "execution_count": 45,
   "id": "bb7f7692",
   "metadata": {
    "scrolled": false
   },
   "outputs": [
    {
     "data": {
      "text/html": [
       "<div>\n",
       "<style scoped>\n",
       "    .dataframe tbody tr th:only-of-type {\n",
       "        vertical-align: middle;\n",
       "    }\n",
       "\n",
       "    .dataframe tbody tr th {\n",
       "        vertical-align: top;\n",
       "    }\n",
       "\n",
       "    .dataframe thead th {\n",
       "        text-align: right;\n",
       "    }\n",
       "</style>\n",
       "<table border=\"1\" class=\"dataframe\">\n",
       "  <thead>\n",
       "    <tr style=\"text-align: right;\">\n",
       "      <th></th>\n",
       "      <th>id</th>\n",
       "      <th>keywords</th>\n",
       "    </tr>\n",
       "  </thead>\n",
       "  <tbody>\n",
       "    <tr>\n",
       "      <th>0</th>\n",
       "      <td>862</td>\n",
       "      <td>jealousy, toy, boy, friendship, friends, rival...</td>\n",
       "    </tr>\n",
       "    <tr>\n",
       "      <th>1</th>\n",
       "      <td>8844</td>\n",
       "      <td>board game, disappearance, based on children's...</td>\n",
       "    </tr>\n",
       "    <tr>\n",
       "      <th>2</th>\n",
       "      <td>15602</td>\n",
       "      <td>fishing, best friend, duringcreditsstinger, ol...</td>\n",
       "    </tr>\n",
       "    <tr>\n",
       "      <th>3</th>\n",
       "      <td>31357</td>\n",
       "      <td>based on novel, interracial relationship, sing...</td>\n",
       "    </tr>\n",
       "    <tr>\n",
       "      <th>4</th>\n",
       "      <td>11862</td>\n",
       "      <td>baby, midlife crisis, confidence, aging, daugh...</td>\n",
       "    </tr>\n",
       "  </tbody>\n",
       "</table>\n",
       "</div>"
      ],
      "text/plain": [
       "      id                                           keywords\n",
       "0    862  jealousy, toy, boy, friendship, friends, rival...\n",
       "1   8844  board game, disappearance, based on children's...\n",
       "2  15602  fishing, best friend, duringcreditsstinger, ol...\n",
       "3  31357  based on novel, interracial relationship, sing...\n",
       "4  11862  baby, midlife crisis, confidence, aging, daugh..."
      ]
     },
     "execution_count": 45,
     "metadata": {},
     "output_type": "execute_result"
    }
   ],
   "source": [
    "df_keywords.head()"
   ]
  },
  {
   "attachments": {},
   "cell_type": "markdown",
   "id": "3984a2b0",
   "metadata": {},
   "source": [
    "### Merge two data frames"
   ]
  },
  {
   "cell_type": "code",
   "execution_count": 46,
   "id": "50bc1fd3",
   "metadata": {},
   "outputs": [],
   "source": [
    "df_metadata[\"id\"] = df_metadata[\"id\"].astype(int)\n",
    "df_merged = pd.merge(df_keywords, df_metadata, on=\"id\")"
   ]
  },
  {
   "attachments": {},
   "cell_type": "markdown",
   "id": "c06ec53c",
   "metadata": {},
   "source": [
    "### Create a new column `soup`\n",
    "- a string that combines all the relevant data to be fed into the model. \n",
    "- `soup`: genres, original language, overview, tagline, keywords,  production countries"
   ]
  },
  {
   "cell_type": "code",
   "execution_count": 47,
   "id": "495888eb",
   "metadata": {},
   "outputs": [],
   "source": [
    "def create_soup(movie: pd.Series) -> str:\n",
    "    \"\"\"\n",
    "    Concatenates several movies features into a single string to create a soup of text.\n",
    "\n",
    "    :param movie: A movie containing features to concatenate.\n",
    "    :return: A string containing the concatenated movie features.\n",
    "    \"\"\"\n",
    "    return (\n",
    "        movie.genres\n",
    "        + \" \"\n",
    "        + movie.original_language\n",
    "        + \" \"\n",
    "        + movie.overview\n",
    "        + \" \"\n",
    "        + movie.tagline\n",
    "        + \" \"\n",
    "        + movie.keywords\n",
    "        + \" \"\n",
    "        + movie.production_countries\n",
    "    ).lower()"
   ]
  },
  {
   "cell_type": "code",
   "execution_count": 48,
   "id": "eb301051",
   "metadata": {},
   "outputs": [],
   "source": [
    "df_merged[\"soup\"] = df_merged.apply(create_soup, axis=1)"
   ]
  },
  {
   "attachments": {},
   "cell_type": "markdown",
   "id": "631f114b",
   "metadata": {},
   "source": [
    "### IMDB' weighted rating  \n",
    "A movie with an average rating of 9 based on and only 2 votes cannot be considered better than a movie with a lower average rating of 8 but has 1000 votes. So we will be using IMDB's weighted rating to determine the quality of a movie."
   ]
  },
  {
   "attachments": {},
   "cell_type": "markdown",
   "id": "1d8d8767",
   "metadata": {},
   "source": [
    "Weighted Rating = ($\\frac{v}{v+m}$ * R) + ($\\frac{m}{v+m}$ * C)  \n",
    "\n",
    "where,\n",
    "- v is the number of votes for the movie (vote_count)\n",
    "- R is the average rating of the movie (vote_average)\n",
    "- C is the mean vote across the whole dataset\n",
    "- m is the minimum votes required to be listed in the chart"
   ]
  },
  {
   "cell_type": "code",
   "execution_count": 49,
   "id": "bf4145e3",
   "metadata": {},
   "outputs": [
    {
     "data": {
      "text/plain": [
       "5.644187999273783"
      ]
     },
     "execution_count": 49,
     "metadata": {},
     "output_type": "execute_result"
    }
   ],
   "source": [
    "mean_vote_average_C = df_merged[\"vote_average\"].mean()\n",
    "mean_vote_average_C"
   ]
  },
  {
   "cell_type": "code",
   "execution_count": 50,
   "id": "a1af5dea",
   "metadata": {},
   "outputs": [
    {
     "data": {
      "text/plain": [
       "167.0"
      ]
     },
     "execution_count": 50,
     "metadata": {},
     "output_type": "execute_result"
    }
   ],
   "source": [
    "min_vote_counts_m = df_merged[\"vote_count\"].quantile(0.9)\n",
    "min_vote_counts_m"
   ]
  },
  {
   "attachments": {},
   "cell_type": "markdown",
   "id": "9c4a633a",
   "metadata": {},
   "source": [
    "Filter out the movies that qualify for the chart"
   ]
  },
  {
   "cell_type": "code",
   "execution_count": 51,
   "id": "a6a53ad7",
   "metadata": {},
   "outputs": [
    {
     "data": {
      "text/plain": [
       "(4418, 14)"
      ]
     },
     "execution_count": 51,
     "metadata": {},
     "output_type": "execute_result"
    }
   ],
   "source": [
    "df_qualified = df_merged.loc[df_merged[\"vote_count\"] >= min_vote_counts_m]\n",
    "df_qualified.shape"
   ]
  },
  {
   "cell_type": "code",
   "execution_count": 52,
   "id": "2f805dcb",
   "metadata": {},
   "outputs": [],
   "source": [
    "def calculate_weighted_rating(\n",
    "    movie: pd.Series, min_vote_counts_m: int, mean_vote_average_C: float\n",
    ") -> float:\n",
    "    \"\"\"\n",
    "    Calculate the weighted rating for a movie based on its vote count, vote average,\n",
    "    and the minimum vote counts and mean vote average across the dataset.\n",
    "\n",
    "    :param movie: A DataFrame row representing a movie.\n",
    "    :param min_votes: The mnimum votes required to be listed in the chart.\n",
    "    :param mean_vote_average: The mean vote average across the whole dataset.\n",
    "    :return: The weighted rating for the movie.\n",
    "    \"\"\"\n",
    "    vote_count = movie[\"vote_count\"]\n",
    "    vote_average = movie[\"vote_average\"]\n",
    "\n",
    "    weighted_rating = (vote_count / (vote_count + min_vote_counts_m) * vote_average) + (\n",
    "        min_vote_counts_m / (min_vote_counts_m + vote_count) * mean_vote_average_C\n",
    "    )\n",
    "    \n",
    "    weighted_rating = round(weighted_rating, 1)\n",
    "    return weighted_rating"
   ]
  },
  {
   "cell_type": "code",
   "execution_count": 53,
   "id": "4b5083d3",
   "metadata": {},
   "outputs": [],
   "source": [
    "df_merged[\"weighted_rating\"] = df_merged.apply(\n",
    "    lambda movie: calculate_weighted_rating(\n",
    "        movie, min_vote_counts_m, mean_vote_average_C\n",
    "    ),\n",
    "    axis=1,\n",
    ")"
   ]
  },
  {
   "attachments": {},
   "cell_type": "markdown",
   "id": "b5f56ec0",
   "metadata": {},
   "source": [
    "### Export DataFrame to csv"
   ]
  },
  {
   "cell_type": "code",
   "execution_count": 54,
   "id": "b05ae9da",
   "metadata": {},
   "outputs": [],
   "source": [
    "folder_name = \"preprocessed_data\"\n",
    "\n",
    "if not os.path.exists(folder_name):\n",
    "    os.makedirs(folder_name)\n",
    "\n",
    "csv_file_path = os.path.join(folder_name, \"merged_metadata_keywords.csv\")\n",
    "df_merged.to_csv(csv_file_path, index=False)\n",
    "\n",
    "csv_file_path = os.path.join(folder_name, \"qualified_movies.csv\")\n",
    "df_qualified.to_csv(csv_file_path, index=False)"
   ]
  },
  {
   "cell_type": "code",
   "execution_count": null,
   "id": "9bbc4912",
   "metadata": {},
   "outputs": [],
   "source": []
  }
 ],
 "metadata": {
  "kernelspec": {
   "display_name": "rs",
   "language": "python",
   "name": "python3"
  },
  "language_info": {
   "codemirror_mode": {
    "name": "ipython",
    "version": 3
   },
   "file_extension": ".py",
   "mimetype": "text/x-python",
   "name": "python",
   "nbconvert_exporter": "python",
   "pygments_lexer": "ipython3",
   "version": "3.10.0"
  }
 },
 "nbformat": 4,
 "nbformat_minor": 5
}
